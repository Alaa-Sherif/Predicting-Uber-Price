{
 "cells": [
  {
   "cell_type": "markdown",
   "id": "3d40c8da",
   "metadata": {
    "papermill": {
     "duration": 0.075597,
     "end_time": "2021-12-17T13:24:46.076235",
     "exception": false,
     "start_time": "2021-12-17T13:24:46.000638",
     "status": "completed"
    },
    "tags": []
   },
   "source": [
    "<h1>Introduction</h1>\n",
    "This is a project for predicting Uber trip price. As usual, the dataset we have is noisy and needs lots of feature engineering, and preprocessing."
   ]
  },
  {
   "cell_type": "markdown",
   "id": "0e8face7",
   "metadata": {
    "papermill": {
     "duration": 0.068191,
     "end_time": "2021-12-17T13:24:46.212988",
     "exception": false,
     "start_time": "2021-12-17T13:24:46.144797",
     "status": "completed"
    },
    "tags": []
   },
   "source": [
    "Now let's start working on a dataset in the Notebook. The first step is to import the libraries and load data. After that we will take a basic understanding of data like its shape, sample, is there are any NULL values present in the dataset. Understanding the data is an important step for prediction or any machine learning project."
   ]
  },
  {
   "cell_type": "code",
   "execution_count": 1,
   "id": "dc47e808",
   "metadata": {
    "execution": {
     "iopub.execute_input": "2021-12-17T13:24:46.354240Z",
     "iopub.status.busy": "2021-12-17T13:24:46.352950Z",
     "iopub.status.idle": "2021-12-17T13:24:49.373069Z",
     "shell.execute_reply": "2021-12-17T13:24:49.371839Z",
     "shell.execute_reply.started": "2021-12-17T13:04:30.392789Z"
    },
    "papermill": {
     "duration": 3.092467,
     "end_time": "2021-12-17T13:24:49.373265",
     "exception": false,
     "start_time": "2021-12-17T13:24:46.280798",
     "status": "completed"
    },
    "tags": []
   },
   "outputs": [],
   "source": [
    "# Import nessesary liberaries\n",
    "import matplotlib.pyplot as plt \n",
    "import numpy as np\n",
    "%matplotlib inline\n",
    "import seaborn as sns\n",
    "import pandas as pd\n",
    "import plotly.express as px\n",
    "\n",
    "# from plotly.offline import init_notebook_mode\n",
    "# init_notebook_mode(connected=True)\n",
    "\n",
    "from matplotlib import rcParams\n",
    "rcParams['figure.figsize'] = 10,5\n",
    "\n",
    "from sklearn import ensemble\n",
    "import warnings\n",
    "warnings.filterwarnings(\"ignore\")\n",
    "\n",
    "# Default value of display.max_rows is 10 i.e. at max 10 rows will be printed.\n",
    "# Set it None to display all rows in the dataframe\n",
    "pd.set_option(\"display.max_columns\", None)"
   ]
  },
  {
   "cell_type": "markdown",
   "id": "1c45b419",
   "metadata": {
    "papermill": {
     "duration": 0.068557,
     "end_time": "2021-12-17T13:24:49.512122",
     "exception": false,
     "start_time": "2021-12-17T13:24:49.443565",
     "status": "completed"
    },
    "tags": []
   },
   "source": [
    "<h1>1. Load the Data </h1>"
   ]
  },
  {
   "cell_type": "code",
   "execution_count": 2,
   "id": "4115bde5",
   "metadata": {
    "execution": {
     "iopub.execute_input": "2021-12-17T13:24:49.652778Z",
     "iopub.status.busy": "2021-12-17T13:24:49.652076Z",
     "iopub.status.idle": "2021-12-17T13:24:58.482164Z",
     "shell.execute_reply": "2021-12-17T13:24:58.481317Z",
     "shell.execute_reply.started": "2021-12-17T13:04:33.113233Z"
    },
    "papermill": {
     "duration": 8.90223,
     "end_time": "2021-12-17T13:24:58.482339",
     "exception": false,
     "start_time": "2021-12-17T13:24:49.580109",
     "status": "completed"
    },
    "tags": []
   },
   "outputs": [],
   "source": [
    "uber_df = pd.read_csv(\"../input/uberdataset/UberDataSet.csv\")"
   ]
  },
  {
   "cell_type": "markdown",
   "id": "73ebaf32",
   "metadata": {
    "papermill": {
     "duration": 0.071957,
     "end_time": "2021-12-17T13:24:58.626318",
     "exception": false,
     "start_time": "2021-12-17T13:24:58.554361",
     "status": "completed"
    },
    "tags": []
   },
   "source": [
    "<h1>2. Data Assessing</h1>\n",
    "data assessing is the step in which we evaluate our data.\n",
    "<h3>In this step:</h3>\n",
    "<ol>\n",
    "    <li> We take a quick look inside our data and the columns.</li>\n",
    "    <li>Check if there are any missing values in the data so that we can handle them.</li>\n",
    "    <li>Check if there are duplicated values.</li>\n",
    "</ol>"
   ]
  },
  {
   "cell_type": "code",
   "execution_count": 3,
   "id": "0a22c9db",
   "metadata": {
    "execution": {
     "iopub.execute_input": "2021-12-17T13:24:58.767195Z",
     "iopub.status.busy": "2021-12-17T13:24:58.766467Z",
     "iopub.status.idle": "2021-12-17T13:24:58.830285Z",
     "shell.execute_reply": "2021-12-17T13:24:58.830854Z",
     "shell.execute_reply.started": "2021-12-17T13:04:39.211388Z"
    },
    "papermill": {
     "duration": 0.136358,
     "end_time": "2021-12-17T13:24:58.831055",
     "exception": false,
     "start_time": "2021-12-17T13:24:58.694697",
     "status": "completed"
    },
    "tags": []
   },
   "outputs": [
    {
     "data": {
      "text/html": [
       "<div>\n",
       "<style scoped>\n",
       "    .dataframe tbody tr th:only-of-type {\n",
       "        vertical-align: middle;\n",
       "    }\n",
       "\n",
       "    .dataframe tbody tr th {\n",
       "        vertical-align: top;\n",
       "    }\n",
       "\n",
       "    .dataframe thead th {\n",
       "        text-align: right;\n",
       "    }\n",
       "</style>\n",
       "<table border=\"1\" class=\"dataframe\">\n",
       "  <thead>\n",
       "    <tr style=\"text-align: right;\">\n",
       "      <th></th>\n",
       "      <th>Unnamed: 0</th>\n",
       "      <th>id</th>\n",
       "      <th>timestamp</th>\n",
       "      <th>hour</th>\n",
       "      <th>day</th>\n",
       "      <th>month</th>\n",
       "      <th>datetime</th>\n",
       "      <th>timezone</th>\n",
       "      <th>source</th>\n",
       "      <th>destination</th>\n",
       "      <th>cab_type</th>\n",
       "      <th>product_id</th>\n",
       "      <th>name</th>\n",
       "      <th>price</th>\n",
       "      <th>distance</th>\n",
       "      <th>surge_multiplier</th>\n",
       "      <th>latitude</th>\n",
       "      <th>longitude</th>\n",
       "      <th>temperature</th>\n",
       "      <th>apparentTemperature</th>\n",
       "      <th>short_summary</th>\n",
       "      <th>long_summary</th>\n",
       "      <th>precipIntensity</th>\n",
       "      <th>precipProbability</th>\n",
       "      <th>humidity</th>\n",
       "      <th>windSpeed</th>\n",
       "      <th>windGust</th>\n",
       "      <th>windGustTime</th>\n",
       "      <th>visibility</th>\n",
       "      <th>temperatureHigh</th>\n",
       "      <th>temperatureHighTime</th>\n",
       "      <th>temperatureLow</th>\n",
       "      <th>temperatureLowTime</th>\n",
       "      <th>apparentTemperatureHigh</th>\n",
       "      <th>apparentTemperatureHighTime</th>\n",
       "      <th>apparentTemperatureLow</th>\n",
       "      <th>apparentTemperatureLowTime</th>\n",
       "      <th>icon</th>\n",
       "      <th>dewPoint</th>\n",
       "      <th>pressure</th>\n",
       "      <th>windBearing</th>\n",
       "      <th>cloudCover</th>\n",
       "      <th>uvIndex</th>\n",
       "      <th>visibility.1</th>\n",
       "      <th>ozone</th>\n",
       "      <th>sunriseTime</th>\n",
       "      <th>sunsetTime</th>\n",
       "      <th>moonPhase</th>\n",
       "      <th>precipIntensityMax</th>\n",
       "      <th>uvIndexTime</th>\n",
       "      <th>temperatureMin</th>\n",
       "      <th>temperatureMinTime</th>\n",
       "      <th>temperatureMax</th>\n",
       "      <th>temperatureMaxTime</th>\n",
       "      <th>apparentTemperatureMin</th>\n",
       "      <th>apparentTemperatureMinTime</th>\n",
       "      <th>apparentTemperatureMax</th>\n",
       "      <th>apparentTemperatureMaxTime</th>\n",
       "    </tr>\n",
       "  </thead>\n",
       "  <tbody>\n",
       "    <tr>\n",
       "      <th>0</th>\n",
       "      <td>12</td>\n",
       "      <td>009e9c53-074d-43cf-aef2-0fbc7a47ed3d</td>\n",
       "      <td>1.543616e+09</td>\n",
       "      <td>22</td>\n",
       "      <td>30</td>\n",
       "      <td>11</td>\n",
       "      <td>2018-11-30 22:13:01</td>\n",
       "      <td>America/New_York</td>\n",
       "      <td>North End</td>\n",
       "      <td>West End</td>\n",
       "      <td>Uber</td>\n",
       "      <td>6f72dfc5-27f1-42e8-84db-ccc7a75f6969</td>\n",
       "      <td>UberXL</td>\n",
       "      <td>12.0</td>\n",
       "      <td>1.11</td>\n",
       "      <td>1.0</td>\n",
       "      <td>42.3647</td>\n",
       "      <td>-71.0542</td>\n",
       "      <td>40.13</td>\n",
       "      <td>38.08</td>\n",
       "      <td>Overcast</td>\n",
       "      <td>Mostly cloudy throughout the day.</td>\n",
       "      <td>0.0000</td>\n",
       "      <td>0.00</td>\n",
       "      <td>0.60</td>\n",
       "      <td>3.38</td>\n",
       "      <td>3.99</td>\n",
       "      <td>1543554000</td>\n",
       "      <td>9.833</td>\n",
       "      <td>42.52</td>\n",
       "      <td>1543600800</td>\n",
       "      <td>31.71</td>\n",
       "      <td>1543658400</td>\n",
       "      <td>40.53</td>\n",
       "      <td>1543611600</td>\n",
       "      <td>28.06</td>\n",
       "      <td>1543658400</td>\n",
       "      <td>cloudy</td>\n",
       "      <td>27.31</td>\n",
       "      <td>1017.16</td>\n",
       "      <td>281</td>\n",
       "      <td>1.00</td>\n",
       "      <td>0</td>\n",
       "      <td>9.833</td>\n",
       "      <td>281.8</td>\n",
       "      <td>1543578867</td>\n",
       "      <td>1543612470</td>\n",
       "      <td>0.79</td>\n",
       "      <td>0.0003</td>\n",
       "      <td>1543593600</td>\n",
       "      <td>28.79</td>\n",
       "      <td>1543579200</td>\n",
       "      <td>42.52</td>\n",
       "      <td>1543600800</td>\n",
       "      <td>26.41</td>\n",
       "      <td>1543575600</td>\n",
       "      <td>40.53</td>\n",
       "      <td>1543611600</td>\n",
       "    </tr>\n",
       "    <tr>\n",
       "      <th>1</th>\n",
       "      <td>13</td>\n",
       "      <td>23f145da-f0c1-4d1f-a184-496bc003a7db</td>\n",
       "      <td>1.544698e+09</td>\n",
       "      <td>10</td>\n",
       "      <td>13</td>\n",
       "      <td>12</td>\n",
       "      <td>2018-12-13 10:50:11</td>\n",
       "      <td>America/New_York</td>\n",
       "      <td>North End</td>\n",
       "      <td>West End</td>\n",
       "      <td>Uber</td>\n",
       "      <td>6c84fd89-3f11-4782-9b50-97c468b19529</td>\n",
       "      <td>Black</td>\n",
       "      <td>16.0</td>\n",
       "      <td>1.11</td>\n",
       "      <td>1.0</td>\n",
       "      <td>42.3647</td>\n",
       "      <td>-71.0542</td>\n",
       "      <td>20.38</td>\n",
       "      <td>20.38</td>\n",
       "      <td>Clear</td>\n",
       "      <td>Partly cloudy throughout the day.</td>\n",
       "      <td>0.0000</td>\n",
       "      <td>0.00</td>\n",
       "      <td>0.66</td>\n",
       "      <td>2.94</td>\n",
       "      <td>3.22</td>\n",
       "      <td>1544738400</td>\n",
       "      <td>9.831</td>\n",
       "      <td>33.83</td>\n",
       "      <td>1544731200</td>\n",
       "      <td>27.27</td>\n",
       "      <td>1544781600</td>\n",
       "      <td>32.85</td>\n",
       "      <td>1544734800</td>\n",
       "      <td>24.61</td>\n",
       "      <td>1544785200</td>\n",
       "      <td>clear-night</td>\n",
       "      <td>10.87</td>\n",
       "      <td>1031.51</td>\n",
       "      <td>2</td>\n",
       "      <td>0.03</td>\n",
       "      <td>0</td>\n",
       "      <td>9.831</td>\n",
       "      <td>327.3</td>\n",
       "      <td>1544702792</td>\n",
       "      <td>1544735599</td>\n",
       "      <td>0.21</td>\n",
       "      <td>0.0001</td>\n",
       "      <td>1544716800</td>\n",
       "      <td>18.29</td>\n",
       "      <td>1544688000</td>\n",
       "      <td>33.83</td>\n",
       "      <td>1544731200</td>\n",
       "      <td>13.79</td>\n",
       "      <td>1544688000</td>\n",
       "      <td>32.85</td>\n",
       "      <td>1544734800</td>\n",
       "    </tr>\n",
       "    <tr>\n",
       "      <th>2</th>\n",
       "      <td>14</td>\n",
       "      <td>357559cb-8c58-4278-a41a-e33b2e0997a3</td>\n",
       "      <td>1.544729e+09</td>\n",
       "      <td>19</td>\n",
       "      <td>13</td>\n",
       "      <td>12</td>\n",
       "      <td>2018-12-13 19:15:03</td>\n",
       "      <td>America/New_York</td>\n",
       "      <td>North End</td>\n",
       "      <td>West End</td>\n",
       "      <td>Uber</td>\n",
       "      <td>55c66225-fbe7-4fd5-9072-eab1ece5e23e</td>\n",
       "      <td>UberX</td>\n",
       "      <td>7.5</td>\n",
       "      <td>1.11</td>\n",
       "      <td>1.0</td>\n",
       "      <td>42.3647</td>\n",
       "      <td>-71.0542</td>\n",
       "      <td>32.85</td>\n",
       "      <td>32.85</td>\n",
       "      <td>Mostly Cloudy</td>\n",
       "      <td>Partly cloudy throughout the day.</td>\n",
       "      <td>0.0000</td>\n",
       "      <td>0.00</td>\n",
       "      <td>0.56</td>\n",
       "      <td>2.65</td>\n",
       "      <td>3.83</td>\n",
       "      <td>1544738400</td>\n",
       "      <td>9.959</td>\n",
       "      <td>33.83</td>\n",
       "      <td>1544731200</td>\n",
       "      <td>27.27</td>\n",
       "      <td>1544781600</td>\n",
       "      <td>32.85</td>\n",
       "      <td>1544734800</td>\n",
       "      <td>24.61</td>\n",
       "      <td>1544785200</td>\n",
       "      <td>partly-cloudy-day</td>\n",
       "      <td>18.66</td>\n",
       "      <td>1033.65</td>\n",
       "      <td>76</td>\n",
       "      <td>0.64</td>\n",
       "      <td>0</td>\n",
       "      <td>9.959</td>\n",
       "      <td>330.8</td>\n",
       "      <td>1544702792</td>\n",
       "      <td>1544735599</td>\n",
       "      <td>0.21</td>\n",
       "      <td>0.0001</td>\n",
       "      <td>1544716800</td>\n",
       "      <td>18.29</td>\n",
       "      <td>1544688000</td>\n",
       "      <td>33.83</td>\n",
       "      <td>1544731200</td>\n",
       "      <td>13.79</td>\n",
       "      <td>1544688000</td>\n",
       "      <td>32.85</td>\n",
       "      <td>1544734800</td>\n",
       "    </tr>\n",
       "    <tr>\n",
       "      <th>3</th>\n",
       "      <td>15</td>\n",
       "      <td>50ef1165-9d23-416c-a65c-18906207b295</td>\n",
       "      <td>1.545005e+09</td>\n",
       "      <td>23</td>\n",
       "      <td>16</td>\n",
       "      <td>12</td>\n",
       "      <td>2018-12-16 23:55:11</td>\n",
       "      <td>America/New_York</td>\n",
       "      <td>North End</td>\n",
       "      <td>West End</td>\n",
       "      <td>Uber</td>\n",
       "      <td>9a0e7b09-b92b-4c41-9779-2ad22b4d779d</td>\n",
       "      <td>WAV</td>\n",
       "      <td>7.5</td>\n",
       "      <td>1.11</td>\n",
       "      <td>1.0</td>\n",
       "      <td>42.3647</td>\n",
       "      <td>-71.0542</td>\n",
       "      <td>41.29</td>\n",
       "      <td>36.01</td>\n",
       "      <td>Light Rain</td>\n",
       "      <td>Rain throughout the day.</td>\n",
       "      <td>0.0567</td>\n",
       "      <td>0.94</td>\n",
       "      <td>0.86</td>\n",
       "      <td>8.30</td>\n",
       "      <td>8.30</td>\n",
       "      <td>1545015600</td>\n",
       "      <td>4.054</td>\n",
       "      <td>43.83</td>\n",
       "      <td>1544990400</td>\n",
       "      <td>34.25</td>\n",
       "      <td>1545044400</td>\n",
       "      <td>38.38</td>\n",
       "      <td>1544986800</td>\n",
       "      <td>28.30</td>\n",
       "      <td>1545044400</td>\n",
       "      <td>rain</td>\n",
       "      <td>37.56</td>\n",
       "      <td>1012.72</td>\n",
       "      <td>57</td>\n",
       "      <td>1.00</td>\n",
       "      <td>0</td>\n",
       "      <td>4.054</td>\n",
       "      <td>325.3</td>\n",
       "      <td>1544962119</td>\n",
       "      <td>1544994839</td>\n",
       "      <td>0.30</td>\n",
       "      <td>0.1252</td>\n",
       "      <td>1544979600</td>\n",
       "      <td>39.22</td>\n",
       "      <td>1544954400</td>\n",
       "      <td>43.83</td>\n",
       "      <td>1544990400</td>\n",
       "      <td>33.98</td>\n",
       "      <td>1545019200</td>\n",
       "      <td>38.38</td>\n",
       "      <td>1544986800</td>\n",
       "    </tr>\n",
       "    <tr>\n",
       "      <th>4</th>\n",
       "      <td>16</td>\n",
       "      <td>91c4861c-1780-42b0-bca1-bbd64a422cc3</td>\n",
       "      <td>1.544748e+09</td>\n",
       "      <td>0</td>\n",
       "      <td>14</td>\n",
       "      <td>12</td>\n",
       "      <td>2018-12-14 00:40:07</td>\n",
       "      <td>America/New_York</td>\n",
       "      <td>North End</td>\n",
       "      <td>West End</td>\n",
       "      <td>Uber</td>\n",
       "      <td>6d318bcc-22a3-4af6-bddd-b409bfce1546</td>\n",
       "      <td>Black SUV</td>\n",
       "      <td>26.0</td>\n",
       "      <td>1.11</td>\n",
       "      <td>1.0</td>\n",
       "      <td>42.3647</td>\n",
       "      <td>-71.0542</td>\n",
       "      <td>31.25</td>\n",
       "      <td>31.25</td>\n",
       "      <td>Overcast</td>\n",
       "      <td>Partly cloudy throughout the day.</td>\n",
       "      <td>0.0000</td>\n",
       "      <td>0.00</td>\n",
       "      <td>0.64</td>\n",
       "      <td>2.62</td>\n",
       "      <td>3.54</td>\n",
       "      <td>1544738400</td>\n",
       "      <td>10.000</td>\n",
       "      <td>33.83</td>\n",
       "      <td>1544731200</td>\n",
       "      <td>27.27</td>\n",
       "      <td>1544781600</td>\n",
       "      <td>32.85</td>\n",
       "      <td>1544734800</td>\n",
       "      <td>24.61</td>\n",
       "      <td>1544785200</td>\n",
       "      <td>cloudy</td>\n",
       "      <td>20.53</td>\n",
       "      <td>1035.06</td>\n",
       "      <td>173</td>\n",
       "      <td>0.91</td>\n",
       "      <td>0</td>\n",
       "      <td>10.000</td>\n",
       "      <td>326.7</td>\n",
       "      <td>1544702792</td>\n",
       "      <td>1544735599</td>\n",
       "      <td>0.21</td>\n",
       "      <td>0.0001</td>\n",
       "      <td>1544716800</td>\n",
       "      <td>18.29</td>\n",
       "      <td>1544688000</td>\n",
       "      <td>33.83</td>\n",
       "      <td>1544731200</td>\n",
       "      <td>13.79</td>\n",
       "      <td>1544688000</td>\n",
       "      <td>32.85</td>\n",
       "      <td>1544734800</td>\n",
       "    </tr>\n",
       "  </tbody>\n",
       "</table>\n",
       "</div>"
      ],
      "text/plain": [
       "   Unnamed: 0                                    id     timestamp  hour  day  \\\n",
       "0          12  009e9c53-074d-43cf-aef2-0fbc7a47ed3d  1.543616e+09    22   30   \n",
       "1          13  23f145da-f0c1-4d1f-a184-496bc003a7db  1.544698e+09    10   13   \n",
       "2          14  357559cb-8c58-4278-a41a-e33b2e0997a3  1.544729e+09    19   13   \n",
       "3          15  50ef1165-9d23-416c-a65c-18906207b295  1.545005e+09    23   16   \n",
       "4          16  91c4861c-1780-42b0-bca1-bbd64a422cc3  1.544748e+09     0   14   \n",
       "\n",
       "   month             datetime          timezone     source destination  \\\n",
       "0     11  2018-11-30 22:13:01  America/New_York  North End    West End   \n",
       "1     12  2018-12-13 10:50:11  America/New_York  North End    West End   \n",
       "2     12  2018-12-13 19:15:03  America/New_York  North End    West End   \n",
       "3     12  2018-12-16 23:55:11  America/New_York  North End    West End   \n",
       "4     12  2018-12-14 00:40:07  America/New_York  North End    West End   \n",
       "\n",
       "  cab_type                            product_id       name  price  distance  \\\n",
       "0     Uber  6f72dfc5-27f1-42e8-84db-ccc7a75f6969     UberXL   12.0      1.11   \n",
       "1     Uber  6c84fd89-3f11-4782-9b50-97c468b19529      Black   16.0      1.11   \n",
       "2     Uber  55c66225-fbe7-4fd5-9072-eab1ece5e23e      UberX    7.5      1.11   \n",
       "3     Uber  9a0e7b09-b92b-4c41-9779-2ad22b4d779d        WAV    7.5      1.11   \n",
       "4     Uber  6d318bcc-22a3-4af6-bddd-b409bfce1546  Black SUV   26.0      1.11   \n",
       "\n",
       "   surge_multiplier  latitude  longitude  temperature  apparentTemperature  \\\n",
       "0               1.0   42.3647   -71.0542        40.13                38.08   \n",
       "1               1.0   42.3647   -71.0542        20.38                20.38   \n",
       "2               1.0   42.3647   -71.0542        32.85                32.85   \n",
       "3               1.0   42.3647   -71.0542        41.29                36.01   \n",
       "4               1.0   42.3647   -71.0542        31.25                31.25   \n",
       "\n",
       "     short_summary                         long_summary  precipIntensity  \\\n",
       "0        Overcast    Mostly cloudy throughout the day.            0.0000   \n",
       "1           Clear    Partly cloudy throughout the day.            0.0000   \n",
       "2   Mostly Cloudy    Partly cloudy throughout the day.            0.0000   \n",
       "3      Light Rain             Rain throughout the day.            0.0567   \n",
       "4        Overcast    Partly cloudy throughout the day.            0.0000   \n",
       "\n",
       "   precipProbability  humidity  windSpeed  windGust  windGustTime  visibility  \\\n",
       "0               0.00      0.60       3.38      3.99    1543554000       9.833   \n",
       "1               0.00      0.66       2.94      3.22    1544738400       9.831   \n",
       "2               0.00      0.56       2.65      3.83    1544738400       9.959   \n",
       "3               0.94      0.86       8.30      8.30    1545015600       4.054   \n",
       "4               0.00      0.64       2.62      3.54    1544738400      10.000   \n",
       "\n",
       "   temperatureHigh  temperatureHighTime  temperatureLow  temperatureLowTime  \\\n",
       "0            42.52           1543600800           31.71          1543658400   \n",
       "1            33.83           1544731200           27.27          1544781600   \n",
       "2            33.83           1544731200           27.27          1544781600   \n",
       "3            43.83           1544990400           34.25          1545044400   \n",
       "4            33.83           1544731200           27.27          1544781600   \n",
       "\n",
       "   apparentTemperatureHigh  apparentTemperatureHighTime  \\\n",
       "0                    40.53                   1543611600   \n",
       "1                    32.85                   1544734800   \n",
       "2                    32.85                   1544734800   \n",
       "3                    38.38                   1544986800   \n",
       "4                    32.85                   1544734800   \n",
       "\n",
       "   apparentTemperatureLow  apparentTemperatureLowTime                 icon  \\\n",
       "0                   28.06                  1543658400              cloudy    \n",
       "1                   24.61                  1544785200         clear-night    \n",
       "2                   24.61                  1544785200   partly-cloudy-day    \n",
       "3                   28.30                  1545044400                rain    \n",
       "4                   24.61                  1544785200              cloudy    \n",
       "\n",
       "   dewPoint  pressure  windBearing  cloudCover  uvIndex  visibility.1  ozone  \\\n",
       "0     27.31   1017.16          281        1.00        0         9.833  281.8   \n",
       "1     10.87   1031.51            2        0.03        0         9.831  327.3   \n",
       "2     18.66   1033.65           76        0.64        0         9.959  330.8   \n",
       "3     37.56   1012.72           57        1.00        0         4.054  325.3   \n",
       "4     20.53   1035.06          173        0.91        0        10.000  326.7   \n",
       "\n",
       "   sunriseTime  sunsetTime  moonPhase  precipIntensityMax  uvIndexTime  \\\n",
       "0   1543578867  1543612470       0.79              0.0003   1543593600   \n",
       "1   1544702792  1544735599       0.21              0.0001   1544716800   \n",
       "2   1544702792  1544735599       0.21              0.0001   1544716800   \n",
       "3   1544962119  1544994839       0.30              0.1252   1544979600   \n",
       "4   1544702792  1544735599       0.21              0.0001   1544716800   \n",
       "\n",
       "   temperatureMin  temperatureMinTime  temperatureMax  temperatureMaxTime  \\\n",
       "0           28.79          1543579200           42.52          1543600800   \n",
       "1           18.29          1544688000           33.83          1544731200   \n",
       "2           18.29          1544688000           33.83          1544731200   \n",
       "3           39.22          1544954400           43.83          1544990400   \n",
       "4           18.29          1544688000           33.83          1544731200   \n",
       "\n",
       "   apparentTemperatureMin  apparentTemperatureMinTime  apparentTemperatureMax  \\\n",
       "0                   26.41                  1543575600                   40.53   \n",
       "1                   13.79                  1544688000                   32.85   \n",
       "2                   13.79                  1544688000                   32.85   \n",
       "3                   33.98                  1545019200                   38.38   \n",
       "4                   13.79                  1544688000                   32.85   \n",
       "\n",
       "   apparentTemperatureMaxTime  \n",
       "0                  1543611600  \n",
       "1                  1544734800  \n",
       "2                  1544734800  \n",
       "3                  1544986800  \n",
       "4                  1544734800  "
      ]
     },
     "execution_count": 3,
     "metadata": {},
     "output_type": "execute_result"
    }
   ],
   "source": [
    "uber_df.head(5)"
   ]
  },
  {
   "cell_type": "code",
   "execution_count": 4,
   "id": "d23d545c",
   "metadata": {
    "execution": {
     "iopub.execute_input": "2021-12-17T13:24:58.975115Z",
     "iopub.status.busy": "2021-12-17T13:24:58.974439Z",
     "iopub.status.idle": "2021-12-17T13:24:58.981497Z",
     "shell.execute_reply": "2021-12-17T13:24:58.980915Z",
     "shell.execute_reply.started": "2021-12-17T13:04:39.266337Z"
    },
    "papermill": {
     "duration": 0.080456,
     "end_time": "2021-12-17T13:24:58.981662",
     "exception": false,
     "start_time": "2021-12-17T13:24:58.901206",
     "status": "completed"
    },
    "tags": []
   },
   "outputs": [
    {
     "data": {
      "text/plain": [
       "(385663, 58)"
      ]
     },
     "execution_count": 4,
     "metadata": {},
     "output_type": "execute_result"
    }
   ],
   "source": [
    "uber_df.shape"
   ]
  },
  {
   "cell_type": "markdown",
   "id": "0c6bcade",
   "metadata": {
    "papermill": {
     "duration": 0.069444,
     "end_time": "2021-12-17T13:24:59.123384",
     "exception": false,
     "start_time": "2021-12-17T13:24:59.053940",
     "status": "completed"
    },
    "tags": []
   },
   "source": [
    "<h4>The dataset has:</h4>\n",
    "<ul>\n",
    "    <li>385663 rows</li>\n",
    "    <li>58 columns (no. of features)</li>\n",
    "</ul>"
   ]
  },
  {
   "cell_type": "code",
   "execution_count": 5,
   "id": "3f375f78",
   "metadata": {
    "execution": {
     "iopub.execute_input": "2021-12-17T13:24:59.274234Z",
     "iopub.status.busy": "2021-12-17T13:24:59.273351Z",
     "iopub.status.idle": "2021-12-17T13:24:59.805643Z",
     "shell.execute_reply": "2021-12-17T13:24:59.804963Z",
     "shell.execute_reply.started": "2021-12-17T13:04:39.273767Z"
    },
    "papermill": {
     "duration": 0.610492,
     "end_time": "2021-12-17T13:24:59.805855",
     "exception": false,
     "start_time": "2021-12-17T13:24:59.195363",
     "status": "completed"
    },
    "tags": []
   },
   "outputs": [
    {
     "name": "stdout",
     "output_type": "stream",
     "text": [
      "<class 'pandas.core.frame.DataFrame'>\n",
      "RangeIndex: 385663 entries, 0 to 385662\n",
      "Data columns (total 58 columns):\n",
      " #   Column                       Non-Null Count   Dtype  \n",
      "---  ------                       --------------   -----  \n",
      " 0   Unnamed: 0                   385663 non-null  int64  \n",
      " 1   id                           385663 non-null  object \n",
      " 2   timestamp                    385663 non-null  float64\n",
      " 3   hour                         385663 non-null  int64  \n",
      " 4   day                          385663 non-null  int64  \n",
      " 5   month                        385663 non-null  int64  \n",
      " 6   datetime                     385663 non-null  object \n",
      " 7   timezone                     385663 non-null  object \n",
      " 8   source                       385663 non-null  object \n",
      " 9   destination                  385663 non-null  object \n",
      " 10  cab_type                     385663 non-null  object \n",
      " 11  product_id                   385663 non-null  object \n",
      " 12  name                         385663 non-null  object \n",
      " 13  price                        330568 non-null  float64\n",
      " 14  distance                     385663 non-null  float64\n",
      " 15  surge_multiplier             385663 non-null  float64\n",
      " 16  latitude                     385663 non-null  float64\n",
      " 17  longitude                    385663 non-null  float64\n",
      " 18  temperature                  385663 non-null  float64\n",
      " 19  apparentTemperature          385663 non-null  float64\n",
      " 20  short_summary                385663 non-null  object \n",
      " 21  long_summary                 385663 non-null  object \n",
      " 22  precipIntensity              385663 non-null  float64\n",
      " 23  precipProbability            385663 non-null  float64\n",
      " 24  humidity                     385663 non-null  float64\n",
      " 25  windSpeed                    385663 non-null  float64\n",
      " 26  windGust                     385663 non-null  float64\n",
      " 27  windGustTime                 385663 non-null  int64  \n",
      " 28  visibility                   385663 non-null  float64\n",
      " 29  temperatureHigh              385663 non-null  float64\n",
      " 30  temperatureHighTime          385663 non-null  int64  \n",
      " 31  temperatureLow               385663 non-null  float64\n",
      " 32  temperatureLowTime           385663 non-null  int64  \n",
      " 33  apparentTemperatureHigh      385663 non-null  float64\n",
      " 34  apparentTemperatureHighTime  385663 non-null  int64  \n",
      " 35  apparentTemperatureLow       385663 non-null  float64\n",
      " 36  apparentTemperatureLowTime   385663 non-null  int64  \n",
      " 37  icon                         385663 non-null  object \n",
      " 38  dewPoint                     385663 non-null  float64\n",
      " 39  pressure                     385663 non-null  float64\n",
      " 40  windBearing                  385663 non-null  int64  \n",
      " 41  cloudCover                   385663 non-null  float64\n",
      " 42  uvIndex                      385663 non-null  int64  \n",
      " 43  visibility.1                 385663 non-null  float64\n",
      " 44  ozone                        385663 non-null  float64\n",
      " 45  sunriseTime                  385663 non-null  int64  \n",
      " 46  sunsetTime                   385663 non-null  int64  \n",
      " 47  moonPhase                    385663 non-null  float64\n",
      " 48  precipIntensityMax           385663 non-null  float64\n",
      " 49  uvIndexTime                  385663 non-null  int64  \n",
      " 50  temperatureMin               385663 non-null  float64\n",
      " 51  temperatureMinTime           385663 non-null  int64  \n",
      " 52  temperatureMax               385663 non-null  float64\n",
      " 53  temperatureMaxTime           385663 non-null  int64  \n",
      " 54  apparentTemperatureMin       385663 non-null  float64\n",
      " 55  apparentTemperatureMinTime   385663 non-null  int64  \n",
      " 56  apparentTemperatureMax       385663 non-null  float64\n",
      " 57  apparentTemperatureMaxTime   385663 non-null  int64  \n",
      "dtypes: float64(29), int64(18), object(11)\n",
      "memory usage: 170.7+ MB\n"
     ]
    }
   ],
   "source": [
    "uber_df.info()"
   ]
  },
  {
   "cell_type": "code",
   "execution_count": 6,
   "id": "e19b28e3",
   "metadata": {
    "execution": {
     "iopub.execute_input": "2021-12-17T13:24:59.957944Z",
     "iopub.status.busy": "2021-12-17T13:24:59.957228Z",
     "iopub.status.idle": "2021-12-17T13:24:59.982305Z",
     "shell.execute_reply": "2021-12-17T13:24:59.982966Z",
     "shell.execute_reply.started": "2021-12-17T13:04:39.533568Z"
    },
    "papermill": {
     "duration": 0.103037,
     "end_time": "2021-12-17T13:24:59.983176",
     "exception": false,
     "start_time": "2021-12-17T13:24:59.880139",
     "status": "completed"
    },
    "tags": []
   },
   "outputs": [
    {
     "data": {
      "text/plain": [
       "count    330568.000000\n",
       "mean         15.795343\n",
       "std           8.560300\n",
       "min           4.500000\n",
       "25%           9.000000\n",
       "50%          12.500000\n",
       "75%          21.500000\n",
       "max          89.500000\n",
       "Name: price, dtype: float64"
      ]
     },
     "execution_count": 6,
     "metadata": {},
     "output_type": "execute_result"
    }
   ],
   "source": [
    "uber_df['price'].describe()"
   ]
  },
  {
   "cell_type": "code",
   "execution_count": 7,
   "id": "bc7859be",
   "metadata": {
    "execution": {
     "iopub.execute_input": "2021-12-17T13:25:00.131797Z",
     "iopub.status.busy": "2021-12-17T13:25:00.131044Z",
     "iopub.status.idle": "2021-12-17T13:25:00.644790Z",
     "shell.execute_reply": "2021-12-17T13:25:00.645438Z",
     "shell.execute_reply.started": "2021-12-17T13:04:39.560710Z"
    },
    "papermill": {
     "duration": 0.589457,
     "end_time": "2021-12-17T13:25:00.645639",
     "exception": false,
     "start_time": "2021-12-17T13:25:00.056182",
     "status": "completed"
    },
    "tags": []
   },
   "outputs": [
    {
     "data": {
      "text/plain": [
       "Unnamed: 0                         0\n",
       "id                                 0\n",
       "timestamp                          0\n",
       "hour                               0\n",
       "day                                0\n",
       "month                              0\n",
       "datetime                           0\n",
       "timezone                           0\n",
       "source                             0\n",
       "destination                        0\n",
       "cab_type                           0\n",
       "product_id                         0\n",
       "name                               0\n",
       "price                          55095\n",
       "distance                           0\n",
       "surge_multiplier                   0\n",
       "latitude                           0\n",
       "longitude                          0\n",
       "temperature                        0\n",
       "apparentTemperature                0\n",
       "short_summary                      0\n",
       "long_summary                       0\n",
       "precipIntensity                    0\n",
       "precipProbability                  0\n",
       "humidity                           0\n",
       "windSpeed                          0\n",
       "windGust                           0\n",
       "windGustTime                       0\n",
       "visibility                         0\n",
       "temperatureHigh                    0\n",
       "temperatureHighTime                0\n",
       "temperatureLow                     0\n",
       "temperatureLowTime                 0\n",
       "apparentTemperatureHigh            0\n",
       "apparentTemperatureHighTime        0\n",
       "apparentTemperatureLow             0\n",
       "apparentTemperatureLowTime         0\n",
       "icon                               0\n",
       "dewPoint                           0\n",
       "pressure                           0\n",
       "windBearing                        0\n",
       "cloudCover                         0\n",
       "uvIndex                            0\n",
       "visibility.1                       0\n",
       "ozone                              0\n",
       "sunriseTime                        0\n",
       "sunsetTime                         0\n",
       "moonPhase                          0\n",
       "precipIntensityMax                 0\n",
       "uvIndexTime                        0\n",
       "temperatureMin                     0\n",
       "temperatureMinTime                 0\n",
       "temperatureMax                     0\n",
       "temperatureMaxTime                 0\n",
       "apparentTemperatureMin             0\n",
       "apparentTemperatureMinTime         0\n",
       "apparentTemperatureMax             0\n",
       "apparentTemperatureMaxTime         0\n",
       "dtype: int64"
      ]
     },
     "execution_count": 7,
     "metadata": {},
     "output_type": "execute_result"
    }
   ],
   "source": [
    "# Check for missing values\n",
    "uber_df.isnull().sum()"
   ]
  },
  {
   "cell_type": "markdown",
   "id": "c17268d8",
   "metadata": {
    "papermill": {
     "duration": 0.072304,
     "end_time": "2021-12-17T13:25:00.792974",
     "exception": false,
     "start_time": "2021-12-17T13:25:00.720670",
     "status": "completed"
    },
    "tags": []
   },
   "source": [
    "<h4>The price feature has 55095 missing values</h4>"
   ]
  },
  {
   "cell_type": "code",
   "execution_count": 8,
   "id": "a4a2f9ec",
   "metadata": {
    "execution": {
     "iopub.execute_input": "2021-12-17T13:25:00.940949Z",
     "iopub.status.busy": "2021-12-17T13:25:00.940163Z",
     "iopub.status.idle": "2021-12-17T13:25:01.725488Z",
     "shell.execute_reply": "2021-12-17T13:25:01.726015Z",
     "shell.execute_reply.started": "2021-12-17T13:04:39.793215Z"
    },
    "papermill": {
     "duration": 0.860865,
     "end_time": "2021-12-17T13:25:01.726225",
     "exception": false,
     "start_time": "2021-12-17T13:25:00.865360",
     "status": "completed"
    },
    "tags": []
   },
   "outputs": [
    {
     "data": {
      "text/plain": [
       "Unnamed: 0                     385663\n",
       "id                             385663\n",
       "timestamp                       32775\n",
       "hour                               24\n",
       "day                                17\n",
       "month                               2\n",
       "datetime                        30346\n",
       "timezone                            1\n",
       "source                             12\n",
       "destination                        12\n",
       "cab_type                            1\n",
       "product_id                          7\n",
       "name                                7\n",
       "price                             127\n",
       "distance                          422\n",
       "surge_multiplier                    1\n",
       "latitude                           11\n",
       "longitude                          12\n",
       "temperature                       308\n",
       "apparentTemperature               319\n",
       "short_summary                       9\n",
       "long_summary                       11\n",
       "precipIntensity                    63\n",
       "precipProbability                  29\n",
       "humidity                           51\n",
       "windSpeed                         291\n",
       "windGust                          286\n",
       "windGustTime                       25\n",
       "visibility                        227\n",
       "temperatureHigh                   129\n",
       "temperatureHighTime                23\n",
       "temperatureLow                    133\n",
       "temperatureLowTime                 31\n",
       "apparentTemperatureHigh           124\n",
       "apparentTemperatureHighTime        27\n",
       "apparentTemperatureLow            136\n",
       "apparentTemperatureLowTime         32\n",
       "icon                                7\n",
       "dewPoint                          313\n",
       "pressure                          316\n",
       "windBearing                       195\n",
       "cloudCover                         83\n",
       "uvIndex                             3\n",
       "visibility.1                      227\n",
       "ozone                             274\n",
       "sunriseTime                       110\n",
       "sunsetTime                        114\n",
       "moonPhase                          18\n",
       "precipIntensityMax                 65\n",
       "uvIndexTime                        20\n",
       "temperatureMin                    131\n",
       "temperatureMinTime                 25\n",
       "temperatureMax                    128\n",
       "temperatureMaxTime                 23\n",
       "apparentTemperatureMin            137\n",
       "apparentTemperatureMinTime         29\n",
       "apparentTemperatureMax            125\n",
       "apparentTemperatureMaxTime         27\n",
       "dtype: int64"
      ]
     },
     "execution_count": 8,
     "metadata": {},
     "output_type": "execute_result"
    }
   ],
   "source": [
    "#Check for unique values in each column\n",
    "uber_df.nunique()"
   ]
  },
  {
   "cell_type": "markdown",
   "id": "f29eab5d",
   "metadata": {
    "papermill": {
     "duration": 0.072048,
     "end_time": "2021-12-17T13:25:01.870514",
     "exception": false,
     "start_time": "2021-12-17T13:25:01.798466",
     "status": "completed"
    },
    "tags": []
   },
   "source": [
    "<h4>Since there is only 1 value in columns timezone, cab_type and surge_multiplier, so I will drop them.</h4>"
   ]
  },
  {
   "cell_type": "code",
   "execution_count": 9,
   "id": "e0e161e7",
   "metadata": {
    "execution": {
     "iopub.execute_input": "2021-12-17T13:25:02.089558Z",
     "iopub.status.busy": "2021-12-17T13:25:02.088372Z",
     "iopub.status.idle": "2021-12-17T13:25:02.093079Z",
     "shell.execute_reply": "2021-12-17T13:25:02.092436Z",
     "shell.execute_reply.started": "2021-12-17T13:04:40.412051Z"
    },
    "papermill": {
     "duration": 0.148947,
     "end_time": "2021-12-17T13:25:02.093244",
     "exception": false,
     "start_time": "2021-12-17T13:25:01.944297",
     "status": "completed"
    },
    "tags": []
   },
   "outputs": [
    {
     "data": {
      "text/plain": [
       "UberXL       55096\n",
       "WAV          55096\n",
       "Black SUV    55096\n",
       "Black        55095\n",
       "Taxi         55095\n",
       "UberX        55094\n",
       "UberPool     55091\n",
       "Name: name, dtype: int64"
      ]
     },
     "execution_count": 9,
     "metadata": {},
     "output_type": "execute_result"
    }
   ],
   "source": [
    "uber_df.name.value_counts()"
   ]
  },
  {
   "cell_type": "markdown",
   "id": "e1bbc747",
   "metadata": {
    "papermill": {
     "duration": 0.072416,
     "end_time": "2021-12-17T13:25:02.238281",
     "exception": false,
     "start_time": "2021-12-17T13:25:02.165865",
     "status": "completed"
    },
    "tags": []
   },
   "source": [
    "<h4>Notice that the \"name\" feature represents the type of the service</h4>"
   ]
  },
  {
   "cell_type": "code",
   "execution_count": 10,
   "id": "c631e098",
   "metadata": {
    "execution": {
     "iopub.execute_input": "2021-12-17T13:25:02.457567Z",
     "iopub.status.busy": "2021-12-17T13:25:02.453527Z",
     "iopub.status.idle": "2021-12-17T13:25:02.462587Z",
     "shell.execute_reply": "2021-12-17T13:25:02.461735Z",
     "shell.execute_reply.started": "2021-12-17T13:04:40.449900Z"
    },
    "papermill": {
     "duration": 0.151297,
     "end_time": "2021-12-17T13:25:02.462783",
     "exception": false,
     "start_time": "2021-12-17T13:25:02.311486",
     "status": "completed"
    },
    "tags": []
   },
   "outputs": [
    {
     "data": {
      "text/plain": [
       " cloudy                  121479\n",
       " partly-cloudy-night      87782\n",
       " partly-cloudy-day        64269\n",
       " rain                     58602\n",
       " clear-night              33595\n",
       " clear-day                14878\n",
       " fog                       5058\n",
       "Name: icon, dtype: int64"
      ]
     },
     "execution_count": 10,
     "metadata": {},
     "output_type": "execute_result"
    }
   ],
   "source": [
    "uber_df.icon.value_counts()"
   ]
  },
  {
   "cell_type": "markdown",
   "id": "ddaa3fd6",
   "metadata": {
    "papermill": {
     "duration": 0.073024,
     "end_time": "2021-12-17T13:25:02.611028",
     "exception": false,
     "start_time": "2021-12-17T13:25:02.538004",
     "status": "completed"
    },
    "tags": []
   },
   "source": [
    "<h4>The 'icon' feature represents weather conditions.</h4>"
   ]
  },
  {
   "cell_type": "code",
   "execution_count": 11,
   "id": "269ec4d1",
   "metadata": {
    "execution": {
     "iopub.execute_input": "2021-12-17T13:25:02.765979Z",
     "iopub.status.busy": "2021-12-17T13:25:02.764845Z",
     "iopub.status.idle": "2021-12-17T13:25:04.014158Z",
     "shell.execute_reply": "2021-12-17T13:25:04.013559Z",
     "shell.execute_reply.started": "2021-12-17T13:04:40.487378Z"
    },
    "papermill": {
     "duration": 1.330788,
     "end_time": "2021-12-17T13:25:04.014326",
     "exception": false,
     "start_time": "2021-12-17T13:25:02.683538",
     "status": "completed"
    },
    "tags": []
   },
   "outputs": [
    {
     "data": {
      "text/plain": [
       "0"
      ]
     },
     "execution_count": 11,
     "metadata": {},
     "output_type": "execute_result"
    }
   ],
   "source": [
    "#Check for duplicated values\n",
    "uber_df.duplicated().sum()"
   ]
  },
  {
   "cell_type": "code",
   "execution_count": 12,
   "id": "f463403b",
   "metadata": {
    "execution": {
     "iopub.execute_input": "2021-12-17T13:25:04.169000Z",
     "iopub.status.busy": "2021-12-17T13:25:04.168207Z",
     "iopub.status.idle": "2021-12-17T13:25:04.171029Z",
     "shell.execute_reply": "2021-12-17T13:25:04.171525Z",
     "shell.execute_reply.started": "2021-12-17T13:04:41.492685Z"
    },
    "papermill": {
     "duration": 0.082431,
     "end_time": "2021-12-17T13:25:04.171717",
     "exception": false,
     "start_time": "2021-12-17T13:25:04.089286",
     "status": "completed"
    },
    "tags": []
   },
   "outputs": [
    {
     "data": {
      "text/plain": [
       "Index(['Unnamed: 0', 'id', 'timestamp', 'hour', 'day', 'month', 'datetime',\n",
       "       'timezone', 'source', 'destination', 'cab_type', 'product_id', 'name',\n",
       "       'price', 'distance', 'surge_multiplier', 'latitude', 'longitude',\n",
       "       'temperature', 'apparentTemperature', 'short_summary', 'long_summary',\n",
       "       'precipIntensity', 'precipProbability', 'humidity', 'windSpeed',\n",
       "       'windGust', 'windGustTime', 'visibility', 'temperatureHigh',\n",
       "       'temperatureHighTime', 'temperatureLow', 'temperatureLowTime',\n",
       "       'apparentTemperatureHigh', 'apparentTemperatureHighTime',\n",
       "       'apparentTemperatureLow', 'apparentTemperatureLowTime', 'icon',\n",
       "       'dewPoint', 'pressure', 'windBearing', 'cloudCover', 'uvIndex',\n",
       "       'visibility.1', 'ozone', 'sunriseTime', 'sunsetTime', 'moonPhase',\n",
       "       'precipIntensityMax', 'uvIndexTime', 'temperatureMin',\n",
       "       'temperatureMinTime', 'temperatureMax', 'temperatureMaxTime',\n",
       "       'apparentTemperatureMin', 'apparentTemperatureMinTime',\n",
       "       'apparentTemperatureMax', 'apparentTemperatureMaxTime'],\n",
       "      dtype='object')"
      ]
     },
     "execution_count": 12,
     "metadata": {},
     "output_type": "execute_result"
    }
   ],
   "source": [
    "uber_df.columns"
   ]
  },
  {
   "cell_type": "markdown",
   "id": "cd9199c4",
   "metadata": {
    "papermill": {
     "duration": 0.073105,
     "end_time": "2021-12-17T13:25:04.317578",
     "exception": false,
     "start_time": "2021-12-17T13:25:04.244473",
     "status": "completed"
    },
    "tags": []
   },
   "source": [
    "<h1>3. Data Cleaning</h1>\n",
    "<h3>In this step:</h3>\n",
    "<ol>\n",
    "    <li>We need to handle the missing values found in the price column by dropping them.</li>\n",
    "    <li>Drop all the unnecessary features</li>\n",
    "    <li>Rename 'name' and 'icon' columns to more meaningful names</li>\n",
    "</ol>"
   ]
  },
  {
   "cell_type": "code",
   "execution_count": 13,
   "id": "138be1ec",
   "metadata": {
    "execution": {
     "iopub.execute_input": "2021-12-17T13:25:04.476233Z",
     "iopub.status.busy": "2021-12-17T13:25:04.475407Z",
     "iopub.status.idle": "2021-12-17T13:25:05.101452Z",
     "shell.execute_reply": "2021-12-17T13:25:05.100753Z",
     "shell.execute_reply.started": "2021-12-17T13:04:41.501703Z"
    },
    "papermill": {
     "duration": 0.71006,
     "end_time": "2021-12-17T13:25:05.101619",
     "exception": false,
     "start_time": "2021-12-17T13:25:04.391559",
     "status": "completed"
    },
    "tags": []
   },
   "outputs": [],
   "source": [
    "#Drop missing values\n",
    "uber_df.dropna(inplace=True)"
   ]
  },
  {
   "cell_type": "code",
   "execution_count": 14,
   "id": "b24a0794",
   "metadata": {
    "execution": {
     "iopub.execute_input": "2021-12-17T13:25:05.255906Z",
     "iopub.status.busy": "2021-12-17T13:25:05.255116Z",
     "iopub.status.idle": "2021-12-17T13:25:05.705326Z",
     "shell.execute_reply": "2021-12-17T13:25:05.705966Z",
     "shell.execute_reply.started": "2021-12-17T13:04:41.844933Z"
    },
    "papermill": {
     "duration": 0.531288,
     "end_time": "2021-12-17T13:25:05.706190",
     "exception": false,
     "start_time": "2021-12-17T13:25:05.174902",
     "status": "completed"
    },
    "tags": []
   },
   "outputs": [
    {
     "name": "stdout",
     "output_type": "stream",
     "text": [
      "<class 'pandas.core.frame.DataFrame'>\n",
      "RangeIndex: 330568 entries, 0 to 330567\n",
      "Data columns (total 48 columns):\n",
      " #   Column                       Non-Null Count   Dtype  \n",
      "---  ------                       --------------   -----  \n",
      " 0   hour                         330568 non-null  int64  \n",
      " 1   day                          330568 non-null  int64  \n",
      " 2   month                        330568 non-null  int64  \n",
      " 3   source                       330568 non-null  object \n",
      " 4   destination                  330568 non-null  object \n",
      " 5   name                         330568 non-null  object \n",
      " 6   price                        330568 non-null  float64\n",
      " 7   distance                     330568 non-null  float64\n",
      " 8   latitude                     330568 non-null  float64\n",
      " 9   longitude                    330568 non-null  float64\n",
      " 10  temperature                  330568 non-null  float64\n",
      " 11  apparentTemperature          330568 non-null  float64\n",
      " 12  precipIntensity              330568 non-null  float64\n",
      " 13  precipProbability            330568 non-null  float64\n",
      " 14  humidity                     330568 non-null  float64\n",
      " 15  windSpeed                    330568 non-null  float64\n",
      " 16  windGust                     330568 non-null  float64\n",
      " 17  windGustTime                 330568 non-null  int64  \n",
      " 18  visibility                   330568 non-null  float64\n",
      " 19  temperatureHigh              330568 non-null  float64\n",
      " 20  temperatureHighTime          330568 non-null  int64  \n",
      " 21  temperatureLow               330568 non-null  float64\n",
      " 22  temperatureLowTime           330568 non-null  int64  \n",
      " 23  apparentTemperatureHigh      330568 non-null  float64\n",
      " 24  apparentTemperatureHighTime  330568 non-null  int64  \n",
      " 25  apparentTemperatureLow       330568 non-null  float64\n",
      " 26  apparentTemperatureLowTime   330568 non-null  int64  \n",
      " 27  icon                         330568 non-null  object \n",
      " 28  dewPoint                     330568 non-null  float64\n",
      " 29  pressure                     330568 non-null  float64\n",
      " 30  windBearing                  330568 non-null  int64  \n",
      " 31  cloudCover                   330568 non-null  float64\n",
      " 32  uvIndex                      330568 non-null  int64  \n",
      " 33  visibility.1                 330568 non-null  float64\n",
      " 34  ozone                        330568 non-null  float64\n",
      " 35  sunriseTime                  330568 non-null  int64  \n",
      " 36  sunsetTime                   330568 non-null  int64  \n",
      " 37  moonPhase                    330568 non-null  float64\n",
      " 38  precipIntensityMax           330568 non-null  float64\n",
      " 39  uvIndexTime                  330568 non-null  int64  \n",
      " 40  temperatureMin               330568 non-null  float64\n",
      " 41  temperatureMinTime           330568 non-null  int64  \n",
      " 42  temperatureMax               330568 non-null  float64\n",
      " 43  temperatureMaxTime           330568 non-null  int64  \n",
      " 44  apparentTemperatureMin       330568 non-null  float64\n",
      " 45  apparentTemperatureMinTime   330568 non-null  int64  \n",
      " 46  apparentTemperatureMax       330568 non-null  float64\n",
      " 47  apparentTemperatureMaxTime   330568 non-null  int64  \n",
      "dtypes: float64(27), int64(17), object(4)\n",
      "memory usage: 121.1+ MB\n"
     ]
    }
   ],
   "source": [
    "#Drop unnecessary columns\n",
    "uber_df = uber_df.reset_index()\n",
    "uber_df = uber_df.drop(['timezone', 'cab_type', 'surge_multiplier', 'index', 'Unnamed: 0', 'id', 'timestamp', 'datetime', 'product_id', 'short_summary', 'long_summary'], axis=1)\n",
    "uber_df.info()"
   ]
  },
  {
   "cell_type": "code",
   "execution_count": 15,
   "id": "1c0d2b82",
   "metadata": {
    "execution": {
     "iopub.execute_input": "2021-12-17T13:25:05.875445Z",
     "iopub.status.busy": "2021-12-17T13:25:05.874679Z",
     "iopub.status.idle": "2021-12-17T13:25:05.877900Z",
     "shell.execute_reply": "2021-12-17T13:25:05.878435Z",
     "shell.execute_reply.started": "2021-12-17T13:04:42.137397Z"
    },
    "papermill": {
     "duration": 0.090648,
     "end_time": "2021-12-17T13:25:05.878639",
     "exception": false,
     "start_time": "2021-12-17T13:25:05.787991",
     "status": "completed"
    },
    "tags": []
   },
   "outputs": [],
   "source": [
    "# Rename name and icon columns\n",
    "uber_df.rename(columns={'name': 'Service_type', 'icon': 'weather_condition'}, inplace=True)"
   ]
  },
  {
   "cell_type": "code",
   "execution_count": 16,
   "id": "0a35c6c5",
   "metadata": {
    "execution": {
     "iopub.execute_input": "2021-12-17T13:25:06.085215Z",
     "iopub.status.busy": "2021-12-17T13:25:06.083923Z",
     "iopub.status.idle": "2021-12-17T13:25:06.088616Z",
     "shell.execute_reply": "2021-12-17T13:25:06.089162Z",
     "shell.execute_reply.started": "2021-12-17T13:04:42.143629Z"
    },
    "papermill": {
     "duration": 0.134871,
     "end_time": "2021-12-17T13:25:06.089372",
     "exception": false,
     "start_time": "2021-12-17T13:25:05.954501",
     "status": "completed"
    },
    "tags": []
   },
   "outputs": [
    {
     "data": {
      "text/html": [
       "<div>\n",
       "<style scoped>\n",
       "    .dataframe tbody tr th:only-of-type {\n",
       "        vertical-align: middle;\n",
       "    }\n",
       "\n",
       "    .dataframe tbody tr th {\n",
       "        vertical-align: top;\n",
       "    }\n",
       "\n",
       "    .dataframe thead th {\n",
       "        text-align: right;\n",
       "    }\n",
       "</style>\n",
       "<table border=\"1\" class=\"dataframe\">\n",
       "  <thead>\n",
       "    <tr style=\"text-align: right;\">\n",
       "      <th></th>\n",
       "      <th>hour</th>\n",
       "      <th>day</th>\n",
       "      <th>month</th>\n",
       "      <th>source</th>\n",
       "      <th>destination</th>\n",
       "      <th>Service_type</th>\n",
       "      <th>price</th>\n",
       "      <th>distance</th>\n",
       "      <th>latitude</th>\n",
       "      <th>longitude</th>\n",
       "      <th>temperature</th>\n",
       "      <th>apparentTemperature</th>\n",
       "      <th>precipIntensity</th>\n",
       "      <th>precipProbability</th>\n",
       "      <th>humidity</th>\n",
       "      <th>windSpeed</th>\n",
       "      <th>windGust</th>\n",
       "      <th>windGustTime</th>\n",
       "      <th>visibility</th>\n",
       "      <th>temperatureHigh</th>\n",
       "      <th>temperatureHighTime</th>\n",
       "      <th>temperatureLow</th>\n",
       "      <th>temperatureLowTime</th>\n",
       "      <th>apparentTemperatureHigh</th>\n",
       "      <th>apparentTemperatureHighTime</th>\n",
       "      <th>apparentTemperatureLow</th>\n",
       "      <th>apparentTemperatureLowTime</th>\n",
       "      <th>weather_condition</th>\n",
       "      <th>dewPoint</th>\n",
       "      <th>pressure</th>\n",
       "      <th>windBearing</th>\n",
       "      <th>cloudCover</th>\n",
       "      <th>uvIndex</th>\n",
       "      <th>visibility.1</th>\n",
       "      <th>ozone</th>\n",
       "      <th>sunriseTime</th>\n",
       "      <th>sunsetTime</th>\n",
       "      <th>moonPhase</th>\n",
       "      <th>precipIntensityMax</th>\n",
       "      <th>uvIndexTime</th>\n",
       "      <th>temperatureMin</th>\n",
       "      <th>temperatureMinTime</th>\n",
       "      <th>temperatureMax</th>\n",
       "      <th>temperatureMaxTime</th>\n",
       "      <th>apparentTemperatureMin</th>\n",
       "      <th>apparentTemperatureMinTime</th>\n",
       "      <th>apparentTemperatureMax</th>\n",
       "      <th>apparentTemperatureMaxTime</th>\n",
       "    </tr>\n",
       "  </thead>\n",
       "  <tbody>\n",
       "    <tr>\n",
       "      <th>0</th>\n",
       "      <td>22</td>\n",
       "      <td>30</td>\n",
       "      <td>11</td>\n",
       "      <td>North End</td>\n",
       "      <td>West End</td>\n",
       "      <td>UberXL</td>\n",
       "      <td>12.0</td>\n",
       "      <td>1.11</td>\n",
       "      <td>42.3647</td>\n",
       "      <td>-71.0542</td>\n",
       "      <td>40.13</td>\n",
       "      <td>38.08</td>\n",
       "      <td>0.0000</td>\n",
       "      <td>0.00</td>\n",
       "      <td>0.60</td>\n",
       "      <td>3.38</td>\n",
       "      <td>3.99</td>\n",
       "      <td>1543554000</td>\n",
       "      <td>9.833</td>\n",
       "      <td>42.52</td>\n",
       "      <td>1543600800</td>\n",
       "      <td>31.71</td>\n",
       "      <td>1543658400</td>\n",
       "      <td>40.53</td>\n",
       "      <td>1543611600</td>\n",
       "      <td>28.06</td>\n",
       "      <td>1543658400</td>\n",
       "      <td>cloudy</td>\n",
       "      <td>27.31</td>\n",
       "      <td>1017.16</td>\n",
       "      <td>281</td>\n",
       "      <td>1.00</td>\n",
       "      <td>0</td>\n",
       "      <td>9.833</td>\n",
       "      <td>281.8</td>\n",
       "      <td>1543578867</td>\n",
       "      <td>1543612470</td>\n",
       "      <td>0.79</td>\n",
       "      <td>0.0003</td>\n",
       "      <td>1543593600</td>\n",
       "      <td>28.79</td>\n",
       "      <td>1543579200</td>\n",
       "      <td>42.52</td>\n",
       "      <td>1543600800</td>\n",
       "      <td>26.41</td>\n",
       "      <td>1543575600</td>\n",
       "      <td>40.53</td>\n",
       "      <td>1543611600</td>\n",
       "    </tr>\n",
       "    <tr>\n",
       "      <th>1</th>\n",
       "      <td>10</td>\n",
       "      <td>13</td>\n",
       "      <td>12</td>\n",
       "      <td>North End</td>\n",
       "      <td>West End</td>\n",
       "      <td>Black</td>\n",
       "      <td>16.0</td>\n",
       "      <td>1.11</td>\n",
       "      <td>42.3647</td>\n",
       "      <td>-71.0542</td>\n",
       "      <td>20.38</td>\n",
       "      <td>20.38</td>\n",
       "      <td>0.0000</td>\n",
       "      <td>0.00</td>\n",
       "      <td>0.66</td>\n",
       "      <td>2.94</td>\n",
       "      <td>3.22</td>\n",
       "      <td>1544738400</td>\n",
       "      <td>9.831</td>\n",
       "      <td>33.83</td>\n",
       "      <td>1544731200</td>\n",
       "      <td>27.27</td>\n",
       "      <td>1544781600</td>\n",
       "      <td>32.85</td>\n",
       "      <td>1544734800</td>\n",
       "      <td>24.61</td>\n",
       "      <td>1544785200</td>\n",
       "      <td>clear-night</td>\n",
       "      <td>10.87</td>\n",
       "      <td>1031.51</td>\n",
       "      <td>2</td>\n",
       "      <td>0.03</td>\n",
       "      <td>0</td>\n",
       "      <td>9.831</td>\n",
       "      <td>327.3</td>\n",
       "      <td>1544702792</td>\n",
       "      <td>1544735599</td>\n",
       "      <td>0.21</td>\n",
       "      <td>0.0001</td>\n",
       "      <td>1544716800</td>\n",
       "      <td>18.29</td>\n",
       "      <td>1544688000</td>\n",
       "      <td>33.83</td>\n",
       "      <td>1544731200</td>\n",
       "      <td>13.79</td>\n",
       "      <td>1544688000</td>\n",
       "      <td>32.85</td>\n",
       "      <td>1544734800</td>\n",
       "    </tr>\n",
       "    <tr>\n",
       "      <th>2</th>\n",
       "      <td>19</td>\n",
       "      <td>13</td>\n",
       "      <td>12</td>\n",
       "      <td>North End</td>\n",
       "      <td>West End</td>\n",
       "      <td>UberX</td>\n",
       "      <td>7.5</td>\n",
       "      <td>1.11</td>\n",
       "      <td>42.3647</td>\n",
       "      <td>-71.0542</td>\n",
       "      <td>32.85</td>\n",
       "      <td>32.85</td>\n",
       "      <td>0.0000</td>\n",
       "      <td>0.00</td>\n",
       "      <td>0.56</td>\n",
       "      <td>2.65</td>\n",
       "      <td>3.83</td>\n",
       "      <td>1544738400</td>\n",
       "      <td>9.959</td>\n",
       "      <td>33.83</td>\n",
       "      <td>1544731200</td>\n",
       "      <td>27.27</td>\n",
       "      <td>1544781600</td>\n",
       "      <td>32.85</td>\n",
       "      <td>1544734800</td>\n",
       "      <td>24.61</td>\n",
       "      <td>1544785200</td>\n",
       "      <td>partly-cloudy-day</td>\n",
       "      <td>18.66</td>\n",
       "      <td>1033.65</td>\n",
       "      <td>76</td>\n",
       "      <td>0.64</td>\n",
       "      <td>0</td>\n",
       "      <td>9.959</td>\n",
       "      <td>330.8</td>\n",
       "      <td>1544702792</td>\n",
       "      <td>1544735599</td>\n",
       "      <td>0.21</td>\n",
       "      <td>0.0001</td>\n",
       "      <td>1544716800</td>\n",
       "      <td>18.29</td>\n",
       "      <td>1544688000</td>\n",
       "      <td>33.83</td>\n",
       "      <td>1544731200</td>\n",
       "      <td>13.79</td>\n",
       "      <td>1544688000</td>\n",
       "      <td>32.85</td>\n",
       "      <td>1544734800</td>\n",
       "    </tr>\n",
       "    <tr>\n",
       "      <th>3</th>\n",
       "      <td>23</td>\n",
       "      <td>16</td>\n",
       "      <td>12</td>\n",
       "      <td>North End</td>\n",
       "      <td>West End</td>\n",
       "      <td>WAV</td>\n",
       "      <td>7.5</td>\n",
       "      <td>1.11</td>\n",
       "      <td>42.3647</td>\n",
       "      <td>-71.0542</td>\n",
       "      <td>41.29</td>\n",
       "      <td>36.01</td>\n",
       "      <td>0.0567</td>\n",
       "      <td>0.94</td>\n",
       "      <td>0.86</td>\n",
       "      <td>8.30</td>\n",
       "      <td>8.30</td>\n",
       "      <td>1545015600</td>\n",
       "      <td>4.054</td>\n",
       "      <td>43.83</td>\n",
       "      <td>1544990400</td>\n",
       "      <td>34.25</td>\n",
       "      <td>1545044400</td>\n",
       "      <td>38.38</td>\n",
       "      <td>1544986800</td>\n",
       "      <td>28.30</td>\n",
       "      <td>1545044400</td>\n",
       "      <td>rain</td>\n",
       "      <td>37.56</td>\n",
       "      <td>1012.72</td>\n",
       "      <td>57</td>\n",
       "      <td>1.00</td>\n",
       "      <td>0</td>\n",
       "      <td>4.054</td>\n",
       "      <td>325.3</td>\n",
       "      <td>1544962119</td>\n",
       "      <td>1544994839</td>\n",
       "      <td>0.30</td>\n",
       "      <td>0.1252</td>\n",
       "      <td>1544979600</td>\n",
       "      <td>39.22</td>\n",
       "      <td>1544954400</td>\n",
       "      <td>43.83</td>\n",
       "      <td>1544990400</td>\n",
       "      <td>33.98</td>\n",
       "      <td>1545019200</td>\n",
       "      <td>38.38</td>\n",
       "      <td>1544986800</td>\n",
       "    </tr>\n",
       "    <tr>\n",
       "      <th>4</th>\n",
       "      <td>0</td>\n",
       "      <td>14</td>\n",
       "      <td>12</td>\n",
       "      <td>North End</td>\n",
       "      <td>West End</td>\n",
       "      <td>Black SUV</td>\n",
       "      <td>26.0</td>\n",
       "      <td>1.11</td>\n",
       "      <td>42.3647</td>\n",
       "      <td>-71.0542</td>\n",
       "      <td>31.25</td>\n",
       "      <td>31.25</td>\n",
       "      <td>0.0000</td>\n",
       "      <td>0.00</td>\n",
       "      <td>0.64</td>\n",
       "      <td>2.62</td>\n",
       "      <td>3.54</td>\n",
       "      <td>1544738400</td>\n",
       "      <td>10.000</td>\n",
       "      <td>33.83</td>\n",
       "      <td>1544731200</td>\n",
       "      <td>27.27</td>\n",
       "      <td>1544781600</td>\n",
       "      <td>32.85</td>\n",
       "      <td>1544734800</td>\n",
       "      <td>24.61</td>\n",
       "      <td>1544785200</td>\n",
       "      <td>cloudy</td>\n",
       "      <td>20.53</td>\n",
       "      <td>1035.06</td>\n",
       "      <td>173</td>\n",
       "      <td>0.91</td>\n",
       "      <td>0</td>\n",
       "      <td>10.000</td>\n",
       "      <td>326.7</td>\n",
       "      <td>1544702792</td>\n",
       "      <td>1544735599</td>\n",
       "      <td>0.21</td>\n",
       "      <td>0.0001</td>\n",
       "      <td>1544716800</td>\n",
       "      <td>18.29</td>\n",
       "      <td>1544688000</td>\n",
       "      <td>33.83</td>\n",
       "      <td>1544731200</td>\n",
       "      <td>13.79</td>\n",
       "      <td>1544688000</td>\n",
       "      <td>32.85</td>\n",
       "      <td>1544734800</td>\n",
       "    </tr>\n",
       "  </tbody>\n",
       "</table>\n",
       "</div>"
      ],
      "text/plain": [
       "   hour  day  month     source destination Service_type  price  distance  \\\n",
       "0    22   30     11  North End    West End       UberXL   12.0      1.11   \n",
       "1    10   13     12  North End    West End        Black   16.0      1.11   \n",
       "2    19   13     12  North End    West End        UberX    7.5      1.11   \n",
       "3    23   16     12  North End    West End          WAV    7.5      1.11   \n",
       "4     0   14     12  North End    West End    Black SUV   26.0      1.11   \n",
       "\n",
       "   latitude  longitude  temperature  apparentTemperature  precipIntensity  \\\n",
       "0   42.3647   -71.0542        40.13                38.08           0.0000   \n",
       "1   42.3647   -71.0542        20.38                20.38           0.0000   \n",
       "2   42.3647   -71.0542        32.85                32.85           0.0000   \n",
       "3   42.3647   -71.0542        41.29                36.01           0.0567   \n",
       "4   42.3647   -71.0542        31.25                31.25           0.0000   \n",
       "\n",
       "   precipProbability  humidity  windSpeed  windGust  windGustTime  visibility  \\\n",
       "0               0.00      0.60       3.38      3.99    1543554000       9.833   \n",
       "1               0.00      0.66       2.94      3.22    1544738400       9.831   \n",
       "2               0.00      0.56       2.65      3.83    1544738400       9.959   \n",
       "3               0.94      0.86       8.30      8.30    1545015600       4.054   \n",
       "4               0.00      0.64       2.62      3.54    1544738400      10.000   \n",
       "\n",
       "   temperatureHigh  temperatureHighTime  temperatureLow  temperatureLowTime  \\\n",
       "0            42.52           1543600800           31.71          1543658400   \n",
       "1            33.83           1544731200           27.27          1544781600   \n",
       "2            33.83           1544731200           27.27          1544781600   \n",
       "3            43.83           1544990400           34.25          1545044400   \n",
       "4            33.83           1544731200           27.27          1544781600   \n",
       "\n",
       "   apparentTemperatureHigh  apparentTemperatureHighTime  \\\n",
       "0                    40.53                   1543611600   \n",
       "1                    32.85                   1544734800   \n",
       "2                    32.85                   1544734800   \n",
       "3                    38.38                   1544986800   \n",
       "4                    32.85                   1544734800   \n",
       "\n",
       "   apparentTemperatureLow  apparentTemperatureLowTime    weather_condition  \\\n",
       "0                   28.06                  1543658400              cloudy    \n",
       "1                   24.61                  1544785200         clear-night    \n",
       "2                   24.61                  1544785200   partly-cloudy-day    \n",
       "3                   28.30                  1545044400                rain    \n",
       "4                   24.61                  1544785200              cloudy    \n",
       "\n",
       "   dewPoint  pressure  windBearing  cloudCover  uvIndex  visibility.1  ozone  \\\n",
       "0     27.31   1017.16          281        1.00        0         9.833  281.8   \n",
       "1     10.87   1031.51            2        0.03        0         9.831  327.3   \n",
       "2     18.66   1033.65           76        0.64        0         9.959  330.8   \n",
       "3     37.56   1012.72           57        1.00        0         4.054  325.3   \n",
       "4     20.53   1035.06          173        0.91        0        10.000  326.7   \n",
       "\n",
       "   sunriseTime  sunsetTime  moonPhase  precipIntensityMax  uvIndexTime  \\\n",
       "0   1543578867  1543612470       0.79              0.0003   1543593600   \n",
       "1   1544702792  1544735599       0.21              0.0001   1544716800   \n",
       "2   1544702792  1544735599       0.21              0.0001   1544716800   \n",
       "3   1544962119  1544994839       0.30              0.1252   1544979600   \n",
       "4   1544702792  1544735599       0.21              0.0001   1544716800   \n",
       "\n",
       "   temperatureMin  temperatureMinTime  temperatureMax  temperatureMaxTime  \\\n",
       "0           28.79          1543579200           42.52          1543600800   \n",
       "1           18.29          1544688000           33.83          1544731200   \n",
       "2           18.29          1544688000           33.83          1544731200   \n",
       "3           39.22          1544954400           43.83          1544990400   \n",
       "4           18.29          1544688000           33.83          1544731200   \n",
       "\n",
       "   apparentTemperatureMin  apparentTemperatureMinTime  apparentTemperatureMax  \\\n",
       "0                   26.41                  1543575600                   40.53   \n",
       "1                   13.79                  1544688000                   32.85   \n",
       "2                   13.79                  1544688000                   32.85   \n",
       "3                   33.98                  1545019200                   38.38   \n",
       "4                   13.79                  1544688000                   32.85   \n",
       "\n",
       "   apparentTemperatureMaxTime  \n",
       "0                  1543611600  \n",
       "1                  1544734800  \n",
       "2                  1544734800  \n",
       "3                  1544986800  \n",
       "4                  1544734800  "
      ]
     },
     "execution_count": 16,
     "metadata": {},
     "output_type": "execute_result"
    }
   ],
   "source": [
    "uber_df.head(5)"
   ]
  },
  {
   "cell_type": "code",
   "execution_count": 17,
   "id": "4b0c06f6",
   "metadata": {
    "execution": {
     "iopub.execute_input": "2021-12-17T13:25:06.246860Z",
     "iopub.status.busy": "2021-12-17T13:25:06.246098Z",
     "iopub.status.idle": "2021-12-17T13:25:06.249479Z",
     "shell.execute_reply": "2021-12-17T13:25:06.248863Z",
     "shell.execute_reply.started": "2021-12-17T13:04:42.191786Z"
    },
    "papermill": {
     "duration": 0.084563,
     "end_time": "2021-12-17T13:25:06.249638",
     "exception": false,
     "start_time": "2021-12-17T13:25:06.165075",
     "status": "completed"
    },
    "tags": []
   },
   "outputs": [
    {
     "data": {
      "text/plain": [
       "(330568, 48)"
      ]
     },
     "execution_count": 17,
     "metadata": {},
     "output_type": "execute_result"
    }
   ],
   "source": [
    "uber_df.shape"
   ]
  },
  {
   "cell_type": "markdown",
   "id": "c1ac5858",
   "metadata": {
    "papermill": {
     "duration": 0.074515,
     "end_time": "2021-12-17T13:25:06.398666",
     "exception": false,
     "start_time": "2021-12-17T13:25:06.324151",
     "status": "completed"
    },
    "tags": []
   },
   "source": [
    "<h4>After cleaning the data, now the dataset has:</h4>\n",
    "<ul>\n",
    "    <li>330568 rows</li>\n",
    "    <li>48 columns</li>\n",
    "</ul>"
   ]
  },
  {
   "cell_type": "code",
   "execution_count": 18,
   "id": "069547b9",
   "metadata": {
    "execution": {
     "iopub.execute_input": "2021-12-17T13:25:06.556819Z",
     "iopub.status.busy": "2021-12-17T13:25:06.554419Z",
     "iopub.status.idle": "2021-12-17T13:25:21.353615Z",
     "shell.execute_reply": "2021-12-17T13:25:21.352728Z",
     "shell.execute_reply.started": "2021-12-17T13:04:42.198567Z"
    },
    "papermill": {
     "duration": 14.879972,
     "end_time": "2021-12-17T13:25:21.353913",
     "exception": false,
     "start_time": "2021-12-17T13:25:06.473941",
     "status": "completed"
    },
    "tags": []
   },
   "outputs": [],
   "source": [
    "#Let's save our data\n",
    "uber_df.to_csv(\"CleanAndFilteredData.csv\")"
   ]
  },
  {
   "cell_type": "markdown",
   "id": "489cf345",
   "metadata": {
    "papermill": {
     "duration": 0.075902,
     "end_time": "2021-12-17T13:25:21.506345",
     "exception": false,
     "start_time": "2021-12-17T13:25:21.430443",
     "status": "completed"
    },
    "tags": []
   },
   "source": [
    "<h1>4. Perform EDA(Exploratory Data Analysis)</h1>\n",
    "Exploratory analysis is a process to explore and understand the data and data relationship in a complete depth so that it makes feature engineering and machine learning modeling steps smooth and streamlined for prediction.\n",
    "<h3>In this step:</h3>\n",
    "<ul>\n",
    "    <li>I will visualize the data so that we can understand it in more detail<br>using some plots and graphs</li>\n",
    "</ul>\n",
    "\n",
    "<h3>Questions to answer:</h3>\n",
    "<ul>\n",
    "    <li>Does the weather condition affect the price?</li>\n",
    "    <li>Does the temperature affect the price?</li>\n",
    "    <li>Does the distance affect the price?</li>\n",
    "    <li>Does the service type affect the price?</li>\n",
    "    <li>How many trips per month?</li>\n",
    "    <li>What are days that full of trips in each month?</li>\n",
    "    <li>Does the weather affect the number of trips?</li>\n",
    "    <li>Does the temperature affect the number of trips?</li>\n",
    "</ul>"
   ]
  },
  {
   "cell_type": "code",
   "execution_count": 19,
   "id": "12855313",
   "metadata": {
    "execution": {
     "iopub.execute_input": "2021-12-17T13:25:21.662412Z",
     "iopub.status.busy": "2021-12-17T13:25:21.661635Z",
     "iopub.status.idle": "2021-12-17T13:25:23.566036Z",
     "shell.execute_reply": "2021-12-17T13:25:23.565211Z",
     "shell.execute_reply.started": "2021-12-17T13:04:51.173161Z"
    },
    "papermill": {
     "duration": 1.986015,
     "end_time": "2021-12-17T13:25:23.566218",
     "exception": false,
     "start_time": "2021-12-17T13:25:21.580203",
     "status": "completed"
    },
    "tags": []
   },
   "outputs": [
    {
     "data": {
      "text/plain": [
       "price                          1.000000\n",
       "distance                       0.336204\n",
       "windGust                       0.004777\n",
       "windSpeed                      0.004251\n",
       "precipIntensityMax             0.003665\n",
       "cloudCover                     0.002162\n",
       "ozone                          0.002018\n",
       "temperature                    0.001697\n",
       "precipIntensity                0.001647\n",
       "precipProbability              0.001535\n",
       "day                            0.001342\n",
       "temperatureMin                 0.001237\n",
       "latitude                       0.000979\n",
       "hour                           0.000867\n",
       "dewPoint                       0.000741\n",
       "apparentTemperature            0.000642\n",
       "visibility.1                   0.000447\n",
       "visibility                     0.000447\n",
       "apparentTemperatureMin        -0.000066\n",
       "apparentTemperatureMinTime    -0.000112\n",
       "temperatureMax                -0.000117\n",
       "temperatureMinTime            -0.000142\n",
       "windGustTime                  -0.000230\n",
       "apparentTemperatureLowTime    -0.000232\n",
       "temperatureLowTime            -0.000234\n",
       "uvIndexTime                   -0.000277\n",
       "sunsetTime                    -0.000284\n",
       "sunriseTime                   -0.000284\n",
       "temperatureHighTime           -0.000310\n",
       "apparentTemperatureHighTime   -0.000336\n",
       "temperatureMaxTime            -0.000355\n",
       "apparentTemperatureMaxTime    -0.000368\n",
       "apparentTemperatureMax        -0.000482\n",
       "temperatureHigh               -0.000516\n",
       "uvIndex                       -0.000531\n",
       "longitude                     -0.000574\n",
       "apparentTemperatureLow        -0.000682\n",
       "moonPhase                     -0.000807\n",
       "humidity                      -0.000860\n",
       "apparentTemperatureHigh       -0.000989\n",
       "month                         -0.001047\n",
       "temperatureLow                -0.001092\n",
       "pressure                      -0.002060\n",
       "windBearing                   -0.002349\n",
       "Name: price, dtype: float64"
      ]
     },
     "execution_count": 19,
     "metadata": {},
     "output_type": "execute_result"
    }
   ],
   "source": [
    "# Looking for correlation using corr() method, compute the standard correlation coefficient\n",
    "# Correlation Matrix\n",
    "corr_matrix = uber_df.corr()\n",
    "corr_matrix['price'].sort_values(ascending=False)\n",
    "# Plotting Heatmap\n",
    "# plt.figure(figsize=(150, 100))\n",
    "# sns.heatmap(corr_matrix, annot = True)"
   ]
  },
  {
   "cell_type": "code",
   "execution_count": 20,
   "id": "71278259",
   "metadata": {
    "execution": {
     "iopub.execute_input": "2021-12-17T13:25:23.735555Z",
     "iopub.status.busy": "2021-12-17T13:25:23.734270Z",
     "iopub.status.idle": "2021-12-17T13:25:25.320268Z",
     "shell.execute_reply": "2021-12-17T13:25:25.320855Z",
     "shell.execute_reply.started": "2021-12-17T13:04:53.016901Z"
    },
    "papermill": {
     "duration": 1.675668,
     "end_time": "2021-12-17T13:25:25.321087",
     "exception": false,
     "start_time": "2021-12-17T13:25:23.645419",
     "status": "completed"
    },
    "tags": []
   },
   "outputs": [
    {
     "data": {
      "image/png": "[encoded data removed]",
      "text/plain": [
       "<Figure size 720x360 with 1 Axes>"
      ]
     },
     "metadata": {
      "needs_background": "light"
     },
     "output_type": "display_data"
    }
   ],
   "source": [
    "# Distribution of target column\n",
    "sns.distplot(uber_df['price'], color=\"green\")\n",
    "plt.xticks(np.arange(0,70,step=10))\n",
    "plt.show()"
   ]
  },
  {
   "cell_type": "markdown",
   "id": "0d7b47c6",
   "metadata": {
    "papermill": {
     "duration": 0.079962,
     "end_time": "2021-12-17T13:25:25.480933",
     "exception": false,
     "start_time": "2021-12-17T13:25:25.400971",
     "status": "completed"
    },
    "tags": []
   },
   "source": [
    "<h4>The distribution of the target variable is skewed and it is obvious that most of trips prices are in range 10 to 20</h4>"
   ]
  },
  {
   "cell_type": "markdown",
   "id": "7ab4de7b",
   "metadata": {
    "papermill": {
     "duration": 0.077545,
     "end_time": "2021-12-17T13:25:25.638902",
     "exception": false,
     "start_time": "2021-12-17T13:25:25.561357",
     "status": "completed"
    },
    "tags": []
   },
   "source": [
    "<h2>Service type and Trip Price 👇</h2>"
   ]
  },
  {
   "cell_type": "code",
   "execution_count": 21,
   "id": "333772d5",
   "metadata": {
    "execution": {
     "iopub.execute_input": "2021-12-17T13:25:25.800888Z",
     "iopub.status.busy": "2021-12-17T13:25:25.800058Z",
     "iopub.status.idle": "2021-12-17T13:25:28.370272Z",
     "shell.execute_reply": "2021-12-17T13:25:28.370793Z",
     "shell.execute_reply.started": "2021-12-17T13:04:54.562200Z"
    },
    "papermill": {
     "duration": 2.651219,
     "end_time": "2021-12-17T13:25:28.371015",
     "exception": false,
     "start_time": "2021-12-17T13:25:25.719796",
     "status": "completed"
    },
    "tags": []
   },
   "outputs": [
    {
     "data": {
      "text/plain": [
       "<AxesSubplot:xlabel='Service_type', ylabel='price'>"
      ]
     },
     "execution_count": 21,
     "metadata": {},
     "output_type": "execute_result"
    },
    {
     "data": {
      "image/png": "[encoded data removed]",
      "text/plain": [
       "<Figure size 720x360 with 1 Axes>"
      ]
     },
     "metadata": {
      "needs_background": "light"
     },
     "output_type": "display_data"
    }
   ],
   "source": [
    "# sns.relplot(x = \"price\", y = \"Service_type\", hue =\"Service_type\", size=\"price\", sizes=(100, 200), palette='Set2' ,data = uber_df)\n",
    "sns.barplot(x='Service_type', y='price', data=uber_df)\n",
    "# plt.xticks(rotation=\"vertical\")\n",
    "# plt.show()"
   ]
  },
  {
   "cell_type": "markdown",
   "id": "ba06dec4",
   "metadata": {
    "papermill": {
     "duration": 0.078318,
     "end_time": "2021-12-17T13:25:28.526960",
     "exception": false,
     "start_time": "2021-12-17T13:25:28.448642",
     "status": "completed"
    },
    "tags": []
   },
   "source": [
    "<h4>Black SUV and Black are expensive, and others are in the price range</h4>"
   ]
  },
  {
   "cell_type": "markdown",
   "id": "93bdde17",
   "metadata": {
    "papermill": {
     "duration": 0.076499,
     "end_time": "2021-12-17T13:25:28.682462",
     "exception": false,
     "start_time": "2021-12-17T13:25:28.605963",
     "status": "completed"
    },
    "tags": []
   },
   "source": [
    "<h2>Weather Conditions and Trip Price 👇</h2>\n",
    "<h3>Does the price vary with weather conditions?</h3>"
   ]
  },
  {
   "cell_type": "code",
   "execution_count": 22,
   "id": "297768cb",
   "metadata": {
    "execution": {
     "iopub.execute_input": "2021-12-17T13:25:28.849291Z",
     "iopub.status.busy": "2021-12-17T13:25:28.848051Z",
     "iopub.status.idle": "2021-12-17T13:26:00.514815Z",
     "shell.execute_reply": "2021-12-17T13:26:00.515388Z",
     "shell.execute_reply.started": "2021-12-17T13:04:57.006615Z"
    },
    "papermill": {
     "duration": 31.753822,
     "end_time": "2021-12-17T13:26:00.515613",
     "exception": false,
     "start_time": "2021-12-17T13:25:28.761791",
     "status": "completed"
    },
    "tags": []
   },
   "outputs": [
    {
     "data": {
      "text/plain": [
       "<AxesSubplot:xlabel='price', ylabel='weather_condition'>"
      ]
     },
     "execution_count": 22,
     "metadata": {},
     "output_type": "execute_result"
    },
    {
     "data": {
      "image/png": "[encoded data removed]",
      "text/plain": [
       "<Figure size 720x360 with 1 Axes>"
      ]
     },
     "metadata": {
      "needs_background": "light"
     },
     "output_type": "display_data"
    }
   ],
   "source": [
    "sns.scatterplot(data=uber_df, y=\"weather_condition\", x=\"price\", hue=\"weather_condition\")"
   ]
  },
  {
   "cell_type": "markdown",
   "id": "a33f2c26",
   "metadata": {
    "papermill": {
     "duration": 0.086317,
     "end_time": "2021-12-17T13:26:00.683162",
     "exception": false,
     "start_time": "2021-12-17T13:26:00.596845",
     "status": "completed"
    },
    "tags": []
   },
   "source": [
    "It seems that when the weather is cloudy or partly cloudy the price raises. From this plot we can conclude that there is a relationship but not a strong relationship between the price and weather_condition column."
   ]
  },
  {
   "cell_type": "code",
   "execution_count": 23,
   "id": "fab3d8b6",
   "metadata": {
    "execution": {
     "iopub.execute_input": "2021-12-17T13:26:00.859682Z",
     "iopub.status.busy": "2021-12-17T13:26:00.858823Z",
     "iopub.status.idle": "2021-12-17T13:26:01.123602Z",
     "shell.execute_reply": "2021-12-17T13:26:01.124148Z",
     "shell.execute_reply.started": "2021-12-17T13:05:20.636910Z"
    },
    "papermill": {
     "duration": 0.354724,
     "end_time": "2021-12-17T13:26:01.124373",
     "exception": false,
     "start_time": "2021-12-17T13:26:00.769649",
     "status": "completed"
    },
    "tags": []
   },
   "outputs": [
    {
     "data": {
      "text/plain": [
       "[Text(0.5, 1.0, 'Number of Trips Per Month')]"
      ]
     },
     "execution_count": 23,
     "metadata": {},
     "output_type": "execute_result"
    },
    {
     "data": {
      "image/png": "[encoded data removed]",
      "text/plain": [
       "<Figure size 720x360 with 1 Axes>"
      ]
     },
     "metadata": {
      "needs_background": "light"
     },
     "output_type": "display_data"
    }
   ],
   "source": [
    "sns.countplot(x=\"month\", hue = \"month\", palette = \"Set1\", data=uber_df).set(title='Number of Trips Per Month')"
   ]
  },
  {
   "cell_type": "markdown",
   "id": "8711fc6b",
   "metadata": {
    "papermill": {
     "duration": 0.084849,
     "end_time": "2021-12-17T13:26:01.295178",
     "exception": false,
     "start_time": "2021-12-17T13:26:01.210329",
     "status": "completed"
    },
    "tags": []
   },
   "source": [
    "<h4> Number of trips in December is greater than number of trips in Novermber</h4>"
   ]
  },
  {
   "cell_type": "code",
   "execution_count": 24,
   "id": "09cc2084",
   "metadata": {
    "execution": {
     "iopub.execute_input": "2021-12-17T13:26:01.472308Z",
     "iopub.status.busy": "2021-12-17T13:26:01.470866Z",
     "iopub.status.idle": "2021-12-17T13:26:02.791759Z",
     "shell.execute_reply": "2021-12-17T13:26:02.792340Z",
     "shell.execute_reply.started": "2021-12-17T13:05:20.904640Z"
    },
    "papermill": {
     "duration": 1.410758,
     "end_time": "2021-12-17T13:26:02.792551",
     "exception": false,
     "start_time": "2021-12-17T13:26:01.381793",
     "status": "completed"
    },
    "tags": []
   },
   "outputs": [
    {
     "data": {
      "text/html": [
       "        <script type=\"text/javascript\">\n",
       "        window.PlotlyConfig = {MathJaxConfig: 'local'};\n",
       "        if (window.MathJax) {MathJax.Hub.Config({SVG: {font: \"STIX-Web\"}});}\n",
       "        if (typeof require !== 'undefined') {\n",
       "        require.undef(\"plotly\");\n",
       "        requirejs.config({\n",
       "            paths: {\n",
       "                'plotly': ['https://cdn.plot.ly/plotly-2.6.3.min']\n",
       "            }\n",
       "        });\n",
       "        require(['plotly'], function(Plotly) {\n",
       "            window._Plotly = Plotly;\n",
       "        });\n",
       "        }\n",
       "        </script>\n",
       "        "
      ]
     },
     "metadata": {},
     "output_type": "display_data"
    },
    {
     "data": {
      "text/html": [
       "<div>                            <div id=\"e3fef795-01ae-479e-a4ba-f97ee6708893\" class=\"plotly-graph-div\" style=\"height:525px; width:100%;\"></div>            <script type=\"text/javascript\">                require([\"plotly\"], function(Plotly) {                    window.PLOTLYENV=window.PLOTLYENV || {};                                    if (document.getElementById(\"e3fef795-01ae-479e-a4ba-f97ee6708893\")) {                    Plotly.newPlot(                        \"e3fef795-01ae-479e-a4ba-f97ee6708893\",                        [{\"domain\":{\"x\":[0.0,1.0],\"y\":[0.0,1.0]},\"hole\":0.2,\"hovertemplate\":\"condition=%{label}<br>count=%{value}<extra></extra>\",\"labels\":[\" cloudy \",\" partly-cloudy-night \",\" partly-cloudy-day \",\" rain \",\" clear-night \",\" clear-day \",\" fog \"],\"legendgroup\":\"\",\"name\":\"\",\"showlegend\":true,\"values\":[104013,75244,55202,50216,28878,12725,4290],\"type\":\"pie\"}],                        {\"template\":{\"data\":{\"bar\":[{\"error_x\":{\"color\":\"#2a3f5f\"},\"error_y\":{\"color\":\"#2a3f5f\"},\"marker\":{\"line\":{\"color\":\"#E5ECF6\",\"width\":0.5},\"pattern\":{\"fillmode\":\"overlay\",\"size\":10,\"solidity\":0.2}},\"type\":\"bar\"}],\"barpolar\":[{\"marker\":{\"line\":{\"color\":\"#E5ECF6\",\"width\":0.5},\"pattern\":{\"fillmode\":\"overlay\",\"size\":10,\"solidity\":0.2}},\"type\":\"barpolar\"}],\"carpet\":[{\"aaxis\":{\"endlinecolor\":\"#2a3f5f\",\"gridcolor\":\"white\",\"linecolor\":\"white\",\"minorgridcolor\":\"white\",\"startlinecolor\":\"#2a3f5f\"},\"baxis\":{\"endlinecolor\":\"#2a3f5f\",\"gridcolor\":\"white\",\"linecolor\":\"white\",\"minorgridcolor\":\"white\",\"startlinecolor\":\"#2a3f5f\"},\"type\":\"carpet\"}],\"choropleth\":[{\"colorbar\":{\"outlinewidth\":0,\"ticks\":\"\"},\"type\":\"choropleth\"}],\"contour\":[{\"colorbar\":{\"outlinewidth\":0,\"ticks\":\"\"},\"colorscale\":[[0.0,\"#0d0887\"],[0.1111111111111111,\"#46039f\"],[0.2222222222222222,\"#7201a8\"],[0.3333333333333333,\"#9c179e\"],[0.4444444444444444,\"#bd3786\"],[0.5555555555555556,\"#d8576b\"],[0.6666666666666666,\"#ed7953\"],[0.7777777777777778,\"#fb9f3a\"],[0.8888888888888888,\"#fdca26\"],[1.0,\"#f0f921\"]],\"type\":\"contour\"}],\"contourcarpet\":[{\"colorbar\":{\"outlinewidth\":0,\"ticks\":\"\"},\"type\":\"contourcarpet\"}],\"heatmap\":[{\"colorbar\":{\"outlinewidth\":0,\"ticks\":\"\"},\"colorscale\":[[0.0,\"#0d0887\"],[0.1111111111111111,\"#46039f\"],[0.2222222222222222,\"#7201a8\"],[0.3333333333333333,\"#9c179e\"],[0.4444444444444444,\"#bd3786\"],[0.5555555555555556,\"#d8576b\"],[0.6666666666666666,\"#ed7953\"],[0.7777777777777778,\"#fb9f3a\"],[0.8888888888888888,\"#fdca26\"],[1.0,\"#f0f921\"]],\"type\":\"heatmap\"}],\"heatmapgl\":[{\"colorbar\":{\"outlinewidth\":0,\"ticks\":\"\"},\"colorscale\":[[0.0,\"#0d0887\"],[0.1111111111111111,\"#46039f\"],[0.2222222222222222,\"#7201a8\"],[0.3333333333333333,\"#9c179e\"],[0.4444444444444444,\"#bd3786\"],[0.5555555555555556,\"#d8576b\"],[0.6666666666666666,\"#ed7953\"],[0.7777777777777778,\"#fb9f3a\"],[0.8888888888888888,\"#fdca26\"],[1.0,\"#f0f921\"]],\"type\":\"heatmapgl\"}],\"histogram\":[{\"marker\":{\"pattern\":{\"fillmode\":\"overlay\",\"size\":10,\"solidity\":0.2}},\"type\":\"histogram\"}],\"histogram2d\":[{\"colorbar\":{\"outlinewidth\":0,\"ticks\":\"\"},\"colorscale\":[[0.0,\"#0d0887\"],[0.1111111111111111,\"#46039f\"],[0.2222222222222222,\"#7201a8\"],[0.3333333333333333,\"#9c179e\"],[0.4444444444444444,\"#bd3786\"],[0.5555555555555556,\"#d8576b\"],[0.6666666666666666,\"#ed7953\"],[0.7777777777777778,\"#fb9f3a\"],[0.8888888888888888,\"#fdca26\"],[1.0,\"#f0f921\"]],\"type\":\"histogram2d\"}],\"histogram2dcontour\":[{\"colorbar\":{\"outlinewidth\":0,\"ticks\":\"\"},\"colorscale\":[[0.0,\"#0d0887\"],[0.1111111111111111,\"#46039f\"],[0.2222222222222222,\"#7201a8\"],[0.3333333333333333,\"#9c179e\"],[0.4444444444444444,\"#bd3786\"],[0.5555555555555556,\"#d8576b\"],[0.6666666666666666,\"#ed7953\"],[0.7777777777777778,\"#fb9f3a\"],[0.8888888888888888,\"#fdca26\"],[1.0,\"#f0f921\"]],\"type\":\"histogram2dcontour\"}],\"mesh3d\":[{\"colorbar\":{\"outlinewidth\":0,\"ticks\":\"\"},\"type\":\"mesh3d\"}],\"parcoords\":[{\"line\":{\"colorbar\":{\"outlinewidth\":0,\"ticks\":\"\"}},\"type\":\"parcoords\"}],\"pie\":[{\"automargin\":true,\"type\":\"pie\"}],\"scatter\":[{\"marker\":{\"colorbar\":{\"outlinewidth\":0,\"ticks\":\"\"}},\"type\":\"scatter\"}],\"scatter3d\":[{\"line\":{\"colorbar\":{\"outlinewidth\":0,\"ticks\":\"\"}},\"marker\":{\"colorbar\":{\"outlinewidth\":0,\"ticks\":\"\"}},\"type\":\"scatter3d\"}],\"scattercarpet\":[{\"marker\":{\"colorbar\":{\"outlinewidth\":0,\"ticks\":\"\"}},\"type\":\"scattercarpet\"}],\"scattergeo\":[{\"marker\":{\"colorbar\":{\"outlinewidth\":0,\"ticks\":\"\"}},\"type\":\"scattergeo\"}],\"scattergl\":[{\"marker\":{\"colorbar\":{\"outlinewidth\":0,\"ticks\":\"\"}},\"type\":\"scattergl\"}],\"scattermapbox\":[{\"marker\":{\"colorbar\":{\"outlinewidth\":0,\"ticks\":\"\"}},\"type\":\"scattermapbox\"}],\"scatterpolar\":[{\"marker\":{\"colorbar\":{\"outlinewidth\":0,\"ticks\":\"\"}},\"type\":\"scatterpolar\"}],\"scatterpolargl\":[{\"marker\":{\"colorbar\":{\"outlinewidth\":0,\"ticks\":\"\"}},\"type\":\"scatterpolargl\"}],\"scatterternary\":[{\"marker\":{\"colorbar\":{\"outlinewidth\":0,\"ticks\":\"\"}},\"type\":\"scatterternary\"}],\"surface\":[{\"colorbar\":{\"outlinewidth\":0,\"ticks\":\"\"},\"colorscale\":[[0.0,\"#0d0887\"],[0.1111111111111111,\"#46039f\"],[0.2222222222222222,\"#7201a8\"],[0.3333333333333333,\"#9c179e\"],[0.4444444444444444,\"#bd3786\"],[0.5555555555555556,\"#d8576b\"],[0.6666666666666666,\"#ed7953\"],[0.7777777777777778,\"#fb9f3a\"],[0.8888888888888888,\"#fdca26\"],[1.0,\"#f0f921\"]],\"type\":\"surface\"}],\"table\":[{\"cells\":{\"fill\":{\"color\":\"#EBF0F8\"},\"line\":{\"color\":\"white\"}},\"header\":{\"fill\":{\"color\":\"#C8D4E3\"},\"line\":{\"color\":\"white\"}},\"type\":\"table\"}]},\"layout\":{\"annotationdefaults\":{\"arrowcolor\":\"#2a3f5f\",\"arrowhead\":0,\"arrowwidth\":1},\"autotypenumbers\":\"strict\",\"coloraxis\":{\"colorbar\":{\"outlinewidth\":0,\"ticks\":\"\"}},\"colorscale\":{\"diverging\":[[0,\"#8e0152\"],[0.1,\"#c51b7d\"],[0.2,\"#de77ae\"],[0.3,\"#f1b6da\"],[0.4,\"#fde0ef\"],[0.5,\"#f7f7f7\"],[0.6,\"#e6f5d0\"],[0.7,\"#b8e186\"],[0.8,\"#7fbc41\"],[0.9,\"#4d9221\"],[1,\"#276419\"]],\"sequential\":[[0.0,\"#0d0887\"],[0.1111111111111111,\"#46039f\"],[0.2222222222222222,\"#7201a8\"],[0.3333333333333333,\"#9c179e\"],[0.4444444444444444,\"#bd3786\"],[0.5555555555555556,\"#d8576b\"],[0.6666666666666666,\"#ed7953\"],[0.7777777777777778,\"#fb9f3a\"],[0.8888888888888888,\"#fdca26\"],[1.0,\"#f0f921\"]],\"sequentialminus\":[[0.0,\"#0d0887\"],[0.1111111111111111,\"#46039f\"],[0.2222222222222222,\"#7201a8\"],[0.3333333333333333,\"#9c179e\"],[0.4444444444444444,\"#bd3786\"],[0.5555555555555556,\"#d8576b\"],[0.6666666666666666,\"#ed7953\"],[0.7777777777777778,\"#fb9f3a\"],[0.8888888888888888,\"#fdca26\"],[1.0,\"#f0f921\"]]},\"colorway\":[\"#636efa\",\"#EF553B\",\"#00cc96\",\"#ab63fa\",\"#FFA15A\",\"#19d3f3\",\"#FF6692\",\"#B6E880\",\"#FF97FF\",\"#FECB52\"],\"font\":{\"color\":\"#2a3f5f\"},\"geo\":{\"bgcolor\":\"white\",\"lakecolor\":\"white\",\"landcolor\":\"#E5ECF6\",\"showlakes\":true,\"showland\":true,\"subunitcolor\":\"white\"},\"hoverlabel\":{\"align\":\"left\"},\"hovermode\":\"closest\",\"mapbox\":{\"style\":\"light\"},\"paper_bgcolor\":\"white\",\"plot_bgcolor\":\"#E5ECF6\",\"polar\":{\"angularaxis\":{\"gridcolor\":\"white\",\"linecolor\":\"white\",\"ticks\":\"\"},\"bgcolor\":\"#E5ECF6\",\"radialaxis\":{\"gridcolor\":\"white\",\"linecolor\":\"white\",\"ticks\":\"\"}},\"scene\":{\"xaxis\":{\"backgroundcolor\":\"#E5ECF6\",\"gridcolor\":\"white\",\"gridwidth\":2,\"linecolor\":\"white\",\"showbackground\":true,\"ticks\":\"\",\"zerolinecolor\":\"white\"},\"yaxis\":{\"backgroundcolor\":\"#E5ECF6\",\"gridcolor\":\"white\",\"gridwidth\":2,\"linecolor\":\"white\",\"showbackground\":true,\"ticks\":\"\",\"zerolinecolor\":\"white\"},\"zaxis\":{\"backgroundcolor\":\"#E5ECF6\",\"gridcolor\":\"white\",\"gridwidth\":2,\"linecolor\":\"white\",\"showbackground\":true,\"ticks\":\"\",\"zerolinecolor\":\"white\"}},\"shapedefaults\":{\"line\":{\"color\":\"#2a3f5f\"}},\"ternary\":{\"aaxis\":{\"gridcolor\":\"white\",\"linecolor\":\"white\",\"ticks\":\"\"},\"baxis\":{\"gridcolor\":\"white\",\"linecolor\":\"white\",\"ticks\":\"\"},\"bgcolor\":\"#E5ECF6\",\"caxis\":{\"gridcolor\":\"white\",\"linecolor\":\"white\",\"ticks\":\"\"}},\"title\":{\"x\":0.05},\"xaxis\":{\"automargin\":true,\"gridcolor\":\"white\",\"linecolor\":\"white\",\"ticks\":\"\",\"title\":{\"standoff\":15},\"zerolinecolor\":\"white\",\"zerolinewidth\":2},\"yaxis\":{\"automargin\":true,\"gridcolor\":\"white\",\"linecolor\":\"white\",\"ticks\":\"\",\"title\":{\"standoff\":15},\"zerolinecolor\":\"white\",\"zerolinewidth\":2}}},\"legend\":{\"tracegroupgap\":0},\"title\":{\"text\":\"The proportion of number of trips in each weather condition\"},\"piecolorway\":[\"#003f5c\",\"#ffa600\",\"#bc5090\"]},                        {\"responsive\": true}                    ).then(function(){\n",
       "                            \n",
       "var gd = document.getElementById('e3fef795-01ae-479e-a4ba-f97ee6708893');\n",
       "var x = new MutationObserver(function (mutations, observer) {{\n",
       "        var display = window.getComputedStyle(gd).display;\n",
       "        if (!display || display === 'none') {{\n",
       "            console.log([gd, 'removed!']);\n",
       "            Plotly.purge(gd);\n",
       "            observer.disconnect();\n",
       "        }}\n",
       "}});\n",
       "\n",
       "// Listen for the removal of the full notebook cells\n",
       "var notebookContainer = gd.closest('#notebook-container');\n",
       "if (notebookContainer) {{\n",
       "    x.observe(notebookContainer, {childList: true});\n",
       "}}\n",
       "\n",
       "// Listen for the clearing of the current output cell\n",
       "var outputEl = gd.closest('.output');\n",
       "if (outputEl) {{\n",
       "    x.observe(outputEl, {childList: true});\n",
       "}}\n",
       "\n",
       "                        })                };                });            </script>        </div>"
      ]
     },
     "metadata": {},
     "output_type": "display_data"
    }
   ],
   "source": [
    "pie_df = uber_df.weather_condition.value_counts().reset_index()\n",
    "pie_df.columns = ['condition', 'count']\n",
    "# pie_df.head()\n",
    "fig = px.pie(pie_df, values='count', names='condition', title='The proportion of number of trips in each weather condition', color_discrete_sequence=['#003f5c','#ffa600','#bc5090'], hole=0.2)\n",
    "fig.show()"
   ]
  },
  {
   "cell_type": "markdown",
   "id": "b709d81a",
   "metadata": {
    "papermill": {
     "duration": 0.083807,
     "end_time": "2021-12-17T13:26:02.961718",
     "exception": false,
     "start_time": "2021-12-17T13:26:02.877911",
     "status": "completed"
    },
    "tags": []
   },
   "source": [
    "* Most of the trips occured in a cloudy weather"
   ]
  },
  {
   "cell_type": "markdown",
   "id": "a1949aa0",
   "metadata": {
    "papermill": {
     "duration": 0.085815,
     "end_time": "2021-12-17T13:26:03.134872",
     "exception": false,
     "start_time": "2021-12-17T13:26:03.049057",
     "status": "completed"
    },
    "tags": []
   },
   "source": [
    "<h2>Number of Trips per day in each month 👇</h2>"
   ]
  },
  {
   "cell_type": "code",
   "execution_count": 25,
   "id": "e1cbcac4",
   "metadata": {
    "execution": {
     "iopub.execute_input": "2021-12-17T13:26:03.319316Z",
     "iopub.status.busy": "2021-12-17T13:26:03.318118Z",
     "iopub.status.idle": "2021-12-17T13:26:04.071882Z",
     "shell.execute_reply": "2021-12-17T13:26:04.072445Z",
     "shell.execute_reply.started": "2021-12-17T13:05:22.013765Z"
    },
    "papermill": {
     "duration": 0.85137,
     "end_time": "2021-12-17T13:26:04.072661",
     "exception": false,
     "start_time": "2021-12-17T13:26:03.221291",
     "status": "completed"
    },
    "tags": []
   },
   "outputs": [
    {
     "data": {
      "text/plain": [
       "<seaborn.axisgrid.FacetGrid at 0x7ff5b6b94450>"
      ]
     },
     "execution_count": 25,
     "metadata": {},
     "output_type": "execute_result"
    },
    {
     "data": {
      "image/png": "[encoded data removed]",
      "text/plain": [
       "<Figure size 720x360 with 2 Axes>"
      ]
     },
     "metadata": {
      "needs_background": "light"
     },
     "output_type": "display_data"
    }
   ],
   "source": [
    "day_df = uber_df['day'].value_counts().reset_index()\n",
    "day_df.columns = ['day', 'count']\n",
    "sns.relplot(\n",
    "    data=day_df, x=\"day\", y=\"count\",\n",
    "    col=uber_df['month'],\n",
    "    kind=\"line\"\n",
    ")"
   ]
  },
  {
   "cell_type": "markdown",
   "id": "a9a86547",
   "metadata": {
    "papermill": {
     "duration": 0.084105,
     "end_time": "2021-12-17T13:26:04.245804",
     "exception": false,
     "start_time": "2021-12-17T13:26:04.161699",
     "status": "completed"
    },
    "tags": []
   },
   "source": [
    "The number of trips in November increases in the last days. However, the number of trips in December increases in the half of the month."
   ]
  },
  {
   "cell_type": "code",
   "execution_count": 26,
   "id": "0c98ed8d",
   "metadata": {
    "execution": {
     "iopub.execute_input": "2021-12-17T13:26:04.440687Z",
     "iopub.status.busy": "2021-12-17T13:26:04.439858Z",
     "iopub.status.idle": "2021-12-17T13:26:05.173232Z",
     "shell.execute_reply": "2021-12-17T13:26:05.172604Z",
     "shell.execute_reply.started": "2021-12-17T13:05:22.720547Z"
    },
    "papermill": {
     "duration": 0.839386,
     "end_time": "2021-12-17T13:26:05.173414",
     "exception": false,
     "start_time": "2021-12-17T13:26:04.334028",
     "status": "completed"
    },
    "tags": []
   },
   "outputs": [
    {
     "data": {
      "text/plain": [
       "<seaborn.axisgrid.FacetGrid at 0x7ff5b5336950>"
      ]
     },
     "execution_count": 26,
     "metadata": {},
     "output_type": "execute_result"
    },
    {
     "data": {
      "image/png": "[encoded data removed]",
      "text/plain": [
       "<Figure size 720x360 with 2 Axes>"
      ]
     },
     "metadata": {
      "needs_background": "light"
     },
     "output_type": "display_data"
    }
   ],
   "source": [
    "hour_df = uber_df['hour'].value_counts().reset_index()\n",
    "hour_df.columns = ['hour', 'count']\n",
    "sns.relplot(\n",
    "    data=hour_df, x=\"hour\", y=\"count\",\n",
    "    col=uber_df['month'],\n",
    "    kind=\"scatter\"\n",
    ")"
   ]
  },
  {
   "cell_type": "markdown",
   "id": "9a80bbde",
   "metadata": {
    "papermill": {
     "duration": 0.085939,
     "end_time": "2021-12-17T13:26:05.344356",
     "exception": false,
     "start_time": "2021-12-17T13:26:05.258417",
     "status": "completed"
    },
    "tags": []
   },
   "source": [
    "The least number of trips are at 8:00 AM. However, The most number of trips are at 11:00 PM."
   ]
  },
  {
   "cell_type": "markdown",
   "id": "bfb6055e",
   "metadata": {
    "papermill": {
     "duration": 0.085586,
     "end_time": "2021-12-17T13:26:05.516792",
     "exception": false,
     "start_time": "2021-12-17T13:26:05.431206",
     "status": "completed"
    },
    "tags": []
   },
   "source": [
    "<h2>Distance and Price 👇</h2>"
   ]
  },
  {
   "cell_type": "code",
   "execution_count": 27,
   "id": "a6648b5d",
   "metadata": {
    "execution": {
     "iopub.execute_input": "2021-12-17T13:26:05.695626Z",
     "iopub.status.busy": "2021-12-17T13:26:05.694953Z",
     "iopub.status.idle": "2021-12-17T13:26:15.217975Z",
     "shell.execute_reply": "2021-12-17T13:26:15.218523Z",
     "shell.execute_reply.started": "2021-12-17T13:05:23.400250Z"
    },
    "papermill": {
     "duration": 9.614032,
     "end_time": "2021-12-17T13:26:15.218724",
     "exception": false,
     "start_time": "2021-12-17T13:26:05.604692",
     "status": "completed"
    },
    "tags": []
   },
   "outputs": [
    {
     "data": {
      "text/plain": [
       "Text(0.5, 1.0, '\\nRelation between Distance & Price\\n')"
      ]
     },
     "execution_count": 27,
     "metadata": {},
     "output_type": "execute_result"
    },
    {
     "data": {
      "image/png": "[encoded data removed]",
      "text/plain": [
       "<Figure size 720x504 with 2 Axes>"
      ]
     },
     "metadata": {
      "needs_background": "light"
     },
     "output_type": "display_data"
    }
   ],
   "source": [
    "uber_df.plot.scatter(x=\"distance\", y=\"price\", figsize=(10,7), c='price', cmap='jet')\n",
    "plt.title('\\nRelation between Distance & Price\\n', fontsize=14, fontweight='bold')"
   ]
  },
  {
   "cell_type": "markdown",
   "id": "e27d0788",
   "metadata": {
    "papermill": {
     "duration": 0.091407,
     "end_time": "2021-12-17T13:26:15.401882",
     "exception": false,
     "start_time": "2021-12-17T13:26:15.310475",
     "status": "completed"
    },
    "tags": []
   },
   "source": [
    "<h2>Temperature and Trip Price 👇</h2>"
   ]
  },
  {
   "cell_type": "code",
   "execution_count": 28,
   "id": "96eff625",
   "metadata": {
    "execution": {
     "iopub.execute_input": "2021-12-17T13:26:15.597188Z",
     "iopub.status.busy": "2021-12-17T13:26:15.596415Z",
     "iopub.status.idle": "2021-12-17T13:26:27.239278Z",
     "shell.execute_reply": "2021-12-17T13:26:27.238564Z",
     "shell.execute_reply.started": "2021-12-17T13:05:32.121329Z"
    },
    "papermill": {
     "duration": 11.745833,
     "end_time": "2021-12-17T13:26:27.239486",
     "exception": false,
     "start_time": "2021-12-17T13:26:15.493653",
     "status": "completed"
    },
    "tags": []
   },
   "outputs": [
    {
     "data": {
      "text/plain": [
       "<AxesSubplot:xlabel='temperature', ylabel='price'>"
      ]
     },
     "execution_count": 28,
     "metadata": {},
     "output_type": "execute_result"
    },
    {
     "data": {
      "image/png": "[encoded data removed]",
      "text/plain": [
       "<Figure size 720x360 with 1 Axes>"
      ]
     },
     "metadata": {
      "needs_background": "light"
     },
     "output_type": "display_data"
    }
   ],
   "source": [
    "sns.lineplot(x =\"temperature\", y =\"price\", data = uber_df, hue='month', palette='Set1', markers=True, dashes=False, style='month')"
   ]
  },
  {
   "cell_type": "markdown",
   "id": "7ab81514",
   "metadata": {
    "papermill": {
     "duration": 0.095654,
     "end_time": "2021-12-17T13:26:27.431127",
     "exception": false,
     "start_time": "2021-12-17T13:26:27.335473",
     "status": "completed"
    },
    "tags": []
   },
   "source": [
    "From this plot we can conclude that there is a relationship but not a strong relationship between the price and temperature column."
   ]
  },
  {
   "cell_type": "code",
   "execution_count": 29,
   "id": "932d1ca0",
   "metadata": {
    "execution": {
     "iopub.execute_input": "2021-12-17T13:26:27.631399Z",
     "iopub.status.busy": "2021-12-17T13:26:27.630129Z",
     "iopub.status.idle": "2021-12-17T13:26:31.404392Z",
     "shell.execute_reply": "2021-12-17T13:26:31.405033Z",
     "shell.execute_reply.started": "2021-12-17T13:05:41.255264Z"
    },
    "papermill": {
     "duration": 3.875504,
     "end_time": "2021-12-17T13:26:31.405232",
     "exception": false,
     "start_time": "2021-12-17T13:26:27.529728",
     "status": "completed"
    },
    "tags": []
   },
   "outputs": [
    {
     "data": {
      "text/plain": [
       "Text(0.5, 1.0, 'Relation between hours of day and latitude of passenger')"
      ]
     },
     "execution_count": 29,
     "metadata": {},
     "output_type": "execute_result"
    },
    {
     "data": {
      "image/png": "[encoded data removed]",
      "text/plain": [
       "<Figure size 720x360 with 1 Axes>"
      ]
     },
     "metadata": {
      "needs_background": "light"
     },
     "output_type": "display_data"
    }
   ],
   "source": [
    "ax=sns.pointplot(x=\"hour\",y=\"latitude\", hue=\"month\",data=uber_df)\n",
    "ax.set_title('Relation between hours of day and latitude of passenger')"
   ]
  },
  {
   "cell_type": "markdown",
   "id": "8b10655e",
   "metadata": {
    "papermill": {
     "duration": 0.096539,
     "end_time": "2021-12-17T13:26:31.599121",
     "exception": false,
     "start_time": "2021-12-17T13:26:31.502582",
     "status": "completed"
    },
    "tags": []
   },
   "source": [
    "<h1>5. Feature Engineering</h1>\n",
    "A feature is any measurable input that can be used in a predictive model to ceate outputs. Features are usually in the form of structured columns.<br>In order to make machine learning algorithms work well on new tasks, it might be necessary to design and train better features. So, that's why we need feature engineering.\n",
    "\n",
    "<h4>Why is the importance of feature engineering?</h4>\n",
    "<ul>\n",
    "    <li>Preparing the input dataset so that it can be compatible with the ML algorithm.</li>\n",
    "    <li>Improving the algorithms performance.</li>\n",
    "</ul>\n",
    "\n",
    "<h4>Common Feature Engineering Techniques Used</h4>\n",
    "<ul>\n",
    "    <li><b>One-hot encoding</b></li>\n",
    "    <li><b>Feature Hashing</b></li>\n",
    "    <li><b>Log Transformation</b></li>\n",
    "    <li><b>Grouping Operations</b></li>\n",
    "    \n",
    "</ul>\n",
    "\n",
    "<h3>I will perform 2 steps:</h3>\n",
    "<ol>\n",
    "    <li><b>One-hot encoding</b></li>\n",
    "    <li><b>Feature selection</b></li>\n",
    "</ol>"
   ]
  },
  {
   "cell_type": "markdown",
   "id": "9878ffe1",
   "metadata": {
    "papermill": {
     "duration": 0.096826,
     "end_time": "2021-12-17T13:26:31.793793",
     "exception": false,
     "start_time": "2021-12-17T13:26:31.696967",
     "status": "completed"
    },
    "tags": []
   },
   "source": [
    "<h2>5.1. One-hot encoding (pandas get dummies)</h2>\n",
    "This is one of the common encoding methods used in feature engineering. One-hot encoding is a method of assigning binary values (0’s and 1’s) to values in the columns. "
   ]
  },
  {
   "cell_type": "code",
   "execution_count": 30,
   "id": "0884314a",
   "metadata": {
    "execution": {
     "iopub.execute_input": "2021-12-17T13:26:31.994259Z",
     "iopub.status.busy": "2021-12-17T13:26:31.993524Z",
     "iopub.status.idle": "2021-12-17T13:26:32.055454Z",
     "shell.execute_reply": "2021-12-17T13:26:32.054643Z",
     "shell.execute_reply.started": "2021-12-17T13:05:44.698239Z"
    },
    "papermill": {
     "duration": 0.161811,
     "end_time": "2021-12-17T13:26:32.055626",
     "exception": false,
     "start_time": "2021-12-17T13:26:31.893815",
     "status": "completed"
    },
    "tags": []
   },
   "outputs": [
    {
     "data": {
      "text/plain": [
       "UberXL       55096\n",
       "WAV          55096\n",
       "Black SUV    55096\n",
       "Black        55095\n",
       "UberX        55094\n",
       "UberPool     55091\n",
       "Name: Service_type, dtype: int64"
      ]
     },
     "execution_count": 30,
     "metadata": {},
     "output_type": "execute_result"
    }
   ],
   "source": [
    "uber_df['Service_type'].value_counts()"
   ]
  },
  {
   "cell_type": "code",
   "execution_count": 31,
   "id": "eb8f0aee",
   "metadata": {
    "execution": {
     "iopub.execute_input": "2021-12-17T13:26:32.254323Z",
     "iopub.status.busy": "2021-12-17T13:26:32.253600Z",
     "iopub.status.idle": "2021-12-17T13:26:32.313159Z",
     "shell.execute_reply": "2021-12-17T13:26:32.313748Z",
     "shell.execute_reply.started": "2021-12-17T13:05:44.729896Z"
    },
    "papermill": {
     "duration": 0.161433,
     "end_time": "2021-12-17T13:26:32.313967",
     "exception": false,
     "start_time": "2021-12-17T13:26:32.152534",
     "status": "completed"
    },
    "tags": []
   },
   "outputs": [
    {
     "data": {
      "text/plain": [
       " cloudy                  104013\n",
       " partly-cloudy-night      75244\n",
       " partly-cloudy-day        55202\n",
       " rain                     50216\n",
       " clear-night              28878\n",
       " clear-day                12725\n",
       " fog                       4290\n",
       "Name: weather_condition, dtype: int64"
      ]
     },
     "execution_count": 31,
     "metadata": {},
     "output_type": "execute_result"
    }
   ],
   "source": [
    "uber_df['weather_condition'].value_counts()"
   ]
  },
  {
   "cell_type": "code",
   "execution_count": 32,
   "id": "eb993a4c",
   "metadata": {
    "execution": {
     "iopub.execute_input": "2021-12-17T13:26:32.515531Z",
     "iopub.status.busy": "2021-12-17T13:26:32.514865Z",
     "iopub.status.idle": "2021-12-17T13:26:32.867175Z",
     "shell.execute_reply": "2021-12-17T13:26:32.867875Z",
     "shell.execute_reply.started": "2021-12-17T13:05:44.760599Z"
    },
    "papermill": {
     "duration": 0.456726,
     "end_time": "2021-12-17T13:26:32.868107",
     "exception": false,
     "start_time": "2021-12-17T13:26:32.411381",
     "status": "completed"
    },
    "tags": []
   },
   "outputs": [],
   "source": [
    "# drop_first --> get k-1 dummies out of k categorical levels by removing the first level\n",
    "# a dummy variable[a] is one that takes only the value 0 or 1\n",
    "uber_df = pd.get_dummies(uber_df, drop_first=True)"
   ]
  },
  {
   "cell_type": "code",
   "execution_count": 33,
   "id": "096d79f7",
   "metadata": {
    "execution": {
     "iopub.execute_input": "2021-12-17T13:26:33.078254Z",
     "iopub.status.busy": "2021-12-17T13:26:33.072858Z",
     "iopub.status.idle": "2021-12-17T13:26:33.126474Z",
     "shell.execute_reply": "2021-12-17T13:26:33.127001Z",
     "shell.execute_reply.started": "2021-12-17T13:05:45.045236Z"
    },
    "papermill": {
     "duration": 0.159243,
     "end_time": "2021-12-17T13:26:33.127199",
     "exception": false,
     "start_time": "2021-12-17T13:26:32.967956",
     "status": "completed"
    },
    "tags": []
   },
   "outputs": [
    {
     "data": {
      "text/html": [
       "<div>\n",
       "<style scoped>\n",
       "    .dataframe tbody tr th:only-of-type {\n",
       "        vertical-align: middle;\n",
       "    }\n",
       "\n",
       "    .dataframe tbody tr th {\n",
       "        vertical-align: top;\n",
       "    }\n",
       "\n",
       "    .dataframe thead th {\n",
       "        text-align: right;\n",
       "    }\n",
       "</style>\n",
       "<table border=\"1\" class=\"dataframe\">\n",
       "  <thead>\n",
       "    <tr style=\"text-align: right;\">\n",
       "      <th></th>\n",
       "      <th>hour</th>\n",
       "      <th>day</th>\n",
       "      <th>month</th>\n",
       "      <th>price</th>\n",
       "      <th>distance</th>\n",
       "      <th>latitude</th>\n",
       "      <th>longitude</th>\n",
       "      <th>temperature</th>\n",
       "      <th>apparentTemperature</th>\n",
       "      <th>precipIntensity</th>\n",
       "      <th>precipProbability</th>\n",
       "      <th>humidity</th>\n",
       "      <th>windSpeed</th>\n",
       "      <th>windGust</th>\n",
       "      <th>windGustTime</th>\n",
       "      <th>visibility</th>\n",
       "      <th>temperatureHigh</th>\n",
       "      <th>temperatureHighTime</th>\n",
       "      <th>temperatureLow</th>\n",
       "      <th>temperatureLowTime</th>\n",
       "      <th>apparentTemperatureHigh</th>\n",
       "      <th>apparentTemperatureHighTime</th>\n",
       "      <th>apparentTemperatureLow</th>\n",
       "      <th>apparentTemperatureLowTime</th>\n",
       "      <th>dewPoint</th>\n",
       "      <th>pressure</th>\n",
       "      <th>windBearing</th>\n",
       "      <th>cloudCover</th>\n",
       "      <th>uvIndex</th>\n",
       "      <th>visibility.1</th>\n",
       "      <th>ozone</th>\n",
       "      <th>sunriseTime</th>\n",
       "      <th>sunsetTime</th>\n",
       "      <th>moonPhase</th>\n",
       "      <th>precipIntensityMax</th>\n",
       "      <th>uvIndexTime</th>\n",
       "      <th>temperatureMin</th>\n",
       "      <th>temperatureMinTime</th>\n",
       "      <th>temperatureMax</th>\n",
       "      <th>temperatureMaxTime</th>\n",
       "      <th>apparentTemperatureMin</th>\n",
       "      <th>apparentTemperatureMinTime</th>\n",
       "      <th>apparentTemperatureMax</th>\n",
       "      <th>apparentTemperatureMaxTime</th>\n",
       "      <th>source_Beacon Hill</th>\n",
       "      <th>source_Boston University</th>\n",
       "      <th>source_Fenway</th>\n",
       "      <th>source_Financial District</th>\n",
       "      <th>source_Haymarket Square</th>\n",
       "      <th>source_North End</th>\n",
       "      <th>source_North Station</th>\n",
       "      <th>source_Northeastern University</th>\n",
       "      <th>source_South Station</th>\n",
       "      <th>source_Theatre District</th>\n",
       "      <th>source_West End</th>\n",
       "      <th>destination_Beacon Hill</th>\n",
       "      <th>destination_Boston University</th>\n",
       "      <th>destination_Fenway</th>\n",
       "      <th>destination_Financial District</th>\n",
       "      <th>destination_Haymarket Square</th>\n",
       "      <th>destination_North End</th>\n",
       "      <th>destination_North Station</th>\n",
       "      <th>destination_Northeastern University</th>\n",
       "      <th>destination_South Station</th>\n",
       "      <th>destination_Theatre District</th>\n",
       "      <th>destination_West End</th>\n",
       "      <th>Service_type_Black SUV</th>\n",
       "      <th>Service_type_UberPool</th>\n",
       "      <th>Service_type_UberX</th>\n",
       "      <th>Service_type_UberXL</th>\n",
       "      <th>Service_type_WAV</th>\n",
       "      <th>weather_condition_ clear-night</th>\n",
       "      <th>weather_condition_ cloudy</th>\n",
       "      <th>weather_condition_ fog</th>\n",
       "      <th>weather_condition_ partly-cloudy-day</th>\n",
       "      <th>weather_condition_ partly-cloudy-night</th>\n",
       "      <th>weather_condition_ rain</th>\n",
       "    </tr>\n",
       "  </thead>\n",
       "  <tbody>\n",
       "    <tr>\n",
       "      <th>0</th>\n",
       "      <td>22</td>\n",
       "      <td>30</td>\n",
       "      <td>11</td>\n",
       "      <td>12.0</td>\n",
       "      <td>1.11</td>\n",
       "      <td>42.3647</td>\n",
       "      <td>-71.0542</td>\n",
       "      <td>40.13</td>\n",
       "      <td>38.08</td>\n",
       "      <td>0.0000</td>\n",
       "      <td>0.00</td>\n",
       "      <td>0.60</td>\n",
       "      <td>3.38</td>\n",
       "      <td>3.99</td>\n",
       "      <td>1543554000</td>\n",
       "      <td>9.833</td>\n",
       "      <td>42.52</td>\n",
       "      <td>1543600800</td>\n",
       "      <td>31.71</td>\n",
       "      <td>1543658400</td>\n",
       "      <td>40.53</td>\n",
       "      <td>1543611600</td>\n",
       "      <td>28.06</td>\n",
       "      <td>1543658400</td>\n",
       "      <td>27.31</td>\n",
       "      <td>1017.16</td>\n",
       "      <td>281</td>\n",
       "      <td>1.00</td>\n",
       "      <td>0</td>\n",
       "      <td>9.833</td>\n",
       "      <td>281.8</td>\n",
       "      <td>1543578867</td>\n",
       "      <td>1543612470</td>\n",
       "      <td>0.79</td>\n",
       "      <td>0.0003</td>\n",
       "      <td>1543593600</td>\n",
       "      <td>28.79</td>\n",
       "      <td>1543579200</td>\n",
       "      <td>42.52</td>\n",
       "      <td>1543600800</td>\n",
       "      <td>26.41</td>\n",
       "      <td>1543575600</td>\n",
       "      <td>40.53</td>\n",
       "      <td>1543611600</td>\n",
       "      <td>0</td>\n",
       "      <td>0</td>\n",
       "      <td>0</td>\n",
       "      <td>0</td>\n",
       "      <td>0</td>\n",
       "      <td>1</td>\n",
       "      <td>0</td>\n",
       "      <td>0</td>\n",
       "      <td>0</td>\n",
       "      <td>0</td>\n",
       "      <td>0</td>\n",
       "      <td>0</td>\n",
       "      <td>0</td>\n",
       "      <td>0</td>\n",
       "      <td>0</td>\n",
       "      <td>0</td>\n",
       "      <td>0</td>\n",
       "      <td>0</td>\n",
       "      <td>0</td>\n",
       "      <td>0</td>\n",
       "      <td>0</td>\n",
       "      <td>1</td>\n",
       "      <td>0</td>\n",
       "      <td>0</td>\n",
       "      <td>0</td>\n",
       "      <td>1</td>\n",
       "      <td>0</td>\n",
       "      <td>0</td>\n",
       "      <td>1</td>\n",
       "      <td>0</td>\n",
       "      <td>0</td>\n",
       "      <td>0</td>\n",
       "      <td>0</td>\n",
       "    </tr>\n",
       "    <tr>\n",
       "      <th>1</th>\n",
       "      <td>10</td>\n",
       "      <td>13</td>\n",
       "      <td>12</td>\n",
       "      <td>16.0</td>\n",
       "      <td>1.11</td>\n",
       "      <td>42.3647</td>\n",
       "      <td>-71.0542</td>\n",
       "      <td>20.38</td>\n",
       "      <td>20.38</td>\n",
       "      <td>0.0000</td>\n",
       "      <td>0.00</td>\n",
       "      <td>0.66</td>\n",
       "      <td>2.94</td>\n",
       "      <td>3.22</td>\n",
       "      <td>1544738400</td>\n",
       "      <td>9.831</td>\n",
       "      <td>33.83</td>\n",
       "      <td>1544731200</td>\n",
       "      <td>27.27</td>\n",
       "      <td>1544781600</td>\n",
       "      <td>32.85</td>\n",
       "      <td>1544734800</td>\n",
       "      <td>24.61</td>\n",
       "      <td>1544785200</td>\n",
       "      <td>10.87</td>\n",
       "      <td>1031.51</td>\n",
       "      <td>2</td>\n",
       "      <td>0.03</td>\n",
       "      <td>0</td>\n",
       "      <td>9.831</td>\n",
       "      <td>327.3</td>\n",
       "      <td>1544702792</td>\n",
       "      <td>1544735599</td>\n",
       "      <td>0.21</td>\n",
       "      <td>0.0001</td>\n",
       "      <td>1544716800</td>\n",
       "      <td>18.29</td>\n",
       "      <td>1544688000</td>\n",
       "      <td>33.83</td>\n",
       "      <td>1544731200</td>\n",
       "      <td>13.79</td>\n",
       "      <td>1544688000</td>\n",
       "      <td>32.85</td>\n",
       "      <td>1544734800</td>\n",
       "      <td>0</td>\n",
       "      <td>0</td>\n",
       "      <td>0</td>\n",
       "      <td>0</td>\n",
       "      <td>0</td>\n",
       "      <td>1</td>\n",
       "      <td>0</td>\n",
       "      <td>0</td>\n",
       "      <td>0</td>\n",
       "      <td>0</td>\n",
       "      <td>0</td>\n",
       "      <td>0</td>\n",
       "      <td>0</td>\n",
       "      <td>0</td>\n",
       "      <td>0</td>\n",
       "      <td>0</td>\n",
       "      <td>0</td>\n",
       "      <td>0</td>\n",
       "      <td>0</td>\n",
       "      <td>0</td>\n",
       "      <td>0</td>\n",
       "      <td>1</td>\n",
       "      <td>0</td>\n",
       "      <td>0</td>\n",
       "      <td>0</td>\n",
       "      <td>0</td>\n",
       "      <td>0</td>\n",
       "      <td>1</td>\n",
       "      <td>0</td>\n",
       "      <td>0</td>\n",
       "      <td>0</td>\n",
       "      <td>0</td>\n",
       "      <td>0</td>\n",
       "    </tr>\n",
       "    <tr>\n",
       "      <th>2</th>\n",
       "      <td>19</td>\n",
       "      <td>13</td>\n",
       "      <td>12</td>\n",
       "      <td>7.5</td>\n",
       "      <td>1.11</td>\n",
       "      <td>42.3647</td>\n",
       "      <td>-71.0542</td>\n",
       "      <td>32.85</td>\n",
       "      <td>32.85</td>\n",
       "      <td>0.0000</td>\n",
       "      <td>0.00</td>\n",
       "      <td>0.56</td>\n",
       "      <td>2.65</td>\n",
       "      <td>3.83</td>\n",
       "      <td>1544738400</td>\n",
       "      <td>9.959</td>\n",
       "      <td>33.83</td>\n",
       "      <td>1544731200</td>\n",
       "      <td>27.27</td>\n",
       "      <td>1544781600</td>\n",
       "      <td>32.85</td>\n",
       "      <td>1544734800</td>\n",
       "      <td>24.61</td>\n",
       "      <td>1544785200</td>\n",
       "      <td>18.66</td>\n",
       "      <td>1033.65</td>\n",
       "      <td>76</td>\n",
       "      <td>0.64</td>\n",
       "      <td>0</td>\n",
       "      <td>9.959</td>\n",
       "      <td>330.8</td>\n",
       "      <td>1544702792</td>\n",
       "      <td>1544735599</td>\n",
       "      <td>0.21</td>\n",
       "      <td>0.0001</td>\n",
       "      <td>1544716800</td>\n",
       "      <td>18.29</td>\n",
       "      <td>1544688000</td>\n",
       "      <td>33.83</td>\n",
       "      <td>1544731200</td>\n",
       "      <td>13.79</td>\n",
       "      <td>1544688000</td>\n",
       "      <td>32.85</td>\n",
       "      <td>1544734800</td>\n",
       "      <td>0</td>\n",
       "      <td>0</td>\n",
       "      <td>0</td>\n",
       "      <td>0</td>\n",
       "      <td>0</td>\n",
       "      <td>1</td>\n",
       "      <td>0</td>\n",
       "      <td>0</td>\n",
       "      <td>0</td>\n",
       "      <td>0</td>\n",
       "      <td>0</td>\n",
       "      <td>0</td>\n",
       "      <td>0</td>\n",
       "      <td>0</td>\n",
       "      <td>0</td>\n",
       "      <td>0</td>\n",
       "      <td>0</td>\n",
       "      <td>0</td>\n",
       "      <td>0</td>\n",
       "      <td>0</td>\n",
       "      <td>0</td>\n",
       "      <td>1</td>\n",
       "      <td>0</td>\n",
       "      <td>0</td>\n",
       "      <td>1</td>\n",
       "      <td>0</td>\n",
       "      <td>0</td>\n",
       "      <td>0</td>\n",
       "      <td>0</td>\n",
       "      <td>0</td>\n",
       "      <td>1</td>\n",
       "      <td>0</td>\n",
       "      <td>0</td>\n",
       "    </tr>\n",
       "    <tr>\n",
       "      <th>3</th>\n",
       "      <td>23</td>\n",
       "      <td>16</td>\n",
       "      <td>12</td>\n",
       "      <td>7.5</td>\n",
       "      <td>1.11</td>\n",
       "      <td>42.3647</td>\n",
       "      <td>-71.0542</td>\n",
       "      <td>41.29</td>\n",
       "      <td>36.01</td>\n",
       "      <td>0.0567</td>\n",
       "      <td>0.94</td>\n",
       "      <td>0.86</td>\n",
       "      <td>8.30</td>\n",
       "      <td>8.30</td>\n",
       "      <td>1545015600</td>\n",
       "      <td>4.054</td>\n",
       "      <td>43.83</td>\n",
       "      <td>1544990400</td>\n",
       "      <td>34.25</td>\n",
       "      <td>1545044400</td>\n",
       "      <td>38.38</td>\n",
       "      <td>1544986800</td>\n",
       "      <td>28.30</td>\n",
       "      <td>1545044400</td>\n",
       "      <td>37.56</td>\n",
       "      <td>1012.72</td>\n",
       "      <td>57</td>\n",
       "      <td>1.00</td>\n",
       "      <td>0</td>\n",
       "      <td>4.054</td>\n",
       "      <td>325.3</td>\n",
       "      <td>1544962119</td>\n",
       "      <td>1544994839</td>\n",
       "      <td>0.30</td>\n",
       "      <td>0.1252</td>\n",
       "      <td>1544979600</td>\n",
       "      <td>39.22</td>\n",
       "      <td>1544954400</td>\n",
       "      <td>43.83</td>\n",
       "      <td>1544990400</td>\n",
       "      <td>33.98</td>\n",
       "      <td>1545019200</td>\n",
       "      <td>38.38</td>\n",
       "      <td>1544986800</td>\n",
       "      <td>0</td>\n",
       "      <td>0</td>\n",
       "      <td>0</td>\n",
       "      <td>0</td>\n",
       "      <td>0</td>\n",
       "      <td>1</td>\n",
       "      <td>0</td>\n",
       "      <td>0</td>\n",
       "      <td>0</td>\n",
       "      <td>0</td>\n",
       "      <td>0</td>\n",
       "      <td>0</td>\n",
       "      <td>0</td>\n",
       "      <td>0</td>\n",
       "      <td>0</td>\n",
       "      <td>0</td>\n",
       "      <td>0</td>\n",
       "      <td>0</td>\n",
       "      <td>0</td>\n",
       "      <td>0</td>\n",
       "      <td>0</td>\n",
       "      <td>1</td>\n",
       "      <td>0</td>\n",
       "      <td>0</td>\n",
       "      <td>0</td>\n",
       "      <td>0</td>\n",
       "      <td>1</td>\n",
       "      <td>0</td>\n",
       "      <td>0</td>\n",
       "      <td>0</td>\n",
       "      <td>0</td>\n",
       "      <td>0</td>\n",
       "      <td>1</td>\n",
       "    </tr>\n",
       "    <tr>\n",
       "      <th>4</th>\n",
       "      <td>0</td>\n",
       "      <td>14</td>\n",
       "      <td>12</td>\n",
       "      <td>26.0</td>\n",
       "      <td>1.11</td>\n",
       "      <td>42.3647</td>\n",
       "      <td>-71.0542</td>\n",
       "      <td>31.25</td>\n",
       "      <td>31.25</td>\n",
       "      <td>0.0000</td>\n",
       "      <td>0.00</td>\n",
       "      <td>0.64</td>\n",
       "      <td>2.62</td>\n",
       "      <td>3.54</td>\n",
       "      <td>1544738400</td>\n",
       "      <td>10.000</td>\n",
       "      <td>33.83</td>\n",
       "      <td>1544731200</td>\n",
       "      <td>27.27</td>\n",
       "      <td>1544781600</td>\n",
       "      <td>32.85</td>\n",
       "      <td>1544734800</td>\n",
       "      <td>24.61</td>\n",
       "      <td>1544785200</td>\n",
       "      <td>20.53</td>\n",
       "      <td>1035.06</td>\n",
       "      <td>173</td>\n",
       "      <td>0.91</td>\n",
       "      <td>0</td>\n",
       "      <td>10.000</td>\n",
       "      <td>326.7</td>\n",
       "      <td>1544702792</td>\n",
       "      <td>1544735599</td>\n",
       "      <td>0.21</td>\n",
       "      <td>0.0001</td>\n",
       "      <td>1544716800</td>\n",
       "      <td>18.29</td>\n",
       "      <td>1544688000</td>\n",
       "      <td>33.83</td>\n",
       "      <td>1544731200</td>\n",
       "      <td>13.79</td>\n",
       "      <td>1544688000</td>\n",
       "      <td>32.85</td>\n",
       "      <td>1544734800</td>\n",
       "      <td>0</td>\n",
       "      <td>0</td>\n",
       "      <td>0</td>\n",
       "      <td>0</td>\n",
       "      <td>0</td>\n",
       "      <td>1</td>\n",
       "      <td>0</td>\n",
       "      <td>0</td>\n",
       "      <td>0</td>\n",
       "      <td>0</td>\n",
       "      <td>0</td>\n",
       "      <td>0</td>\n",
       "      <td>0</td>\n",
       "      <td>0</td>\n",
       "      <td>0</td>\n",
       "      <td>0</td>\n",
       "      <td>0</td>\n",
       "      <td>0</td>\n",
       "      <td>0</td>\n",
       "      <td>0</td>\n",
       "      <td>0</td>\n",
       "      <td>1</td>\n",
       "      <td>1</td>\n",
       "      <td>0</td>\n",
       "      <td>0</td>\n",
       "      <td>0</td>\n",
       "      <td>0</td>\n",
       "      <td>0</td>\n",
       "      <td>1</td>\n",
       "      <td>0</td>\n",
       "      <td>0</td>\n",
       "      <td>0</td>\n",
       "      <td>0</td>\n",
       "    </tr>\n",
       "  </tbody>\n",
       "</table>\n",
       "</div>"
      ],
      "text/plain": [
       "   hour  day  month  price  distance  latitude  longitude  temperature  \\\n",
       "0    22   30     11   12.0      1.11   42.3647   -71.0542        40.13   \n",
       "1    10   13     12   16.0      1.11   42.3647   -71.0542        20.38   \n",
       "2    19   13     12    7.5      1.11   42.3647   -71.0542        32.85   \n",
       "3    23   16     12    7.5      1.11   42.3647   -71.0542        41.29   \n",
       "4     0   14     12   26.0      1.11   42.3647   -71.0542        31.25   \n",
       "\n",
       "   apparentTemperature  precipIntensity  precipProbability  humidity  \\\n",
       "0                38.08           0.0000               0.00      0.60   \n",
       "1                20.38           0.0000               0.00      0.66   \n",
       "2                32.85           0.0000               0.00      0.56   \n",
       "3                36.01           0.0567               0.94      0.86   \n",
       "4                31.25           0.0000               0.00      0.64   \n",
       "\n",
       "   windSpeed  windGust  windGustTime  visibility  temperatureHigh  \\\n",
       "0       3.38      3.99    1543554000       9.833            42.52   \n",
       "1       2.94      3.22    1544738400       9.831            33.83   \n",
       "2       2.65      3.83    1544738400       9.959            33.83   \n",
       "3       8.30      8.30    1545015600       4.054            43.83   \n",
       "4       2.62      3.54    1544738400      10.000            33.83   \n",
       "\n",
       "   temperatureHighTime  temperatureLow  temperatureLowTime  \\\n",
       "0           1543600800           31.71          1543658400   \n",
       "1           1544731200           27.27          1544781600   \n",
       "2           1544731200           27.27          1544781600   \n",
       "3           1544990400           34.25          1545044400   \n",
       "4           1544731200           27.27          1544781600   \n",
       "\n",
       "   apparentTemperatureHigh  apparentTemperatureHighTime  \\\n",
       "0                    40.53                   1543611600   \n",
       "1                    32.85                   1544734800   \n",
       "2                    32.85                   1544734800   \n",
       "3                    38.38                   1544986800   \n",
       "4                    32.85                   1544734800   \n",
       "\n",
       "   apparentTemperatureLow  apparentTemperatureLowTime  dewPoint  pressure  \\\n",
       "0                   28.06                  1543658400     27.31   1017.16   \n",
       "1                   24.61                  1544785200     10.87   1031.51   \n",
       "2                   24.61                  1544785200     18.66   1033.65   \n",
       "3                   28.30                  1545044400     37.56   1012.72   \n",
       "4                   24.61                  1544785200     20.53   1035.06   \n",
       "\n",
       "   windBearing  cloudCover  uvIndex  visibility.1  ozone  sunriseTime  \\\n",
       "0          281        1.00        0         9.833  281.8   1543578867   \n",
       "1            2        0.03        0         9.831  327.3   1544702792   \n",
       "2           76        0.64        0         9.959  330.8   1544702792   \n",
       "3           57        1.00        0         4.054  325.3   1544962119   \n",
       "4          173        0.91        0        10.000  326.7   1544702792   \n",
       "\n",
       "   sunsetTime  moonPhase  precipIntensityMax  uvIndexTime  temperatureMin  \\\n",
       "0  1543612470       0.79              0.0003   1543593600           28.79   \n",
       "1  1544735599       0.21              0.0001   1544716800           18.29   \n",
       "2  1544735599       0.21              0.0001   1544716800           18.29   \n",
       "3  1544994839       0.30              0.1252   1544979600           39.22   \n",
       "4  1544735599       0.21              0.0001   1544716800           18.29   \n",
       "\n",
       "   temperatureMinTime  temperatureMax  temperatureMaxTime  \\\n",
       "0          1543579200           42.52          1543600800   \n",
       "1          1544688000           33.83          1544731200   \n",
       "2          1544688000           33.83          1544731200   \n",
       "3          1544954400           43.83          1544990400   \n",
       "4          1544688000           33.83          1544731200   \n",
       "\n",
       "   apparentTemperatureMin  apparentTemperatureMinTime  apparentTemperatureMax  \\\n",
       "0                   26.41                  1543575600                   40.53   \n",
       "1                   13.79                  1544688000                   32.85   \n",
       "2                   13.79                  1544688000                   32.85   \n",
       "3                   33.98                  1545019200                   38.38   \n",
       "4                   13.79                  1544688000                   32.85   \n",
       "\n",
       "   apparentTemperatureMaxTime  source_Beacon Hill  source_Boston University  \\\n",
       "0                  1543611600                   0                         0   \n",
       "1                  1544734800                   0                         0   \n",
       "2                  1544734800                   0                         0   \n",
       "3                  1544986800                   0                         0   \n",
       "4                  1544734800                   0                         0   \n",
       "\n",
       "   source_Fenway  source_Financial District  source_Haymarket Square  \\\n",
       "0              0                          0                        0   \n",
       "1              0                          0                        0   \n",
       "2              0                          0                        0   \n",
       "3              0                          0                        0   \n",
       "4              0                          0                        0   \n",
       "\n",
       "   source_North End  source_North Station  source_Northeastern University  \\\n",
       "0                 1                     0                               0   \n",
       "1                 1                     0                               0   \n",
       "2                 1                     0                               0   \n",
       "3                 1                     0                               0   \n",
       "4                 1                     0                               0   \n",
       "\n",
       "   source_South Station  source_Theatre District  source_West End  \\\n",
       "0                     0                        0                0   \n",
       "1                     0                        0                0   \n",
       "2                     0                        0                0   \n",
       "3                     0                        0                0   \n",
       "4                     0                        0                0   \n",
       "\n",
       "   destination_Beacon Hill  destination_Boston University  destination_Fenway  \\\n",
       "0                        0                              0                   0   \n",
       "1                        0                              0                   0   \n",
       "2                        0                              0                   0   \n",
       "3                        0                              0                   0   \n",
       "4                        0                              0                   0   \n",
       "\n",
       "   destination_Financial District  destination_Haymarket Square  \\\n",
       "0                               0                             0   \n",
       "1                               0                             0   \n",
       "2                               0                             0   \n",
       "3                               0                             0   \n",
       "4                               0                             0   \n",
       "\n",
       "   destination_North End  destination_North Station  \\\n",
       "0                      0                          0   \n",
       "1                      0                          0   \n",
       "2                      0                          0   \n",
       "3                      0                          0   \n",
       "4                      0                          0   \n",
       "\n",
       "   destination_Northeastern University  destination_South Station  \\\n",
       "0                                    0                          0   \n",
       "1                                    0                          0   \n",
       "2                                    0                          0   \n",
       "3                                    0                          0   \n",
       "4                                    0                          0   \n",
       "\n",
       "   destination_Theatre District  destination_West End  Service_type_Black SUV  \\\n",
       "0                             0                     1                       0   \n",
       "1                             0                     1                       0   \n",
       "2                             0                     1                       0   \n",
       "3                             0                     1                       0   \n",
       "4                             0                     1                       1   \n",
       "\n",
       "   Service_type_UberPool  Service_type_UberX  Service_type_UberXL  \\\n",
       "0                      0                   0                    1   \n",
       "1                      0                   0                    0   \n",
       "2                      0                   1                    0   \n",
       "3                      0                   0                    0   \n",
       "4                      0                   0                    0   \n",
       "\n",
       "   Service_type_WAV  weather_condition_ clear-night   \\\n",
       "0                 0                                0   \n",
       "1                 0                                1   \n",
       "2                 0                                0   \n",
       "3                 1                                0   \n",
       "4                 0                                0   \n",
       "\n",
       "   weather_condition_ cloudy   weather_condition_ fog   \\\n",
       "0                           1                        0   \n",
       "1                           0                        0   \n",
       "2                           0                        0   \n",
       "3                           0                        0   \n",
       "4                           1                        0   \n",
       "\n",
       "   weather_condition_ partly-cloudy-day   \\\n",
       "0                                      0   \n",
       "1                                      0   \n",
       "2                                      1   \n",
       "3                                      0   \n",
       "4                                      0   \n",
       "\n",
       "   weather_condition_ partly-cloudy-night   weather_condition_ rain   \n",
       "0                                        0                         0  \n",
       "1                                        0                         0  \n",
       "2                                        0                         0  \n",
       "3                                        0                         1  \n",
       "4                                        0                         0  "
      ]
     },
     "execution_count": 33,
     "metadata": {},
     "output_type": "execute_result"
    }
   ],
   "source": [
    "uber_df.head()"
   ]
  },
  {
   "cell_type": "code",
   "execution_count": 34,
   "id": "5d02798b",
   "metadata": {
    "execution": {
     "iopub.execute_input": "2021-12-17T13:26:33.331839Z",
     "iopub.status.busy": "2021-12-17T13:26:33.330813Z",
     "iopub.status.idle": "2021-12-17T13:26:33.334942Z",
     "shell.execute_reply": "2021-12-17T13:26:33.334395Z",
     "shell.execute_reply.started": "2021-12-17T13:05:45.099200Z"
    },
    "papermill": {
     "duration": 0.109134,
     "end_time": "2021-12-17T13:26:33.335098",
     "exception": false,
     "start_time": "2021-12-17T13:26:33.225964",
     "status": "completed"
    },
    "tags": []
   },
   "outputs": [
    {
     "data": {
      "text/plain": [
       "(330568, 77)"
      ]
     },
     "execution_count": 34,
     "metadata": {},
     "output_type": "execute_result"
    }
   ],
   "source": [
    "uber_df.shape"
   ]
  },
  {
   "cell_type": "code",
   "execution_count": 35,
   "id": "6824863b",
   "metadata": {
    "execution": {
     "iopub.execute_input": "2021-12-17T13:26:33.542315Z",
     "iopub.status.busy": "2021-12-17T13:26:33.538946Z",
     "iopub.status.idle": "2021-12-17T13:26:33.547828Z",
     "shell.execute_reply": "2021-12-17T13:26:33.547177Z",
     "shell.execute_reply.started": "2021-12-17T13:05:45.108897Z"
    },
    "papermill": {
     "duration": 0.113753,
     "end_time": "2021-12-17T13:26:33.547997",
     "exception": false,
     "start_time": "2021-12-17T13:26:33.434244",
     "status": "completed"
    },
    "tags": []
   },
   "outputs": [
    {
     "data": {
      "text/plain": [
       "hour                                         int64\n",
       "day                                          int64\n",
       "month                                        int64\n",
       "price                                      float64\n",
       "distance                                   float64\n",
       "                                            ...   \n",
       "weather_condition_ cloudy                    uint8\n",
       "weather_condition_ fog                       uint8\n",
       "weather_condition_ partly-cloudy-day         uint8\n",
       "weather_condition_ partly-cloudy-night       uint8\n",
       "weather_condition_ rain                      uint8\n",
       "Length: 77, dtype: object"
      ]
     },
     "execution_count": 35,
     "metadata": {},
     "output_type": "execute_result"
    }
   ],
   "source": [
    "uber_df.dtypes"
   ]
  },
  {
   "cell_type": "markdown",
   "id": "6a9cb12f",
   "metadata": {
    "papermill": {
     "duration": 0.100297,
     "end_time": "2021-12-17T13:26:33.749477",
     "exception": false,
     "start_time": "2021-12-17T13:26:33.649180",
     "status": "completed"
    },
    "tags": []
   },
   "source": [
    "<h1>5.2. Feature Selection</h1>\n",
    "<ul>\n",
    "    <li><b>Feature selection:</b> is the process of selecting a subset of relevant features or variables from the total features of a level in a data set to build machine learning algorithms.</li>\n",
    "</ul>\n",
    "<h4>The techniques for feature selection can be broadly classified into the following categories:</h4>\n",
    "<ul>\n",
    "    <li>Supervised techniques</li>\n",
    "    <li>Unsupervised techniques</li>\n",
    "</ul>\n",
    "<h4>These techniques are classified as under:</h4>\n",
    "<ul>\n",
    "    <li>Filter methods</li>\n",
    "    <li>Wrapper methods</li>\n",
    "    <li>Embedded methods</li>\n",
    "    <li>Hybrid methods</li>\n",
    "</ul>\n",
    "<h4> Let's see the Wrapper Methods:</h4>\n",
    "<ul>\n",
    "    <li>Wrapper feature selection methods create many models with different subsets of input features and select those features that result in the best performing model according to a performance metric.</li>\n",
    "    <li>It follows a greedy search approach by evaluating all the possible combinations of features against the evaluation criterion. </li>\n",
    "    <li>These methods are unconcerned with the variable types, although they can be computationally expensive.</li>\n",
    "    <li>The wrapper methods usually result in better predictive accuracy than filter methods.</li>\n",
    "    <li><b>RFE</b> is a good example of a wrapper feature selection method.</li>\n",
    "</ul>\n",
    "\n",
    "<h2>Recursive Feature Elimination (RFE)</h2>\n",
    "<ul>\n",
    "    <li>Recursive Feature Elimination, or RFE for short, is a popular feature selection algorithm.</li>\n",
    "    <li>RFE is popular because it is easy to configure and use and because it is effective at selecting those features (columns) in a training dataset that are more or most relevant in predicting the target variable.</li>\n",
    "</ul>\n",
    "<h4>RFE devided into 3 parts:</h4>\n",
    "<ol>\n",
    "    <li>Recursive Feature Elimination</li>\n",
    "    <li>RFE With scikit-learn</li>\n",
    "    <ul>\n",
    "            <li>RFE for Classification</li>\n",
    "            <li>RFE for Regression</li>\n",
    "    </ul>\n",
    "    <li>RFE Hyperparameters</li>\n",
    "    <ul>\n",
    "            <li>Explore Number of Features</li>\n",
    "            <ul>\n",
    "                <li>Automatically Select the Number of Features</li>\n",
    "                <li>Which Features Were Selected</li>\n",
    "            </ul>\n",
    "            <li>Explore Base Algorithm</li>\n",
    "    </ul>\n",
    "</ol>"
   ]
  },
  {
   "cell_type": "markdown",
   "id": "2d8b7d9f",
   "metadata": {
    "papermill": {
     "duration": 0.099323,
     "end_time": "2021-12-17T13:26:33.949576",
     "exception": false,
     "start_time": "2021-12-17T13:26:33.850253",
     "status": "completed"
    },
    "tags": []
   },
   "source": [
    "<h3>Load the necessary libraries</h3>"
   ]
  },
  {
   "cell_type": "code",
   "execution_count": 36,
   "id": "fba517b3",
   "metadata": {
    "execution": {
     "iopub.execute_input": "2021-12-17T13:26:34.157474Z",
     "iopub.status.busy": "2021-12-17T13:26:34.156782Z",
     "iopub.status.idle": "2021-12-17T13:26:34.173406Z",
     "shell.execute_reply": "2021-12-17T13:26:34.174099Z",
     "shell.execute_reply.started": "2021-12-17T13:05:45.123879Z"
    },
    "papermill": {
     "duration": 0.12288,
     "end_time": "2021-12-17T13:26:34.174366",
     "exception": false,
     "start_time": "2021-12-17T13:26:34.051486",
     "status": "completed"
    },
    "tags": []
   },
   "outputs": [],
   "source": [
    "from sklearn.model_selection import train_test_split\n",
    "from sklearn.linear_model import LinearRegression \n",
    "from sklearn.tree import DecisionTreeRegressor\n",
    "from sklearn.ensemble import RandomForestRegressor\n",
    "from sklearn.feature_selection import RFE "
   ]
  },
  {
   "cell_type": "code",
   "execution_count": 37,
   "id": "9651cfb6",
   "metadata": {
    "execution": {
     "iopub.execute_input": "2021-12-17T13:26:34.379232Z",
     "iopub.status.busy": "2021-12-17T13:26:34.378484Z",
     "iopub.status.idle": "2021-12-17T13:26:34.594622Z",
     "shell.execute_reply": "2021-12-17T13:26:34.595125Z",
     "shell.execute_reply.started": "2021-12-17T13:05:45.144836Z"
    },
    "papermill": {
     "duration": 0.319588,
     "end_time": "2021-12-17T13:26:34.595337",
     "exception": false,
     "start_time": "2021-12-17T13:26:34.275749",
     "status": "completed"
    },
    "tags": []
   },
   "outputs": [
    {
     "name": "stdout",
     "output_type": "stream",
     "text": [
      "(330568, 76)\n",
      "(330568,)\n"
     ]
    }
   ],
   "source": [
    "X = uber_df.drop('price', axis=1)\n",
    "y = uber_df['price']\n",
    "print(X.shape)\n",
    "print(y.shape)\n",
    "R_squared = {}"
   ]
  },
  {
   "cell_type": "markdown",
   "id": "3e796fe0",
   "metadata": {
    "papermill": {
     "duration": 0.099499,
     "end_time": "2021-12-17T13:26:34.794193",
     "exception": false,
     "start_time": "2021-12-17T13:26:34.694694",
     "status": "completed"
    },
    "tags": []
   },
   "source": [
    "<h4>Model 1 : with 76 features<h4>"
   ]
  },
  {
   "cell_type": "code",
   "execution_count": 38,
   "id": "cea218eb",
   "metadata": {
    "execution": {
     "iopub.execute_input": "2021-12-17T13:26:35.001983Z",
     "iopub.status.busy": "2021-12-17T13:26:35.001185Z",
     "iopub.status.idle": "2021-12-17T13:26:35.264839Z",
     "shell.execute_reply": "2021-12-17T13:26:35.264148Z",
     "shell.execute_reply.started": "2021-12-17T13:05:45.294145Z"
    },
    "papermill": {
     "duration": 0.370262,
     "end_time": "2021-12-17T13:26:35.265002",
     "exception": false,
     "start_time": "2021-12-17T13:26:34.894740",
     "status": "completed"
    },
    "tags": []
   },
   "outputs": [],
   "source": [
    "X_train, X_test, y_train, y_test = train_test_split(X, y, test_size=0.2, random_state=42)"
   ]
  },
  {
   "cell_type": "code",
   "execution_count": 39,
   "id": "406d3603",
   "metadata": {
    "execution": {
     "iopub.execute_input": "2021-12-17T13:26:35.476851Z",
     "iopub.status.busy": "2021-12-17T13:26:35.476052Z",
     "iopub.status.idle": "2021-12-17T13:26:37.271810Z",
     "shell.execute_reply": "2021-12-17T13:26:37.270713Z",
     "shell.execute_reply.started": "2021-12-17T13:05:45.486056Z"
    },
    "papermill": {
     "duration": 1.905146,
     "end_time": "2021-12-17T13:26:37.272089",
     "exception": false,
     "start_time": "2021-12-17T13:26:35.366943",
     "status": "completed"
    },
    "tags": []
   },
   "outputs": [],
   "source": [
    "reg = LinearRegression()\n",
    "reg = reg.fit(X_train, y_train)\n",
    "reg.score(X_train, y_train)\n",
    "R_squared['Feature_76'] = reg.score(X_test, y_test)"
   ]
  },
  {
   "cell_type": "markdown",
   "id": "73e1c831",
   "metadata": {
    "papermill": {
     "duration": 0.100779,
     "end_time": "2021-12-17T13:26:37.525704",
     "exception": false,
     "start_time": "2021-12-17T13:26:37.424925",
     "status": "completed"
    },
    "tags": []
   },
   "source": [
    "<h4>Model 2: with 60 features</h4>"
   ]
  },
  {
   "cell_type": "code",
   "execution_count": 40,
   "id": "7b17ae8b",
   "metadata": {
    "execution": {
     "iopub.execute_input": "2021-12-17T13:26:37.734723Z",
     "iopub.status.busy": "2021-12-17T13:26:37.732208Z",
     "iopub.status.idle": "2021-12-17T13:27:08.810288Z",
     "shell.execute_reply": "2021-12-17T13:27:08.812015Z",
     "shell.execute_reply.started": "2021-12-17T13:05:46.773236Z"
    },
    "papermill": {
     "duration": 31.185266,
     "end_time": "2021-12-17T13:27:08.812467",
     "exception": false,
     "start_time": "2021-12-17T13:26:37.627201",
     "status": "completed"
    },
    "tags": []
   },
   "outputs": [
    {
     "name": "stdout",
     "output_type": "stream",
     "text": [
      "Fitting estimator with 76 features.\n",
      "Fitting estimator with 75 features.\n",
      "Fitting estimator with 74 features.\n",
      "Fitting estimator with 73 features.\n",
      "Fitting estimator with 72 features.\n",
      "Fitting estimator with 71 features.\n",
      "Fitting estimator with 70 features.\n",
      "Fitting estimator with 69 features.\n",
      "Fitting estimator with 68 features.\n",
      "Fitting estimator with 67 features.\n",
      "Fitting estimator with 66 features.\n",
      "Fitting estimator with 65 features.\n",
      "Fitting estimator with 64 features.\n",
      "Fitting estimator with 63 features.\n",
      "Fitting estimator with 62 features.\n",
      "Fitting estimator with 61 features.\n"
     ]
    }
   ],
   "source": [
    "rfe = RFE(reg, 60, verbose=1)\n",
    "rfe = rfe.fit(X, y)"
   ]
  },
  {
   "cell_type": "code",
   "execution_count": 41,
   "id": "0e2bf114",
   "metadata": {
    "execution": {
     "iopub.execute_input": "2021-12-17T13:27:09.080820Z",
     "iopub.status.busy": "2021-12-17T13:27:09.079819Z",
     "iopub.status.idle": "2021-12-17T13:27:09.084098Z",
     "shell.execute_reply": "2021-12-17T13:27:09.083530Z",
     "shell.execute_reply.started": "2021-12-17T13:06:07.749389Z"
    },
    "papermill": {
     "duration": 0.114306,
     "end_time": "2021-12-17T13:27:09.084276",
     "exception": false,
     "start_time": "2021-12-17T13:27:08.969970",
     "status": "completed"
    },
    "tags": []
   },
   "outputs": [
    {
     "data": {
      "text/plain": [
       "array([False,  True,  True,  True,  True,  True,  True,  True,  True,\n",
       "        True,  True,  True,  True, False, False,  True, False,  True,\n",
       "       False,  True, False,  True, False,  True,  True, False,  True,\n",
       "        True, False,  True, False, False,  True,  True, False,  True,\n",
       "       False,  True, False,  True, False,  True, False,  True,  True,\n",
       "        True,  True,  True,  True,  True,  True,  True,  True,  True,\n",
       "        True,  True,  True,  True,  True,  True,  True,  True,  True,\n",
       "        True,  True,  True,  True,  True,  True,  True,  True,  True,\n",
       "        True,  True,  True,  True])"
      ]
     },
     "execution_count": 41,
     "metadata": {},
     "output_type": "execute_result"
    }
   ],
   "source": [
    "rfe.support_"
   ]
  },
  {
   "cell_type": "code",
   "execution_count": 42,
   "id": "9e11bc5c",
   "metadata": {
    "execution": {
     "iopub.execute_input": "2021-12-17T13:27:09.339132Z",
     "iopub.status.busy": "2021-12-17T13:27:09.338346Z",
     "iopub.status.idle": "2021-12-17T13:27:09.396866Z",
     "shell.execute_reply": "2021-12-17T13:27:09.397403Z",
     "shell.execute_reply.started": "2021-12-17T13:06:07.760115Z"
    },
    "papermill": {
     "duration": 0.206285,
     "end_time": "2021-12-17T13:27:09.397596",
     "exception": false,
     "start_time": "2021-12-17T13:27:09.191311",
     "status": "completed"
    },
    "tags": []
   },
   "outputs": [
    {
     "data": {
      "text/html": [
       "<div>\n",
       "<style scoped>\n",
       "    .dataframe tbody tr th:only-of-type {\n",
       "        vertical-align: middle;\n",
       "    }\n",
       "\n",
       "    .dataframe tbody tr th {\n",
       "        vertical-align: top;\n",
       "    }\n",
       "\n",
       "    .dataframe thead th {\n",
       "        text-align: right;\n",
       "    }\n",
       "</style>\n",
       "<table border=\"1\" class=\"dataframe\">\n",
       "  <thead>\n",
       "    <tr style=\"text-align: right;\">\n",
       "      <th></th>\n",
       "      <th>day</th>\n",
       "      <th>month</th>\n",
       "      <th>distance</th>\n",
       "      <th>latitude</th>\n",
       "      <th>longitude</th>\n",
       "      <th>temperature</th>\n",
       "      <th>apparentTemperature</th>\n",
       "      <th>precipIntensity</th>\n",
       "      <th>precipProbability</th>\n",
       "      <th>humidity</th>\n",
       "      <th>windSpeed</th>\n",
       "      <th>windGust</th>\n",
       "      <th>temperatureHigh</th>\n",
       "      <th>temperatureLow</th>\n",
       "      <th>apparentTemperatureHigh</th>\n",
       "      <th>apparentTemperatureLow</th>\n",
       "      <th>dewPoint</th>\n",
       "      <th>pressure</th>\n",
       "      <th>cloudCover</th>\n",
       "      <th>uvIndex</th>\n",
       "      <th>ozone</th>\n",
       "      <th>moonPhase</th>\n",
       "      <th>precipIntensityMax</th>\n",
       "      <th>temperatureMin</th>\n",
       "      <th>temperatureMax</th>\n",
       "      <th>apparentTemperatureMin</th>\n",
       "      <th>apparentTemperatureMax</th>\n",
       "      <th>source_Beacon Hill</th>\n",
       "      <th>source_Boston University</th>\n",
       "      <th>source_Fenway</th>\n",
       "      <th>source_Financial District</th>\n",
       "      <th>source_Haymarket Square</th>\n",
       "      <th>source_North End</th>\n",
       "      <th>source_North Station</th>\n",
       "      <th>source_Northeastern University</th>\n",
       "      <th>source_South Station</th>\n",
       "      <th>source_Theatre District</th>\n",
       "      <th>source_West End</th>\n",
       "      <th>destination_Beacon Hill</th>\n",
       "      <th>destination_Boston University</th>\n",
       "      <th>destination_Fenway</th>\n",
       "      <th>destination_Financial District</th>\n",
       "      <th>destination_Haymarket Square</th>\n",
       "      <th>destination_North End</th>\n",
       "      <th>destination_North Station</th>\n",
       "      <th>destination_Northeastern University</th>\n",
       "      <th>destination_South Station</th>\n",
       "      <th>destination_Theatre District</th>\n",
       "      <th>destination_West End</th>\n",
       "      <th>Service_type_Black SUV</th>\n",
       "      <th>Service_type_UberPool</th>\n",
       "      <th>Service_type_UberX</th>\n",
       "      <th>Service_type_UberXL</th>\n",
       "      <th>Service_type_WAV</th>\n",
       "      <th>weather_condition_ clear-night</th>\n",
       "      <th>weather_condition_ cloudy</th>\n",
       "      <th>weather_condition_ fog</th>\n",
       "      <th>weather_condition_ partly-cloudy-day</th>\n",
       "      <th>weather_condition_ partly-cloudy-night</th>\n",
       "      <th>weather_condition_ rain</th>\n",
       "    </tr>\n",
       "  </thead>\n",
       "  <tbody>\n",
       "    <tr>\n",
       "      <th>0</th>\n",
       "      <td>30</td>\n",
       "      <td>11</td>\n",
       "      <td>1.11</td>\n",
       "      <td>42.3647</td>\n",
       "      <td>-71.0542</td>\n",
       "      <td>40.13</td>\n",
       "      <td>38.08</td>\n",
       "      <td>0.0000</td>\n",
       "      <td>0.00</td>\n",
       "      <td>0.60</td>\n",
       "      <td>3.38</td>\n",
       "      <td>3.99</td>\n",
       "      <td>42.52</td>\n",
       "      <td>31.71</td>\n",
       "      <td>40.53</td>\n",
       "      <td>28.06</td>\n",
       "      <td>27.31</td>\n",
       "      <td>1017.16</td>\n",
       "      <td>1.00</td>\n",
       "      <td>0</td>\n",
       "      <td>281.8</td>\n",
       "      <td>0.79</td>\n",
       "      <td>0.0003</td>\n",
       "      <td>28.79</td>\n",
       "      <td>42.52</td>\n",
       "      <td>26.41</td>\n",
       "      <td>40.53</td>\n",
       "      <td>0</td>\n",
       "      <td>0</td>\n",
       "      <td>0</td>\n",
       "      <td>0</td>\n",
       "      <td>0</td>\n",
       "      <td>1</td>\n",
       "      <td>0</td>\n",
       "      <td>0</td>\n",
       "      <td>0</td>\n",
       "      <td>0</td>\n",
       "      <td>0</td>\n",
       "      <td>0</td>\n",
       "      <td>0</td>\n",
       "      <td>0</td>\n",
       "      <td>0</td>\n",
       "      <td>0</td>\n",
       "      <td>0</td>\n",
       "      <td>0</td>\n",
       "      <td>0</td>\n",
       "      <td>0</td>\n",
       "      <td>0</td>\n",
       "      <td>1</td>\n",
       "      <td>0</td>\n",
       "      <td>0</td>\n",
       "      <td>0</td>\n",
       "      <td>1</td>\n",
       "      <td>0</td>\n",
       "      <td>0</td>\n",
       "      <td>1</td>\n",
       "      <td>0</td>\n",
       "      <td>0</td>\n",
       "      <td>0</td>\n",
       "      <td>0</td>\n",
       "    </tr>\n",
       "    <tr>\n",
       "      <th>1</th>\n",
       "      <td>13</td>\n",
       "      <td>12</td>\n",
       "      <td>1.11</td>\n",
       "      <td>42.3647</td>\n",
       "      <td>-71.0542</td>\n",
       "      <td>20.38</td>\n",
       "      <td>20.38</td>\n",
       "      <td>0.0000</td>\n",
       "      <td>0.00</td>\n",
       "      <td>0.66</td>\n",
       "      <td>2.94</td>\n",
       "      <td>3.22</td>\n",
       "      <td>33.83</td>\n",
       "      <td>27.27</td>\n",
       "      <td>32.85</td>\n",
       "      <td>24.61</td>\n",
       "      <td>10.87</td>\n",
       "      <td>1031.51</td>\n",
       "      <td>0.03</td>\n",
       "      <td>0</td>\n",
       "      <td>327.3</td>\n",
       "      <td>0.21</td>\n",
       "      <td>0.0001</td>\n",
       "      <td>18.29</td>\n",
       "      <td>33.83</td>\n",
       "      <td>13.79</td>\n",
       "      <td>32.85</td>\n",
       "      <td>0</td>\n",
       "      <td>0</td>\n",
       "      <td>0</td>\n",
       "      <td>0</td>\n",
       "      <td>0</td>\n",
       "      <td>1</td>\n",
       "      <td>0</td>\n",
       "      <td>0</td>\n",
       "      <td>0</td>\n",
       "      <td>0</td>\n",
       "      <td>0</td>\n",
       "      <td>0</td>\n",
       "      <td>0</td>\n",
       "      <td>0</td>\n",
       "      <td>0</td>\n",
       "      <td>0</td>\n",
       "      <td>0</td>\n",
       "      <td>0</td>\n",
       "      <td>0</td>\n",
       "      <td>0</td>\n",
       "      <td>0</td>\n",
       "      <td>1</td>\n",
       "      <td>0</td>\n",
       "      <td>0</td>\n",
       "      <td>0</td>\n",
       "      <td>0</td>\n",
       "      <td>0</td>\n",
       "      <td>1</td>\n",
       "      <td>0</td>\n",
       "      <td>0</td>\n",
       "      <td>0</td>\n",
       "      <td>0</td>\n",
       "      <td>0</td>\n",
       "    </tr>\n",
       "    <tr>\n",
       "      <th>2</th>\n",
       "      <td>13</td>\n",
       "      <td>12</td>\n",
       "      <td>1.11</td>\n",
       "      <td>42.3647</td>\n",
       "      <td>-71.0542</td>\n",
       "      <td>32.85</td>\n",
       "      <td>32.85</td>\n",
       "      <td>0.0000</td>\n",
       "      <td>0.00</td>\n",
       "      <td>0.56</td>\n",
       "      <td>2.65</td>\n",
       "      <td>3.83</td>\n",
       "      <td>33.83</td>\n",
       "      <td>27.27</td>\n",
       "      <td>32.85</td>\n",
       "      <td>24.61</td>\n",
       "      <td>18.66</td>\n",
       "      <td>1033.65</td>\n",
       "      <td>0.64</td>\n",
       "      <td>0</td>\n",
       "      <td>330.8</td>\n",
       "      <td>0.21</td>\n",
       "      <td>0.0001</td>\n",
       "      <td>18.29</td>\n",
       "      <td>33.83</td>\n",
       "      <td>13.79</td>\n",
       "      <td>32.85</td>\n",
       "      <td>0</td>\n",
       "      <td>0</td>\n",
       "      <td>0</td>\n",
       "      <td>0</td>\n",
       "      <td>0</td>\n",
       "      <td>1</td>\n",
       "      <td>0</td>\n",
       "      <td>0</td>\n",
       "      <td>0</td>\n",
       "      <td>0</td>\n",
       "      <td>0</td>\n",
       "      <td>0</td>\n",
       "      <td>0</td>\n",
       "      <td>0</td>\n",
       "      <td>0</td>\n",
       "      <td>0</td>\n",
       "      <td>0</td>\n",
       "      <td>0</td>\n",
       "      <td>0</td>\n",
       "      <td>0</td>\n",
       "      <td>0</td>\n",
       "      <td>1</td>\n",
       "      <td>0</td>\n",
       "      <td>0</td>\n",
       "      <td>1</td>\n",
       "      <td>0</td>\n",
       "      <td>0</td>\n",
       "      <td>0</td>\n",
       "      <td>0</td>\n",
       "      <td>0</td>\n",
       "      <td>1</td>\n",
       "      <td>0</td>\n",
       "      <td>0</td>\n",
       "    </tr>\n",
       "    <tr>\n",
       "      <th>3</th>\n",
       "      <td>16</td>\n",
       "      <td>12</td>\n",
       "      <td>1.11</td>\n",
       "      <td>42.3647</td>\n",
       "      <td>-71.0542</td>\n",
       "      <td>41.29</td>\n",
       "      <td>36.01</td>\n",
       "      <td>0.0567</td>\n",
       "      <td>0.94</td>\n",
       "      <td>0.86</td>\n",
       "      <td>8.30</td>\n",
       "      <td>8.30</td>\n",
       "      <td>43.83</td>\n",
       "      <td>34.25</td>\n",
       "      <td>38.38</td>\n",
       "      <td>28.30</td>\n",
       "      <td>37.56</td>\n",
       "      <td>1012.72</td>\n",
       "      <td>1.00</td>\n",
       "      <td>0</td>\n",
       "      <td>325.3</td>\n",
       "      <td>0.30</td>\n",
       "      <td>0.1252</td>\n",
       "      <td>39.22</td>\n",
       "      <td>43.83</td>\n",
       "      <td>33.98</td>\n",
       "      <td>38.38</td>\n",
       "      <td>0</td>\n",
       "      <td>0</td>\n",
       "      <td>0</td>\n",
       "      <td>0</td>\n",
       "      <td>0</td>\n",
       "      <td>1</td>\n",
       "      <td>0</td>\n",
       "      <td>0</td>\n",
       "      <td>0</td>\n",
       "      <td>0</td>\n",
       "      <td>0</td>\n",
       "      <td>0</td>\n",
       "      <td>0</td>\n",
       "      <td>0</td>\n",
       "      <td>0</td>\n",
       "      <td>0</td>\n",
       "      <td>0</td>\n",
       "      <td>0</td>\n",
       "      <td>0</td>\n",
       "      <td>0</td>\n",
       "      <td>0</td>\n",
       "      <td>1</td>\n",
       "      <td>0</td>\n",
       "      <td>0</td>\n",
       "      <td>0</td>\n",
       "      <td>0</td>\n",
       "      <td>1</td>\n",
       "      <td>0</td>\n",
       "      <td>0</td>\n",
       "      <td>0</td>\n",
       "      <td>0</td>\n",
       "      <td>0</td>\n",
       "      <td>1</td>\n",
       "    </tr>\n",
       "    <tr>\n",
       "      <th>4</th>\n",
       "      <td>14</td>\n",
       "      <td>12</td>\n",
       "      <td>1.11</td>\n",
       "      <td>42.3647</td>\n",
       "      <td>-71.0542</td>\n",
       "      <td>31.25</td>\n",
       "      <td>31.25</td>\n",
       "      <td>0.0000</td>\n",
       "      <td>0.00</td>\n",
       "      <td>0.64</td>\n",
       "      <td>2.62</td>\n",
       "      <td>3.54</td>\n",
       "      <td>33.83</td>\n",
       "      <td>27.27</td>\n",
       "      <td>32.85</td>\n",
       "      <td>24.61</td>\n",
       "      <td>20.53</td>\n",
       "      <td>1035.06</td>\n",
       "      <td>0.91</td>\n",
       "      <td>0</td>\n",
       "      <td>326.7</td>\n",
       "      <td>0.21</td>\n",
       "      <td>0.0001</td>\n",
       "      <td>18.29</td>\n",
       "      <td>33.83</td>\n",
       "      <td>13.79</td>\n",
       "      <td>32.85</td>\n",
       "      <td>0</td>\n",
       "      <td>0</td>\n",
       "      <td>0</td>\n",
       "      <td>0</td>\n",
       "      <td>0</td>\n",
       "      <td>1</td>\n",
       "      <td>0</td>\n",
       "      <td>0</td>\n",
       "      <td>0</td>\n",
       "      <td>0</td>\n",
       "      <td>0</td>\n",
       "      <td>0</td>\n",
       "      <td>0</td>\n",
       "      <td>0</td>\n",
       "      <td>0</td>\n",
       "      <td>0</td>\n",
       "      <td>0</td>\n",
       "      <td>0</td>\n",
       "      <td>0</td>\n",
       "      <td>0</td>\n",
       "      <td>0</td>\n",
       "      <td>1</td>\n",
       "      <td>1</td>\n",
       "      <td>0</td>\n",
       "      <td>0</td>\n",
       "      <td>0</td>\n",
       "      <td>0</td>\n",
       "      <td>0</td>\n",
       "      <td>1</td>\n",
       "      <td>0</td>\n",
       "      <td>0</td>\n",
       "      <td>0</td>\n",
       "      <td>0</td>\n",
       "    </tr>\n",
       "  </tbody>\n",
       "</table>\n",
       "</div>"
      ],
      "text/plain": [
       "   day  month  distance  latitude  longitude  temperature  \\\n",
       "0   30     11      1.11   42.3647   -71.0542        40.13   \n",
       "1   13     12      1.11   42.3647   -71.0542        20.38   \n",
       "2   13     12      1.11   42.3647   -71.0542        32.85   \n",
       "3   16     12      1.11   42.3647   -71.0542        41.29   \n",
       "4   14     12      1.11   42.3647   -71.0542        31.25   \n",
       "\n",
       "   apparentTemperature  precipIntensity  precipProbability  humidity  \\\n",
       "0                38.08           0.0000               0.00      0.60   \n",
       "1                20.38           0.0000               0.00      0.66   \n",
       "2                32.85           0.0000               0.00      0.56   \n",
       "3                36.01           0.0567               0.94      0.86   \n",
       "4                31.25           0.0000               0.00      0.64   \n",
       "\n",
       "   windSpeed  windGust  temperatureHigh  temperatureLow  \\\n",
       "0       3.38      3.99            42.52           31.71   \n",
       "1       2.94      3.22            33.83           27.27   \n",
       "2       2.65      3.83            33.83           27.27   \n",
       "3       8.30      8.30            43.83           34.25   \n",
       "4       2.62      3.54            33.83           27.27   \n",
       "\n",
       "   apparentTemperatureHigh  apparentTemperatureLow  dewPoint  pressure  \\\n",
       "0                    40.53                   28.06     27.31   1017.16   \n",
       "1                    32.85                   24.61     10.87   1031.51   \n",
       "2                    32.85                   24.61     18.66   1033.65   \n",
       "3                    38.38                   28.30     37.56   1012.72   \n",
       "4                    32.85                   24.61     20.53   1035.06   \n",
       "\n",
       "   cloudCover  uvIndex  ozone  moonPhase  precipIntensityMax  temperatureMin  \\\n",
       "0        1.00        0  281.8       0.79              0.0003           28.79   \n",
       "1        0.03        0  327.3       0.21              0.0001           18.29   \n",
       "2        0.64        0  330.8       0.21              0.0001           18.29   \n",
       "3        1.00        0  325.3       0.30              0.1252           39.22   \n",
       "4        0.91        0  326.7       0.21              0.0001           18.29   \n",
       "\n",
       "   temperatureMax  apparentTemperatureMin  apparentTemperatureMax  \\\n",
       "0           42.52                   26.41                   40.53   \n",
       "1           33.83                   13.79                   32.85   \n",
       "2           33.83                   13.79                   32.85   \n",
       "3           43.83                   33.98                   38.38   \n",
       "4           33.83                   13.79                   32.85   \n",
       "\n",
       "   source_Beacon Hill  source_Boston University  source_Fenway  \\\n",
       "0                   0                         0              0   \n",
       "1                   0                         0              0   \n",
       "2                   0                         0              0   \n",
       "3                   0                         0              0   \n",
       "4                   0                         0              0   \n",
       "\n",
       "   source_Financial District  source_Haymarket Square  source_North End  \\\n",
       "0                          0                        0                 1   \n",
       "1                          0                        0                 1   \n",
       "2                          0                        0                 1   \n",
       "3                          0                        0                 1   \n",
       "4                          0                        0                 1   \n",
       "\n",
       "   source_North Station  source_Northeastern University  source_South Station  \\\n",
       "0                     0                               0                     0   \n",
       "1                     0                               0                     0   \n",
       "2                     0                               0                     0   \n",
       "3                     0                               0                     0   \n",
       "4                     0                               0                     0   \n",
       "\n",
       "   source_Theatre District  source_West End  destination_Beacon Hill  \\\n",
       "0                        0                0                        0   \n",
       "1                        0                0                        0   \n",
       "2                        0                0                        0   \n",
       "3                        0                0                        0   \n",
       "4                        0                0                        0   \n",
       "\n",
       "   destination_Boston University  destination_Fenway  \\\n",
       "0                              0                   0   \n",
       "1                              0                   0   \n",
       "2                              0                   0   \n",
       "3                              0                   0   \n",
       "4                              0                   0   \n",
       "\n",
       "   destination_Financial District  destination_Haymarket Square  \\\n",
       "0                               0                             0   \n",
       "1                               0                             0   \n",
       "2                               0                             0   \n",
       "3                               0                             0   \n",
       "4                               0                             0   \n",
       "\n",
       "   destination_North End  destination_North Station  \\\n",
       "0                      0                          0   \n",
       "1                      0                          0   \n",
       "2                      0                          0   \n",
       "3                      0                          0   \n",
       "4                      0                          0   \n",
       "\n",
       "   destination_Northeastern University  destination_South Station  \\\n",
       "0                                    0                          0   \n",
       "1                                    0                          0   \n",
       "2                                    0                          0   \n",
       "3                                    0                          0   \n",
       "4                                    0                          0   \n",
       "\n",
       "   destination_Theatre District  destination_West End  Service_type_Black SUV  \\\n",
       "0                             0                     1                       0   \n",
       "1                             0                     1                       0   \n",
       "2                             0                     1                       0   \n",
       "3                             0                     1                       0   \n",
       "4                             0                     1                       1   \n",
       "\n",
       "   Service_type_UberPool  Service_type_UberX  Service_type_UberXL  \\\n",
       "0                      0                   0                    1   \n",
       "1                      0                   0                    0   \n",
       "2                      0                   1                    0   \n",
       "3                      0                   0                    0   \n",
       "4                      0                   0                    0   \n",
       "\n",
       "   Service_type_WAV  weather_condition_ clear-night   \\\n",
       "0                 0                                0   \n",
       "1                 0                                1   \n",
       "2                 0                                0   \n",
       "3                 1                                0   \n",
       "4                 0                                0   \n",
       "\n",
       "   weather_condition_ cloudy   weather_condition_ fog   \\\n",
       "0                           1                        0   \n",
       "1                           0                        0   \n",
       "2                           0                        0   \n",
       "3                           0                        0   \n",
       "4                           1                        0   \n",
       "\n",
       "   weather_condition_ partly-cloudy-day   \\\n",
       "0                                      0   \n",
       "1                                      0   \n",
       "2                                      1   \n",
       "3                                      0   \n",
       "4                                      0   \n",
       "\n",
       "   weather_condition_ partly-cloudy-night   weather_condition_ rain   \n",
       "0                                        0                         0  \n",
       "1                                        0                         0  \n",
       "2                                        0                         0  \n",
       "3                                        0                         1  \n",
       "4                                        0                         0  "
      ]
     },
     "execution_count": 42,
     "metadata": {},
     "output_type": "execute_result"
    }
   ],
   "source": [
    "X_60 = X[X.columns[rfe.support_]]\n",
    "X_60.head()"
   ]
  },
  {
   "cell_type": "code",
   "execution_count": 43,
   "id": "e7e78cca",
   "metadata": {
    "execution": {
     "iopub.execute_input": "2021-12-17T13:27:09.613164Z",
     "iopub.status.busy": "2021-12-17T13:27:09.612456Z",
     "iopub.status.idle": "2021-12-17T13:27:09.815693Z",
     "shell.execute_reply": "2021-12-17T13:27:09.815153Z",
     "shell.execute_reply.started": "2021-12-17T13:06:07.875705Z"
    },
    "papermill": {
     "duration": 0.312574,
     "end_time": "2021-12-17T13:27:09.815876",
     "exception": false,
     "start_time": "2021-12-17T13:27:09.503302",
     "status": "completed"
    },
    "tags": []
   },
   "outputs": [
    {
     "data": {
      "text/plain": [
       "(231397, 60)"
      ]
     },
     "execution_count": 43,
     "metadata": {},
     "output_type": "execute_result"
    }
   ],
   "source": [
    "X_train, X_test, y_train, y_test = train_test_split(X_60, y, test_size=0.3, random_state=10)\n",
    "X_train.shape"
   ]
  },
  {
   "cell_type": "code",
   "execution_count": 44,
   "id": "dd3834e4",
   "metadata": {
    "execution": {
     "iopub.execute_input": "2021-12-17T13:27:10.036575Z",
     "iopub.status.busy": "2021-12-17T13:27:10.035594Z",
     "iopub.status.idle": "2021-12-17T13:27:11.169123Z",
     "shell.execute_reply": "2021-12-17T13:27:11.170136Z",
     "shell.execute_reply.started": "2021-12-17T13:06:08.028230Z"
    },
    "papermill": {
     "duration": 1.248361,
     "end_time": "2021-12-17T13:27:11.170470",
     "exception": false,
     "start_time": "2021-12-17T13:27:09.922109",
     "status": "completed"
    },
    "tags": []
   },
   "outputs": [],
   "source": [
    "# Creating a model\n",
    "reg1 = LinearRegression()\n",
    "# Fitting training data\n",
    "reg1 = reg1.fit(X_train, y_train)\n",
    "reg1.score(X_train, y_train)\n",
    "R_squared['Feature_60'] = reg1.score(X_test, y_test)"
   ]
  },
  {
   "cell_type": "markdown",
   "id": "4ca10c36",
   "metadata": {
    "papermill": {
     "duration": 0.105781,
     "end_time": "2021-12-17T13:27:11.438688",
     "exception": false,
     "start_time": "2021-12-17T13:27:11.332907",
     "status": "completed"
    },
    "tags": []
   },
   "source": [
    "<h4>Model 3: with 40 features</h4>"
   ]
  },
  {
   "cell_type": "code",
   "execution_count": 45,
   "id": "507866c0",
   "metadata": {
    "execution": {
     "iopub.execute_input": "2021-12-17T13:27:11.661733Z",
     "iopub.status.busy": "2021-12-17T13:27:11.661012Z",
     "iopub.status.idle": "2021-12-17T13:28:02.963440Z",
     "shell.execute_reply": "2021-12-17T13:28:02.964429Z",
     "shell.execute_reply.started": "2021-12-17T13:06:08.808277Z"
    },
    "papermill": {
     "duration": 51.419685,
     "end_time": "2021-12-17T13:28:02.964791",
     "exception": false,
     "start_time": "2021-12-17T13:27:11.545106",
     "status": "completed"
    },
    "tags": []
   },
   "outputs": [
    {
     "name": "stdout",
     "output_type": "stream",
     "text": [
      "Fitting estimator with 76 features.\n",
      "Fitting estimator with 75 features.\n",
      "Fitting estimator with 74 features.\n",
      "Fitting estimator with 73 features.\n",
      "Fitting estimator with 72 features.\n",
      "Fitting estimator with 71 features.\n",
      "Fitting estimator with 70 features.\n",
      "Fitting estimator with 69 features.\n",
      "Fitting estimator with 68 features.\n",
      "Fitting estimator with 67 features.\n",
      "Fitting estimator with 66 features.\n",
      "Fitting estimator with 65 features.\n",
      "Fitting estimator with 64 features.\n",
      "Fitting estimator with 63 features.\n",
      "Fitting estimator with 62 features.\n",
      "Fitting estimator with 61 features.\n",
      "Fitting estimator with 60 features.\n",
      "Fitting estimator with 59 features.\n",
      "Fitting estimator with 58 features.\n",
      "Fitting estimator with 57 features.\n",
      "Fitting estimator with 56 features.\n",
      "Fitting estimator with 55 features.\n",
      "Fitting estimator with 54 features.\n",
      "Fitting estimator with 53 features.\n",
      "Fitting estimator with 52 features.\n",
      "Fitting estimator with 51 features.\n",
      "Fitting estimator with 50 features.\n",
      "Fitting estimator with 49 features.\n",
      "Fitting estimator with 48 features.\n",
      "Fitting estimator with 47 features.\n",
      "Fitting estimator with 46 features.\n",
      "Fitting estimator with 45 features.\n",
      "Fitting estimator with 44 features.\n",
      "Fitting estimator with 43 features.\n",
      "Fitting estimator with 42 features.\n",
      "Fitting estimator with 41 features.\n"
     ]
    }
   ],
   "source": [
    "rfe = RFE(reg, 40, verbose=1)\n",
    "rfe = rfe.fit(X, y)"
   ]
  },
  {
   "cell_type": "code",
   "execution_count": 46,
   "id": "ee98598b",
   "metadata": {
    "execution": {
     "iopub.execute_input": "2021-12-17T13:28:03.228340Z",
     "iopub.status.busy": "2021-12-17T13:28:03.226057Z",
     "iopub.status.idle": "2021-12-17T13:28:03.264642Z",
     "shell.execute_reply": "2021-12-17T13:28:03.265186Z",
     "shell.execute_reply.started": "2021-12-17T13:06:45.188436Z"
    },
    "papermill": {
     "duration": 0.16985,
     "end_time": "2021-12-17T13:28:03.265390",
     "exception": false,
     "start_time": "2021-12-17T13:28:03.095540",
     "status": "completed"
    },
    "tags": []
   },
   "outputs": [
    {
     "data": {
      "text/html": [
       "<div>\n",
       "<style scoped>\n",
       "    .dataframe tbody tr th:only-of-type {\n",
       "        vertical-align: middle;\n",
       "    }\n",
       "\n",
       "    .dataframe tbody tr th {\n",
       "        vertical-align: top;\n",
       "    }\n",
       "\n",
       "    .dataframe thead th {\n",
       "        text-align: right;\n",
       "    }\n",
       "</style>\n",
       "<table border=\"1\" class=\"dataframe\">\n",
       "  <thead>\n",
       "    <tr style=\"text-align: right;\">\n",
       "      <th></th>\n",
       "      <th>distance</th>\n",
       "      <th>longitude</th>\n",
       "      <th>precipIntensity</th>\n",
       "      <th>temperatureHigh</th>\n",
       "      <th>apparentTemperatureHigh</th>\n",
       "      <th>cloudCover</th>\n",
       "      <th>precipIntensityMax</th>\n",
       "      <th>temperatureMax</th>\n",
       "      <th>apparentTemperatureMax</th>\n",
       "      <th>source_Beacon Hill</th>\n",
       "      <th>source_Boston University</th>\n",
       "      <th>source_Fenway</th>\n",
       "      <th>source_Financial District</th>\n",
       "      <th>source_Haymarket Square</th>\n",
       "      <th>source_North End</th>\n",
       "      <th>source_North Station</th>\n",
       "      <th>source_Northeastern University</th>\n",
       "      <th>source_South Station</th>\n",
       "      <th>source_Theatre District</th>\n",
       "      <th>source_West End</th>\n",
       "      <th>destination_Beacon Hill</th>\n",
       "      <th>destination_Boston University</th>\n",
       "      <th>destination_Fenway</th>\n",
       "      <th>destination_Financial District</th>\n",
       "      <th>destination_Haymarket Square</th>\n",
       "      <th>destination_North Station</th>\n",
       "      <th>destination_Northeastern University</th>\n",
       "      <th>destination_South Station</th>\n",
       "      <th>destination_Theatre District</th>\n",
       "      <th>destination_West End</th>\n",
       "      <th>Service_type_Black SUV</th>\n",
       "      <th>Service_type_UberPool</th>\n",
       "      <th>Service_type_UberX</th>\n",
       "      <th>Service_type_UberXL</th>\n",
       "      <th>Service_type_WAV</th>\n",
       "      <th>weather_condition_ cloudy</th>\n",
       "      <th>weather_condition_ fog</th>\n",
       "      <th>weather_condition_ partly-cloudy-day</th>\n",
       "      <th>weather_condition_ partly-cloudy-night</th>\n",
       "      <th>weather_condition_ rain</th>\n",
       "    </tr>\n",
       "  </thead>\n",
       "  <tbody>\n",
       "    <tr>\n",
       "      <th>0</th>\n",
       "      <td>1.11</td>\n",
       "      <td>-71.0542</td>\n",
       "      <td>0.0000</td>\n",
       "      <td>42.52</td>\n",
       "      <td>40.53</td>\n",
       "      <td>1.00</td>\n",
       "      <td>0.0003</td>\n",
       "      <td>42.52</td>\n",
       "      <td>40.53</td>\n",
       "      <td>0</td>\n",
       "      <td>0</td>\n",
       "      <td>0</td>\n",
       "      <td>0</td>\n",
       "      <td>0</td>\n",
       "      <td>1</td>\n",
       "      <td>0</td>\n",
       "      <td>0</td>\n",
       "      <td>0</td>\n",
       "      <td>0</td>\n",
       "      <td>0</td>\n",
       "      <td>0</td>\n",
       "      <td>0</td>\n",
       "      <td>0</td>\n",
       "      <td>0</td>\n",
       "      <td>0</td>\n",
       "      <td>0</td>\n",
       "      <td>0</td>\n",
       "      <td>0</td>\n",
       "      <td>0</td>\n",
       "      <td>1</td>\n",
       "      <td>0</td>\n",
       "      <td>0</td>\n",
       "      <td>0</td>\n",
       "      <td>1</td>\n",
       "      <td>0</td>\n",
       "      <td>1</td>\n",
       "      <td>0</td>\n",
       "      <td>0</td>\n",
       "      <td>0</td>\n",
       "      <td>0</td>\n",
       "    </tr>\n",
       "    <tr>\n",
       "      <th>1</th>\n",
       "      <td>1.11</td>\n",
       "      <td>-71.0542</td>\n",
       "      <td>0.0000</td>\n",
       "      <td>33.83</td>\n",
       "      <td>32.85</td>\n",
       "      <td>0.03</td>\n",
       "      <td>0.0001</td>\n",
       "      <td>33.83</td>\n",
       "      <td>32.85</td>\n",
       "      <td>0</td>\n",
       "      <td>0</td>\n",
       "      <td>0</td>\n",
       "      <td>0</td>\n",
       "      <td>0</td>\n",
       "      <td>1</td>\n",
       "      <td>0</td>\n",
       "      <td>0</td>\n",
       "      <td>0</td>\n",
       "      <td>0</td>\n",
       "      <td>0</td>\n",
       "      <td>0</td>\n",
       "      <td>0</td>\n",
       "      <td>0</td>\n",
       "      <td>0</td>\n",
       "      <td>0</td>\n",
       "      <td>0</td>\n",
       "      <td>0</td>\n",
       "      <td>0</td>\n",
       "      <td>0</td>\n",
       "      <td>1</td>\n",
       "      <td>0</td>\n",
       "      <td>0</td>\n",
       "      <td>0</td>\n",
       "      <td>0</td>\n",
       "      <td>0</td>\n",
       "      <td>0</td>\n",
       "      <td>0</td>\n",
       "      <td>0</td>\n",
       "      <td>0</td>\n",
       "      <td>0</td>\n",
       "    </tr>\n",
       "    <tr>\n",
       "      <th>2</th>\n",
       "      <td>1.11</td>\n",
       "      <td>-71.0542</td>\n",
       "      <td>0.0000</td>\n",
       "      <td>33.83</td>\n",
       "      <td>32.85</td>\n",
       "      <td>0.64</td>\n",
       "      <td>0.0001</td>\n",
       "      <td>33.83</td>\n",
       "      <td>32.85</td>\n",
       "      <td>0</td>\n",
       "      <td>0</td>\n",
       "      <td>0</td>\n",
       "      <td>0</td>\n",
       "      <td>0</td>\n",
       "      <td>1</td>\n",
       "      <td>0</td>\n",
       "      <td>0</td>\n",
       "      <td>0</td>\n",
       "      <td>0</td>\n",
       "      <td>0</td>\n",
       "      <td>0</td>\n",
       "      <td>0</td>\n",
       "      <td>0</td>\n",
       "      <td>0</td>\n",
       "      <td>0</td>\n",
       "      <td>0</td>\n",
       "      <td>0</td>\n",
       "      <td>0</td>\n",
       "      <td>0</td>\n",
       "      <td>1</td>\n",
       "      <td>0</td>\n",
       "      <td>0</td>\n",
       "      <td>1</td>\n",
       "      <td>0</td>\n",
       "      <td>0</td>\n",
       "      <td>0</td>\n",
       "      <td>0</td>\n",
       "      <td>1</td>\n",
       "      <td>0</td>\n",
       "      <td>0</td>\n",
       "    </tr>\n",
       "    <tr>\n",
       "      <th>3</th>\n",
       "      <td>1.11</td>\n",
       "      <td>-71.0542</td>\n",
       "      <td>0.0567</td>\n",
       "      <td>43.83</td>\n",
       "      <td>38.38</td>\n",
       "      <td>1.00</td>\n",
       "      <td>0.1252</td>\n",
       "      <td>43.83</td>\n",
       "      <td>38.38</td>\n",
       "      <td>0</td>\n",
       "      <td>0</td>\n",
       "      <td>0</td>\n",
       "      <td>0</td>\n",
       "      <td>0</td>\n",
       "      <td>1</td>\n",
       "      <td>0</td>\n",
       "      <td>0</td>\n",
       "      <td>0</td>\n",
       "      <td>0</td>\n",
       "      <td>0</td>\n",
       "      <td>0</td>\n",
       "      <td>0</td>\n",
       "      <td>0</td>\n",
       "      <td>0</td>\n",
       "      <td>0</td>\n",
       "      <td>0</td>\n",
       "      <td>0</td>\n",
       "      <td>0</td>\n",
       "      <td>0</td>\n",
       "      <td>1</td>\n",
       "      <td>0</td>\n",
       "      <td>0</td>\n",
       "      <td>0</td>\n",
       "      <td>0</td>\n",
       "      <td>1</td>\n",
       "      <td>0</td>\n",
       "      <td>0</td>\n",
       "      <td>0</td>\n",
       "      <td>0</td>\n",
       "      <td>1</td>\n",
       "    </tr>\n",
       "    <tr>\n",
       "      <th>4</th>\n",
       "      <td>1.11</td>\n",
       "      <td>-71.0542</td>\n",
       "      <td>0.0000</td>\n",
       "      <td>33.83</td>\n",
       "      <td>32.85</td>\n",
       "      <td>0.91</td>\n",
       "      <td>0.0001</td>\n",
       "      <td>33.83</td>\n",
       "      <td>32.85</td>\n",
       "      <td>0</td>\n",
       "      <td>0</td>\n",
       "      <td>0</td>\n",
       "      <td>0</td>\n",
       "      <td>0</td>\n",
       "      <td>1</td>\n",
       "      <td>0</td>\n",
       "      <td>0</td>\n",
       "      <td>0</td>\n",
       "      <td>0</td>\n",
       "      <td>0</td>\n",
       "      <td>0</td>\n",
       "      <td>0</td>\n",
       "      <td>0</td>\n",
       "      <td>0</td>\n",
       "      <td>0</td>\n",
       "      <td>0</td>\n",
       "      <td>0</td>\n",
       "      <td>0</td>\n",
       "      <td>0</td>\n",
       "      <td>1</td>\n",
       "      <td>1</td>\n",
       "      <td>0</td>\n",
       "      <td>0</td>\n",
       "      <td>0</td>\n",
       "      <td>0</td>\n",
       "      <td>1</td>\n",
       "      <td>0</td>\n",
       "      <td>0</td>\n",
       "      <td>0</td>\n",
       "      <td>0</td>\n",
       "    </tr>\n",
       "  </tbody>\n",
       "</table>\n",
       "</div>"
      ],
      "text/plain": [
       "   distance  longitude  precipIntensity  temperatureHigh  \\\n",
       "0      1.11   -71.0542           0.0000            42.52   \n",
       "1      1.11   -71.0542           0.0000            33.83   \n",
       "2      1.11   -71.0542           0.0000            33.83   \n",
       "3      1.11   -71.0542           0.0567            43.83   \n",
       "4      1.11   -71.0542           0.0000            33.83   \n",
       "\n",
       "   apparentTemperatureHigh  cloudCover  precipIntensityMax  temperatureMax  \\\n",
       "0                    40.53        1.00              0.0003           42.52   \n",
       "1                    32.85        0.03              0.0001           33.83   \n",
       "2                    32.85        0.64              0.0001           33.83   \n",
       "3                    38.38        1.00              0.1252           43.83   \n",
       "4                    32.85        0.91              0.0001           33.83   \n",
       "\n",
       "   apparentTemperatureMax  source_Beacon Hill  source_Boston University  \\\n",
       "0                   40.53                   0                         0   \n",
       "1                   32.85                   0                         0   \n",
       "2                   32.85                   0                         0   \n",
       "3                   38.38                   0                         0   \n",
       "4                   32.85                   0                         0   \n",
       "\n",
       "   source_Fenway  source_Financial District  source_Haymarket Square  \\\n",
       "0              0                          0                        0   \n",
       "1              0                          0                        0   \n",
       "2              0                          0                        0   \n",
       "3              0                          0                        0   \n",
       "4              0                          0                        0   \n",
       "\n",
       "   source_North End  source_North Station  source_Northeastern University  \\\n",
       "0                 1                     0                               0   \n",
       "1                 1                     0                               0   \n",
       "2                 1                     0                               0   \n",
       "3                 1                     0                               0   \n",
       "4                 1                     0                               0   \n",
       "\n",
       "   source_South Station  source_Theatre District  source_West End  \\\n",
       "0                     0                        0                0   \n",
       "1                     0                        0                0   \n",
       "2                     0                        0                0   \n",
       "3                     0                        0                0   \n",
       "4                     0                        0                0   \n",
       "\n",
       "   destination_Beacon Hill  destination_Boston University  destination_Fenway  \\\n",
       "0                        0                              0                   0   \n",
       "1                        0                              0                   0   \n",
       "2                        0                              0                   0   \n",
       "3                        0                              0                   0   \n",
       "4                        0                              0                   0   \n",
       "\n",
       "   destination_Financial District  destination_Haymarket Square  \\\n",
       "0                               0                             0   \n",
       "1                               0                             0   \n",
       "2                               0                             0   \n",
       "3                               0                             0   \n",
       "4                               0                             0   \n",
       "\n",
       "   destination_North Station  destination_Northeastern University  \\\n",
       "0                          0                                    0   \n",
       "1                          0                                    0   \n",
       "2                          0                                    0   \n",
       "3                          0                                    0   \n",
       "4                          0                                    0   \n",
       "\n",
       "   destination_South Station  destination_Theatre District  \\\n",
       "0                          0                             0   \n",
       "1                          0                             0   \n",
       "2                          0                             0   \n",
       "3                          0                             0   \n",
       "4                          0                             0   \n",
       "\n",
       "   destination_West End  Service_type_Black SUV  Service_type_UberPool  \\\n",
       "0                     1                       0                      0   \n",
       "1                     1                       0                      0   \n",
       "2                     1                       0                      0   \n",
       "3                     1                       0                      0   \n",
       "4                     1                       1                      0   \n",
       "\n",
       "   Service_type_UberX  Service_type_UberXL  Service_type_WAV  \\\n",
       "0                   0                    1                 0   \n",
       "1                   0                    0                 0   \n",
       "2                   1                    0                 0   \n",
       "3                   0                    0                 1   \n",
       "4                   0                    0                 0   \n",
       "\n",
       "   weather_condition_ cloudy   weather_condition_ fog   \\\n",
       "0                           1                        0   \n",
       "1                           0                        0   \n",
       "2                           0                        0   \n",
       "3                           0                        0   \n",
       "4                           1                        0   \n",
       "\n",
       "   weather_condition_ partly-cloudy-day   \\\n",
       "0                                      0   \n",
       "1                                      0   \n",
       "2                                      1   \n",
       "3                                      0   \n",
       "4                                      0   \n",
       "\n",
       "   weather_condition_ partly-cloudy-night   weather_condition_ rain   \n",
       "0                                        0                         0  \n",
       "1                                        0                         0  \n",
       "2                                        0                         0  \n",
       "3                                        0                         1  \n",
       "4                                        0                         0  "
      ]
     },
     "execution_count": 46,
     "metadata": {},
     "output_type": "execute_result"
    }
   ],
   "source": [
    "X_40 = X[X.columns[rfe.support_]]\n",
    "X_40.head()"
   ]
  },
  {
   "cell_type": "code",
   "execution_count": 47,
   "id": "c22f24d8",
   "metadata": {
    "execution": {
     "iopub.execute_input": "2021-12-17T13:28:03.508203Z",
     "iopub.status.busy": "2021-12-17T13:28:03.507477Z",
     "iopub.status.idle": "2021-12-17T13:28:03.616159Z",
     "shell.execute_reply": "2021-12-17T13:28:03.615372Z",
     "shell.execute_reply.started": "2021-12-17T13:06:45.247372Z"
    },
    "papermill": {
     "duration": 0.233458,
     "end_time": "2021-12-17T13:28:03.616342",
     "exception": false,
     "start_time": "2021-12-17T13:28:03.382884",
     "status": "completed"
    },
    "tags": []
   },
   "outputs": [
    {
     "data": {
      "text/plain": [
       "(231397, 40)"
      ]
     },
     "execution_count": 47,
     "metadata": {},
     "output_type": "execute_result"
    }
   ],
   "source": [
    "X_train, X_test, y_train, y_test = train_test_split(X_40, y, test_size = 0.3, random_state = 10)\n",
    "X_train.shape"
   ]
  },
  {
   "cell_type": "code",
   "execution_count": 48,
   "id": "484e8a97",
   "metadata": {
    "execution": {
     "iopub.execute_input": "2021-12-17T13:28:03.861498Z",
     "iopub.status.busy": "2021-12-17T13:28:03.860342Z",
     "iopub.status.idle": "2021-12-17T13:28:04.449570Z",
     "shell.execute_reply": "2021-12-17T13:28:04.451182Z",
     "shell.execute_reply.started": "2021-12-17T13:06:45.330142Z"
    },
    "papermill": {
     "duration": 0.715626,
     "end_time": "2021-12-17T13:28:04.451516",
     "exception": false,
     "start_time": "2021-12-17T13:28:03.735890",
     "status": "completed"
    },
    "tags": []
   },
   "outputs": [],
   "source": [
    "# Creating a model\n",
    "reg1 = LinearRegression()\n",
    "# Fitting training data\n",
    "reg1 = reg1.fit(X_train, y_train)\n",
    "reg1.score(X_train, y_train)\n",
    "R_squared['Feature_40'] = reg1.score(X_test, y_test)"
   ]
  },
  {
   "cell_type": "code",
   "execution_count": 49,
   "id": "5f62f5b7",
   "metadata": {
    "execution": {
     "iopub.execute_input": "2021-12-17T13:28:04.750690Z",
     "iopub.status.busy": "2021-12-17T13:28:04.749723Z",
     "iopub.status.idle": "2021-12-17T13:28:04.753062Z",
     "shell.execute_reply": "2021-12-17T13:28:04.753543Z",
     "shell.execute_reply.started": "2021-12-17T13:06:45.755983Z"
    },
    "papermill": {
     "duration": 0.130521,
     "end_time": "2021-12-17T13:28:04.753747",
     "exception": false,
     "start_time": "2021-12-17T13:28:04.623226",
     "status": "completed"
    },
    "tags": []
   },
   "outputs": [
    {
     "data": {
      "text/plain": [
       "{'Feature_76': 0.9207912402582811,\n",
       " 'Feature_60': 0.921107120589146,\n",
       " 'Feature_40': 0.9211135407341601}"
      ]
     },
     "execution_count": 49,
     "metadata": {},
     "output_type": "execute_result"
    }
   ],
   "source": [
    "R_squared"
   ]
  },
  {
   "cell_type": "code",
   "execution_count": 50,
   "id": "039171b4",
   "metadata": {
    "execution": {
     "iopub.execute_input": "2021-12-17T13:28:05.003960Z",
     "iopub.status.busy": "2021-12-17T13:28:05.003088Z",
     "iopub.status.idle": "2021-12-17T13:28:05.006612Z",
     "shell.execute_reply": "2021-12-17T13:28:05.007350Z",
     "shell.execute_reply.started": "2021-12-17T13:06:45.764916Z"
    },
    "papermill": {
     "duration": 0.133231,
     "end_time": "2021-12-17T13:28:05.007605",
     "exception": false,
     "start_time": "2021-12-17T13:28:04.874374",
     "status": "completed"
    },
    "tags": []
   },
   "outputs": [
    {
     "name": "stdout",
     "output_type": "stream",
     "text": [
      "The highest is  Feature_40  And The minimum is Feature_76\n"
     ]
    }
   ],
   "source": [
    "print(\"The highest is \",max(R_squared,key=R_squared.get), \" And The minimum is\",min(R_squared,key=R_squared.get))"
   ]
  },
  {
   "cell_type": "markdown",
   "id": "68c4e672",
   "metadata": {
    "papermill": {
     "duration": 0.118769,
     "end_time": "2021-12-17T13:28:05.247409",
     "exception": false,
     "start_time": "2021-12-17T13:28:05.128640",
     "status": "completed"
    },
    "tags": []
   },
   "source": [
    "<h5>Since we have the highest R squared with 40 feature i will continue with this columns</h5>"
   ]
  },
  {
   "cell_type": "code",
   "execution_count": 51,
   "id": "76ef2777",
   "metadata": {
    "execution": {
     "iopub.execute_input": "2021-12-17T13:28:05.490852Z",
     "iopub.status.busy": "2021-12-17T13:28:05.489866Z",
     "iopub.status.idle": "2021-12-17T13:28:05.495916Z",
     "shell.execute_reply": "2021-12-17T13:28:05.496359Z",
     "shell.execute_reply.started": "2021-12-17T13:06:45.778470Z"
    },
    "papermill": {
     "duration": 0.130153,
     "end_time": "2021-12-17T13:28:05.496557",
     "exception": false,
     "start_time": "2021-12-17T13:28:05.366404",
     "status": "completed"
    },
    "tags": []
   },
   "outputs": [
    {
     "data": {
      "text/plain": [
       "Index(['distance', 'longitude', 'precipIntensity', 'temperatureHigh',\n",
       "       'apparentTemperatureHigh', 'cloudCover', 'precipIntensityMax',\n",
       "       'temperatureMax', 'apparentTemperatureMax', 'source_Beacon Hill',\n",
       "       'source_Boston University', 'source_Fenway',\n",
       "       'source_Financial District', 'source_Haymarket Square',\n",
       "       'source_North End', 'source_North Station',\n",
       "       'source_Northeastern University', 'source_South Station',\n",
       "       'source_Theatre District', 'source_West End', 'destination_Beacon Hill',\n",
       "       'destination_Boston University', 'destination_Fenway',\n",
       "       'destination_Financial District', 'destination_Haymarket Square',\n",
       "       'destination_North Station', 'destination_Northeastern University',\n",
       "       'destination_South Station', 'destination_Theatre District',\n",
       "       'destination_West End', 'Service_type_Black SUV',\n",
       "       'Service_type_UberPool', 'Service_type_UberX', 'Service_type_UberXL',\n",
       "       'Service_type_WAV', 'weather_condition_ cloudy ',\n",
       "       'weather_condition_ fog ', 'weather_condition_ partly-cloudy-day ',\n",
       "       'weather_condition_ partly-cloudy-night ', 'weather_condition_ rain '],\n",
       "      dtype='object')"
      ]
     },
     "execution_count": 51,
     "metadata": {},
     "output_type": "execute_result"
    }
   ],
   "source": [
    "X_40.columns"
   ]
  },
  {
   "cell_type": "code",
   "execution_count": 52,
   "id": "eb3e4dff",
   "metadata": {
    "execution": {
     "iopub.execute_input": "2021-12-17T13:28:05.741962Z",
     "iopub.status.busy": "2021-12-17T13:28:05.740890Z",
     "iopub.status.idle": "2021-12-17T13:28:05.840981Z",
     "shell.execute_reply": "2021-12-17T13:28:05.841455Z",
     "shell.execute_reply.started": "2021-12-17T13:06:45.795214Z"
    },
    "papermill": {
     "duration": 0.225446,
     "end_time": "2021-12-17T13:28:05.841664",
     "exception": false,
     "start_time": "2021-12-17T13:28:05.616218",
     "status": "completed"
    },
    "tags": []
   },
   "outputs": [
    {
     "data": {
      "text/plain": [
       "(264454, 40)"
      ]
     },
     "execution_count": 52,
     "metadata": {},
     "output_type": "execute_result"
    }
   ],
   "source": [
    "X_train, X_test, y_train, y_test = train_test_split(X_40, y, test_size = 0.2, random_state = 42) \n",
    "X_train.shape "
   ]
  },
  {
   "cell_type": "markdown",
   "id": "20d201de",
   "metadata": {
    "papermill": {
     "duration": 0.121714,
     "end_time": "2021-12-17T13:28:06.086500",
     "exception": false,
     "start_time": "2021-12-17T13:28:05.964786",
     "status": "completed"
    },
    "tags": []
   },
   "source": [
    "<h1>6. Model Selection</h1>"
   ]
  },
  {
   "cell_type": "code",
   "execution_count": 53,
   "id": "6c23c905",
   "metadata": {
    "execution": {
     "iopub.execute_input": "2021-12-17T13:28:06.334189Z",
     "iopub.status.busy": "2021-12-17T13:28:06.333302Z",
     "iopub.status.idle": "2021-12-17T13:28:06.336134Z",
     "shell.execute_reply": "2021-12-17T13:28:06.336610Z",
     "shell.execute_reply.started": "2021-12-17T13:06:45.911665Z"
    },
    "papermill": {
     "duration": 0.129554,
     "end_time": "2021-12-17T13:28:06.336842",
     "exception": false,
     "start_time": "2021-12-17T13:28:06.207288",
     "status": "completed"
    },
    "tags": []
   },
   "outputs": [],
   "source": [
    "from sklearn.tree import DecisionTreeRegressor\n",
    "from sklearn.ensemble import RandomForestRegressor "
   ]
  },
  {
   "cell_type": "markdown",
   "id": "2deb6e08",
   "metadata": {
    "papermill": {
     "duration": 0.120807,
     "end_time": "2021-12-17T13:28:06.578051",
     "exception": false,
     "start_time": "2021-12-17T13:28:06.457244",
     "status": "completed"
    },
    "tags": []
   },
   "source": [
    "<h3>6.1. Decision Tree Regressor</h3>"
   ]
  },
  {
   "cell_type": "code",
   "execution_count": 54,
   "id": "03c51ad8",
   "metadata": {
    "execution": {
     "iopub.execute_input": "2021-12-17T13:28:06.831107Z",
     "iopub.status.busy": "2021-12-17T13:28:06.830315Z",
     "iopub.status.idle": "2021-12-17T13:28:11.421979Z",
     "shell.execute_reply": "2021-12-17T13:28:11.422544Z",
     "shell.execute_reply.started": "2021-12-17T13:06:45.918166Z"
    },
    "papermill": {
     "duration": 4.722491,
     "end_time": "2021-12-17T13:28:11.422744",
     "exception": false,
     "start_time": "2021-12-17T13:28:06.700253",
     "status": "completed"
    },
    "tags": []
   },
   "outputs": [
    {
     "name": "stdout",
     "output_type": "stream",
     "text": [
      "Decision Tree Accuracy:  0.9132992711042197\n"
     ]
    }
   ],
   "source": [
    "decision = DecisionTreeRegressor(random_state = 0)  \n",
    "decision.fit(X_train, y_train)\n",
    "print(\"Decision Tree Accuracy: \", decision.score(X_test, y_test))"
   ]
  },
  {
   "cell_type": "markdown",
   "id": "615f2de2",
   "metadata": {
    "papermill": {
     "duration": 0.119651,
     "end_time": "2021-12-17T13:28:11.662129",
     "exception": false,
     "start_time": "2021-12-17T13:28:11.542478",
     "status": "completed"
    },
    "tags": []
   },
   "source": [
    "<h3>6.2. Random Forest Regressor</h3>"
   ]
  },
  {
   "cell_type": "code",
   "execution_count": 55,
   "id": "2fe6eaf3",
   "metadata": {
    "execution": {
     "iopub.execute_input": "2021-12-17T13:28:11.933910Z",
     "iopub.status.busy": "2021-12-17T13:28:11.933230Z",
     "iopub.status.idle": "2021-12-17T13:33:05.344364Z",
     "shell.execute_reply": "2021-12-17T13:33:05.345182Z",
     "shell.execute_reply.started": "2021-12-17T13:06:49.966118Z"
    },
    "papermill": {
     "duration": 293.53603,
     "end_time": "2021-12-17T13:33:05.345464",
     "exception": false,
     "start_time": "2021-12-17T13:28:11.809434",
     "status": "completed"
    },
    "tags": []
   },
   "outputs": [
    {
     "name": "stdout",
     "output_type": "stream",
     "text": [
      "Random Forest Accuracy:  0.9389463368203252\n"
     ]
    }
   ],
   "source": [
    "random = RandomForestRegressor(n_estimators=100, random_state=0)\n",
    "random.fit(X_train, y_train)\n",
    "print(\"Random Forest Accuracy: \", random.score(X_test, y_test))"
   ]
  },
  {
   "cell_type": "code",
   "execution_count": 56,
   "id": "f0745e73",
   "metadata": {
    "execution": {
     "iopub.execute_input": "2021-12-17T13:33:05.593546Z",
     "iopub.status.busy": "2021-12-17T13:33:05.592619Z",
     "iopub.status.idle": "2021-12-17T13:33:11.036043Z",
     "shell.execute_reply": "2021-12-17T13:33:11.035343Z",
     "shell.execute_reply.started": "2021-12-17T13:11:13.524774Z"
    },
    "papermill": {
     "duration": 5.568321,
     "end_time": "2021-12-17T13:33:11.036202",
     "exception": false,
     "start_time": "2021-12-17T13:33:05.467881",
     "status": "completed"
    },
    "tags": []
   },
   "outputs": [
    {
     "data": {
      "text/plain": [
       "(array([ 6.74554762,  7.44666667, 17.9865    , 19.51208333, 22.32568254]),\n",
       " 1071       5.5\n",
       " 75829      8.0\n",
       " 248976    18.5\n",
       " 57034     20.5\n",
       " 74393     23.5\n",
       " Name: price, dtype: float64)"
      ]
     },
     "execution_count": 56,
     "metadata": {},
     "output_type": "execute_result"
    }
   ],
   "source": [
    "y_pred = random.predict(X_test)\n",
    "y_pred[:5], y_test[:5]"
   ]
  },
  {
   "cell_type": "code",
   "execution_count": 57,
   "id": "847c7506",
   "metadata": {
    "execution": {
     "iopub.execute_input": "2021-12-17T13:33:11.290656Z",
     "iopub.status.busy": "2021-12-17T13:33:11.287146Z",
     "iopub.status.idle": "2021-12-17T13:33:12.093945Z",
     "shell.execute_reply": "2021-12-17T13:33:12.094507Z",
     "shell.execute_reply.started": "2021-12-17T13:11:17.758911Z"
    },
    "papermill": {
     "duration": 0.934159,
     "end_time": "2021-12-17T13:33:12.094708",
     "exception": false,
     "start_time": "2021-12-17T13:33:11.160549",
     "status": "completed"
    },
    "tags": []
   },
   "outputs": [
    {
     "data": {
      "image/png": "[encoded data removed]",
      "text/plain": [
       "<Figure size 720x360 with 1 Axes>"
      ]
     },
     "metadata": {
      "needs_background": "light"
     },
     "output_type": "display_data"
    }
   ],
   "source": [
    "sns.kdeplot(y_pred, color=\"green\")\n",
    "sns.kdeplot(y_test, color=\"red\")\n",
    "plt.title(\"Relation between Predicted and Actual value (Random Forest Model)\")\n",
    "plt.show()"
   ]
  },
  {
   "cell_type": "markdown",
   "id": "6a36cdf4",
   "metadata": {
    "papermill": {
     "duration": 0.122155,
     "end_time": "2021-12-17T13:33:12.339479",
     "exception": false,
     "start_time": "2021-12-17T13:33:12.217324",
     "status": "completed"
    },
    "tags": []
   },
   "source": [
    "<h3>6.3. Gradiant Boosting Regressor</h3>"
   ]
  },
  {
   "cell_type": "code",
   "execution_count": 58,
   "id": "aa01a9cb",
   "metadata": {
    "execution": {
     "iopub.execute_input": "2021-12-17T13:33:12.589132Z",
     "iopub.status.busy": "2021-12-17T13:33:12.588374Z",
     "iopub.status.idle": "2021-12-17T13:34:19.559241Z",
     "shell.execute_reply": "2021-12-17T13:34:19.559815Z",
     "shell.execute_reply.started": "2021-12-17T13:11:18.553534Z"
    },
    "papermill": {
     "duration": 67.097853,
     "end_time": "2021-12-17T13:34:19.560043",
     "exception": false,
     "start_time": "2021-12-17T13:33:12.462190",
     "status": "completed"
    },
    "tags": []
   },
   "outputs": [
    {
     "name": "stdout",
     "output_type": "stream",
     "text": [
      "Gradiant Boosting Accuracy:  0.9380966349028931\n",
      "[ 7.2369795   7.57364263 18.6188237  18.39488322 20.78472305]\n",
      "1071       5.5\n",
      "75829      8.0\n",
      "248976    18.5\n",
      "57034     20.5\n",
      "74393     23.5\n",
      "Name: price, dtype: float64\n"
     ]
    }
   ],
   "source": [
    "from sklearn import ensemble\n",
    "clf = ensemble.GradientBoostingRegressor(n_estimators = 100, max_depth = 3) \n",
    "clf.fit(X_train, y_train)\n",
    "print(\"Gradiant Boosting Accuracy: \", clf.score(X_test, y_test))\n",
    "y_predict = clf.predict(X_test)\n",
    "print(y_predict[:5]) \n",
    "print(y_test[:5]) "
   ]
  },
  {
   "cell_type": "code",
   "execution_count": 59,
   "id": "6d6140d6",
   "metadata": {
    "execution": {
     "iopub.execute_input": "2021-12-17T13:34:19.808093Z",
     "iopub.status.busy": "2021-12-17T13:34:19.807387Z",
     "iopub.status.idle": "2021-12-17T13:34:20.668619Z",
     "shell.execute_reply": "2021-12-17T13:34:20.667280Z",
     "shell.execute_reply.started": "2021-12-17T13:12:17.529750Z"
    },
    "papermill": {
     "duration": 0.9869,
     "end_time": "2021-12-17T13:34:20.668887",
     "exception": false,
     "start_time": "2021-12-17T13:34:19.681987",
     "status": "completed"
    },
    "tags": []
   },
   "outputs": [
    {
     "data": {
      "image/png": "[encoded data removed]",
      "text/plain": [
       "<Figure size 720x360 with 1 Axes>"
      ]
     },
     "metadata": {
      "needs_background": "light"
     },
     "output_type": "display_data"
    }
   ],
   "source": [
    "sns.kdeplot(y_predict, color=\"green\")  # Gradiant Boosting prediction\n",
    "sns.kdeplot(y_test, color=\"red\")     # Actual Value\n",
    "plt.title(\"Relation between Predicted and Actual value (Gradiant Boosting Model)\")\n",
    "plt.show()"
   ]
  },
  {
   "cell_type": "markdown",
   "id": "66ee8692",
   "metadata": {
    "papermill": {
     "duration": 0.127617,
     "end_time": "2021-12-17T13:34:20.925975",
     "exception": false,
     "start_time": "2021-12-17T13:34:20.798358",
     "status": "completed"
    },
    "tags": []
   },
   "source": [
    "Random Forest model prediction is more accurate (closer to the actual values) than the prediction of Gradiant Boosting model."
   ]
  },
  {
   "cell_type": "markdown",
   "id": "de0b3bc3",
   "metadata": {
    "papermill": {
     "duration": 0.125573,
     "end_time": "2021-12-17T13:34:21.181551",
     "exception": false,
     "start_time": "2021-12-17T13:34:21.055978",
     "status": "completed"
    },
    "tags": []
   },
   "source": [
    "<h1>7. Testing</h1>\n",
    "<ul>\n",
    "    <li><h3>Mean Squared Error (MSE):</h3></li>\n",
    "    <ul>\n",
    "        <li>A metric that tells us the average squared difference between the predicted values and the actual values in a dataset. The lower the MSE, the better a model fits a dataset.</li>\n",
    "        <h4>MSE = Σ(ŷi – yi)2 / n</h4>\n",
    "        <h4>where:</h4>\n",
    "        <ul>\n",
    "            <li>Σ is a symbol that means “sum”</li>\n",
    "            <li>ŷi is the predicted value for the ith observation</li>\n",
    "            <li>yi is the observed value for the ith observation</li>\n",
    "            <li>n is the sample size</li>\n",
    "        </ul>\n",
    "    </ul>\n",
    "</ul>\n",
    "<br>\n",
    "<ul>\n",
    "    <li><h3>Root Mean Squared Error (RMSE):</h3></li>\n",
    "    <ul>\n",
    "        <li>A metric that tells us the square root of the average squared difference between the predicted values and the actual values in a dataset. The lower the RMSE, the better a model fits a dataset.</li>\n",
    "        <h4>RMSE = √Σ(ŷi – yi)2 / n</h4>\n",
    "        <h4>where:</h4>\n",
    "        <ul>\n",
    "            <li>Σ is a symbol that means “sum”</li>\n",
    "            <li>ŷi is the predicted value for the ith observation</li>\n",
    "            <li>yi is the observed value for the ith observation</li>\n",
    "            <li>n is the sample size</li>\n",
    "        </ul>\n",
    "    </ul>\n",
    "</ul>"
   ]
  },
  {
   "cell_type": "markdown",
   "id": "215d4f04",
   "metadata": {
    "papermill": {
     "duration": 0.126213,
     "end_time": "2021-12-17T13:34:21.432014",
     "exception": false,
     "start_time": "2021-12-17T13:34:21.305801",
     "status": "completed"
    },
    "tags": []
   },
   "source": [
    "<h2>Testing:</h2>\n",
    "is a statistical method used to estimate the skill of machine learning models on new data.\n",
    "<ol>\n",
    "    <li><h4>K fold Cross Validation:</h4></li>\n",
    "    <ul>\n",
    "        <li>K fold Cross Validation is a statistical method used to estimate the skill of machine learning models on new data.</li>\n",
    "        <li><b>The general procedure is as follows:</b></li>\n",
    "        <ol>\n",
    "            <li>Shuffle the dataset randomly.</li>\n",
    "            <li>Split the dataset into k groups</li>\n",
    "            <li>For each unique group:</li>\n",
    "            <ol>\n",
    "                <li>Take the group as a hold out or test data set.</li>\n",
    "                <li>Take the remaining groups as a training data set</li>\n",
    "                <li>Fit a model on the training set and evaluate it on the test set</li>\n",
    "                <li>Retain the evaluation score and discard the model</li>\n",
    "            </ol>\n",
    "            <li>Summarize the skill of the model using the sample of model evaluation scores</li>\n",
    "        </ol>\n",
    "    </ul>\n",
    "    <li><h4>Testing For Random Forest Regressor & Gradiant Boosting Regressor</h4></li>\n",
    "</ol>"
   ]
  },
  {
   "cell_type": "markdown",
   "id": "f611f4cf",
   "metadata": {
    "papermill": {
     "duration": 0.130225,
     "end_time": "2021-12-17T13:34:21.687304",
     "exception": false,
     "start_time": "2021-12-17T13:34:21.557079",
     "status": "completed"
    },
    "tags": []
   },
   "source": [
    "* <b>Difference in KFold and ShuffleSplit output</b> <br>\n",
    "    * KFold will divide your data set into prespecified number of folds, and every sample must be in one and only one fold.<br>\n",
    "    * ShuffleSplit will randomly sample your entire dataset during each iteration to generate a training set and a test set."
   ]
  },
  {
   "cell_type": "code",
   "execution_count": 60,
   "id": "e239dae9",
   "metadata": {
    "execution": {
     "iopub.execute_input": "2021-12-17T13:34:21.948344Z",
     "iopub.status.busy": "2021-12-17T13:34:21.947249Z",
     "iopub.status.idle": "2021-12-17T13:34:22.546828Z",
     "shell.execute_reply": "2021-12-17T13:34:22.548602Z",
     "shell.execute_reply.started": "2021-12-17T13:12:18.304222Z"
    },
    "papermill": {
     "duration": 0.734432,
     "end_time": "2021-12-17T13:34:22.549033",
     "exception": false,
     "start_time": "2021-12-17T13:34:21.814601",
     "status": "completed"
    },
    "tags": []
   },
   "outputs": [
    {
     "name": "stdout",
     "output_type": "stream",
     "text": [
      "[-5.97658312 -5.75769404 -5.69086547 -5.51268916 -5.61090097]\n",
      " Mean of All Folds  is -5.709746550807628\n"
     ]
    }
   ],
   "source": [
    "from sklearn.model_selection import ShuffleSplit\n",
    "from sklearn.model_selection import cross_val_score\n",
    "\n",
    "cv = ShuffleSplit(n_splits=5,test_size=0.2,random_state=0)\n",
    "mse = cross_val_score(LinearRegression(),X_test,y_test,cv=cv , scoring='neg_mean_squared_error')\n",
    "print(mse)\n",
    "print(' Mean of All Folds  is',mse.mean() )"
   ]
  },
  {
   "cell_type": "code",
   "execution_count": 61,
   "id": "854af39c",
   "metadata": {
    "execution": {
     "iopub.execute_input": "2021-12-17T13:34:22.863953Z",
     "iopub.status.busy": "2021-12-17T13:34:22.862913Z",
     "iopub.status.idle": "2021-12-17T13:34:30.280388Z",
     "shell.execute_reply": "2021-12-17T13:34:30.279797Z",
     "shell.execute_reply.started": "2021-12-17T13:12:18.787785Z"
    },
    "papermill": {
     "duration": 7.552321,
     "end_time": "2021-12-17T13:34:30.280559",
     "exception": false,
     "start_time": "2021-12-17T13:34:22.728238",
     "status": "completed"
    },
    "tags": []
   },
   "outputs": [
    {
     "name": "stdout",
     "output_type": "stream",
     "text": [
      "MAE :   1.3039658270619743\n",
      "MSE :   4.41942086698282\n",
      "RMAE :   2.102241866908473\n"
     ]
    },
    {
     "data": {
      "text/plain": [
       "Text(0, 0.5, 'Predicted  Price ')"
      ]
     },
     "execution_count": 61,
     "metadata": {},
     "output_type": "execute_result"
    },
    {
     "data": {
      "image/png": "[encoded data removed]",
      "text/plain": [
       "<Figure size 720x360 with 1 Axes>"
      ]
     },
     "metadata": {
      "needs_background": "light"
     },
     "output_type": "display_data"
    }
   ],
   "source": [
    "from sklearn import metrics\n",
    "print('MAE :',\" \", metrics.mean_absolute_error(y_test,y_pred))\n",
    "print('MSE :',\" \", metrics.mean_squared_error(y_test,y_pred))\n",
    "print('RMAE :',\" \", np.sqrt(metrics.mean_squared_error(y_test,y_pred))) \n",
    "sns.regplot(y_test,y_pred)\n",
    "plt.xlabel('Price  Test')\n",
    "plt.ylabel('Predicted  Price ')"
   ]
  },
  {
   "cell_type": "code",
   "execution_count": 62,
   "id": "8d499d60",
   "metadata": {
    "execution": {
     "iopub.execute_input": "2021-12-17T13:34:30.543354Z",
     "iopub.status.busy": "2021-12-17T13:34:30.542595Z",
     "iopub.status.idle": "2021-12-17T13:34:37.509322Z",
     "shell.execute_reply": "2021-12-17T13:34:37.508728Z",
     "shell.execute_reply.started": "2021-12-17T13:12:24.957017Z"
    },
    "papermill": {
     "duration": 7.100205,
     "end_time": "2021-12-17T13:34:37.509485",
     "exception": false,
     "start_time": "2021-12-17T13:34:30.409280",
     "status": "completed"
    },
    "tags": []
   },
   "outputs": [
    {
     "name": "stdout",
     "output_type": "stream",
     "text": [
      "MAE :   1.3573291370708043\n",
      "MSE :   4.480927256428509\n",
      "RMAE :   2.1168200812606885\n"
     ]
    },
    {
     "data": {
      "text/plain": [
       "Text(0, 0.5, 'Predicted  Price ')"
      ]
     },
     "execution_count": 62,
     "metadata": {},
     "output_type": "execute_result"
    },
    {
     "data": {
      "image/png": "[encoded data removed]",
      "text/plain": [
       "<Figure size 720x360 with 1 Axes>"
      ]
     },
     "metadata": {
      "needs_background": "light"
     },
     "output_type": "display_data"
    }
   ],
   "source": [
    "print('MAE :',\" \", metrics.mean_absolute_error(y_test,y_predict))\n",
    "print('MSE :',\" \", metrics.mean_squared_error(y_test,y_predict))\n",
    "print('RMAE :',\" \", np.sqrt(metrics.mean_squared_error(y_test,y_predict))) \n",
    "\n",
    "sns.regplot(y_test,y_predict)\n",
    "plt.xlabel('Price  Test')\n",
    "plt.ylabel('Predicted  Price ')"
   ]
  }
 ],
 "metadata": {
  "kernelspec": {
   "display_name": "Python 3",
   "language": "python",
   "name": "python3"
  },
  "language_info": {
   "codemirror_mode": {
    "name": "ipython",
    "version": 3
   },
   "file_extension": ".py",
   "mimetype": "text/x-python",
   "name": "python",
   "nbconvert_exporter": "python",
   "pygments_lexer": "ipython3",
   "version": "3.7.12"
  },
  "papermill": {
   "default_parameters": {},
   "duration": 606.353334,
   "end_time": "2021-12-17T13:34:39.989851",
   "environment_variables": {},
   "exception": null,
   "input_path": "__notebook__.ipynb",
   "output_path": "__notebook__.ipynb",
   "parameters": {},
   "start_time": "2021-12-17T13:24:33.636517",
   "version": "2.3.3"
  }
 },
 "nbformat": 4,
 "nbformat_minor": 5
}
